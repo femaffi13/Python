{
 "cells": [
  {
   "cell_type": "markdown",
   "source": [
    "# Lectura de Archivos en Pandas"
   ],
   "metadata": {}
  },
  {
   "cell_type": "code",
   "execution_count": 11,
   "source": [
    "import pandas as pd\r\n",
    "archivo = pd.read_excel(\"Datos.xlsx\") \r\n",
    "print(archivo)"
   ],
   "outputs": [
    {
     "output_type": "stream",
     "name": "stdout",
     "text": [
      "   Legajo Nombre    Apellido  Quimica  Matematica  Fisica\n",
      "0   34567   Juan    Martinez       10           7       9\n",
      "1   34678  Pablo    Gonzales        4           9       4\n",
      "2   34234  Maria  Citanovich        2           4       4\n",
      "3   35679    Sol        Rios        9           8      10\n",
      "4   36789  Paula       Lagos        8           5       8\n",
      "5   32578  Tomas         Reu        1           4       2\n"
     ]
    }
   ],
   "metadata": {}
  },
  {
   "cell_type": "code",
   "execution_count": 16,
   "source": [
    "data = archivo.to_dict(\"list\") \r\n",
    "# \"list\" significa que vamos a almacenar a cada columna como una lista con su contenido\r\n",
    "\r\n",
    "print(f'Diccionario de data: \\n{data}')\r\n",
    "print(data['Nombre'])     # Accedemos a los datos de una columna\r\n",
    "print(data['Nombre'][2])  # Accedemos al índice 2 de la columna 'Nombres'"
   ],
   "outputs": [
    {
     "output_type": "stream",
     "name": "stdout",
     "text": [
      "Diccionario de data: \n",
      "{'Legajo': [34567, 34678, 34234, 35679, 36789, 32578], 'Nombre': ['Juan', 'Pablo', 'Maria', 'Sol', 'Paula', 'Tomas'], 'Apellido': ['Martinez', 'Gonzales', 'Citanovich', 'Rios', 'Lagos', 'Reu'], 'Quimica': [10, 4, 2, 9, 8, 1], 'Matematica': [7, 9, 4, 8, 5, 4], 'Fisica': [9, 4, 4, 10, 8, 2]}\n",
      "['Juan', 'Pablo', 'Maria', 'Sol', 'Paula', 'Tomas']\n",
      "Maria\n"
     ]
    }
   ],
   "metadata": {}
  },
  {
   "cell_type": "code",
   "execution_count": 8,
   "source": [
    "archivo = pd.read_excel(\"Datos.xlsx\") \r\n",
    "\r\n",
    "data = archivo.to_dict(\"records\") \r\n",
    "# \"records\" significa que vamos a obtener el contenido separado por cada fila\r\n",
    "\r\n",
    "print(data)\r\n",
    "print(data[2])            # Accedemos a los datos de una fila\r\n",
    "print(data[2]['Nombre'])  # Accedemos a la columna 'Nombres' de la fila con índice 2"
   ],
   "outputs": [
    {
     "output_type": "stream",
     "name": "stdout",
     "text": [
      "[{'Legajo': 34567, 'Nombre': 'Juan', 'Apellido': 'Martinez', 'Quimica': 10, 'Matematica': 7, 'Fisica': 9}, {'Legajo': 34678, 'Nombre': 'Pablo', 'Apellido': 'Gonzales', 'Quimica': 4, 'Matematica': 9, 'Fisica': 4}, {'Legajo': 34234, 'Nombre': 'Maria', 'Apellido': 'Citanovich', 'Quimica': 2, 'Matematica': 4, 'Fisica': 4}, {'Legajo': 35679, 'Nombre': 'Sol', 'Apellido': 'Rios', 'Quimica': 9, 'Matematica': 8, 'Fisica': 10}, {'Legajo': 36789, 'Nombre': 'Paula', 'Apellido': 'Lagos', 'Quimica': 8, 'Matematica': 5, 'Fisica': 8}, {'Legajo': 32578, 'Nombre': 'Tomas', 'Apellido': 'Reu', 'Quimica': 1, 'Matematica': 4, 'Fisica': 2}]\n",
      "{'Legajo': 34234, 'Nombre': 'Maria', 'Apellido': 'Citanovich', 'Quimica': 2, 'Matematica': 4, 'Fisica': 4}\n",
      "Maria\n"
     ]
    }
   ],
   "metadata": {}
  },
  {
   "cell_type": "code",
   "execution_count": 18,
   "source": [
    "# Indicamos que la columna de indexación será apellido.\r\n",
    "archivo = pd.read_excel(\"Datos.xlsx\", index_col =\"Apellido\") \r\n",
    "print(archivo)\r\n",
    "\r\n",
    "data = archivo.to_dict(\"index\") \r\n",
    "# \"index\" significa que vamos a obtener el contenido como diccionarios \r\n",
    "# donde la clave es algun campo de cada fila, en este caso la clave de los \r\n",
    "# diccionarios será la clave \"Apellido\"\r\n",
    "\r\n",
    "# convertimos el tipo de dato de pandas a un dict de python\r\n",
    "print(f'Diccionario por clave apellido: \\n{data}')\r\n",
    "print(data['Martinez'])           # Accedemos a los datos de una fila (usando el dato de índice apropiado)\r\n",
    "print(data['Martinez']['Legajo']) # Accedemos a la columna 'Legajo' de la fila con índice 'Martinez'"
   ],
   "outputs": [
    {
     "output_type": "stream",
     "name": "stdout",
     "text": [
      "            Legajo Nombre  Quimica  Matematica  Fisica\n",
      "Apellido                                              \n",
      "Martinez     34567   Juan       10           7       9\n",
      "Gonzales     34678  Pablo        4           9       4\n",
      "Citanovich   34234  Maria        2           4       4\n",
      "Rios         35679    Sol        9           8      10\n",
      "Lagos        36789  Paula        8           5       8\n",
      "Reu          32578  Tomas        1           4       2\n",
      "Diccionario por clave apellido: \n",
      "{'Martinez': {'Legajo': 34567, 'Nombre': 'Juan', 'Quimica': 10, 'Matematica': 7, 'Fisica': 9}, 'Gonzales': {'Legajo': 34678, 'Nombre': 'Pablo', 'Quimica': 4, 'Matematica': 9, 'Fisica': 4}, 'Citanovich': {'Legajo': 34234, 'Nombre': 'Maria', 'Quimica': 2, 'Matematica': 4, 'Fisica': 4}, 'Rios': {'Legajo': 35679, 'Nombre': 'Sol', 'Quimica': 9, 'Matematica': 8, 'Fisica': 10}, 'Lagos': {'Legajo': 36789, 'Nombre': 'Paula', 'Quimica': 8, 'Matematica': 5, 'Fisica': 8}, 'Reu': {'Legajo': 32578, 'Nombre': 'Tomas', 'Quimica': 1, 'Matematica': 4, 'Fisica': 2}}\n",
      "{'Legajo': 34567, 'Nombre': 'Juan', 'Quimica': 10, 'Matematica': 7, 'Fisica': 9}\n",
      "34567\n"
     ]
    }
   ],
   "metadata": {}
  }
 ],
 "metadata": {
  "orig_nbformat": 4,
  "language_info": {
   "name": "python",
   "version": "3.8.5",
   "mimetype": "text/x-python",
   "codemirror_mode": {
    "name": "ipython",
    "version": 3
   },
   "pygments_lexer": "ipython3",
   "nbconvert_exporter": "python",
   "file_extension": ".py"
  },
  "kernelspec": {
   "name": "python3",
   "display_name": "Python 3.8.5 32-bit"
  },
  "interpreter": {
   "hash": "4dbc7d319552f751da30033d7b4995c635b04ff01c80dae115406c1f1bb6c9c9"
  }
 },
 "nbformat": 4,
 "nbformat_minor": 2
}