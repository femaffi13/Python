{
 "cells": [
  {
   "cell_type": "markdown",
   "source": [
    "# Escritura de Archivos en Pandas"
   ],
   "metadata": {}
  },
  {
   "cell_type": "code",
   "execution_count": 1,
   "source": [
    "import pandas as pd\r\n",
    "\r\n",
    "# La clave es el titulo de la columna y el contenido son listas con los items de cada columna\r\n",
    "data = {\r\n",
    "    \"Personas\" : [\"Analía Ferreyra\" , \"Martin Hugo\", \"Fernando Lorenzo\"],\r\n",
    "    \"Edad\" : [25, 35, 87] \r\n",
    "}\r\n",
    "\r\n",
    "# Con pd.DataFrame podemos generar una variable tipo DataFrame\r\n",
    "# Recordemos que DataFrame es el tipo de dato que usa pandas\r\n",
    "dataFrame = pd.DataFrame(data) \r\n",
    "\r\n",
    "print(dataFrame)\r\n",
    "\r\n",
    "# Exportamos la información a un archivo llamado \"personas.xlsx\"\r\n",
    "dataFrame.to_excel(\"personas.xlsx\") "
   ],
   "outputs": [
    {
     "output_type": "stream",
     "name": "stdout",
     "text": [
      "           Personas  Edad\n",
      "0   Analía Ferreyra    25\n",
      "1       Martin Hugo    35\n",
      "2  Fernando Lorenzo    87\n"
     ]
    }
   ],
   "metadata": {}
  },
  {
   "cell_type": "code",
   "execution_count": null,
   "source": [],
   "outputs": [],
   "metadata": {}
  }
 ],
 "metadata": {
  "orig_nbformat": 4,
  "language_info": {
   "name": "python",
   "version": "3.8.5",
   "mimetype": "text/x-python",
   "codemirror_mode": {
    "name": "ipython",
    "version": 3
   },
   "pygments_lexer": "ipython3",
   "nbconvert_exporter": "python",
   "file_extension": ".py"
  },
  "kernelspec": {
   "name": "python3",
   "display_name": "Python 3.8.5 32-bit"
  },
  "interpreter": {
   "hash": "4dbc7d319552f751da30033d7b4995c635b04ff01c80dae115406c1f1bb6c9c9"
  }
 },
 "nbformat": 4,
 "nbformat_minor": 2
}