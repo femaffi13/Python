{
 "cells": [
  {
   "cell_type": "markdown",
   "source": [
    "## Leer el archivo Tabla1.xlsx que contiene los puntos de un campeonato. El archivo tiene cuatro columnas, Equipo, Puntos, Goles a favor y Goles en contra. Determinar de cada equipo la diferencia de gol (goles a favor - goles en contra), y mostrar todas las diferencias de gol usando print."
   ],
   "metadata": {}
  },
  {
   "cell_type": "code",
   "execution_count": 1,
   "source": [
    "import pandas as pd\r\n",
    "archivo = pd.read_excel(\"Tabla1.xlsx\") \r\n",
    "print(archivo)"
   ],
   "outputs": [
    {
     "output_type": "stream",
     "name": "stdout",
     "text": [
      "     Equipo  Puntos  Goles a favor  Goles en contra\n",
      "0  Equipo A      30             65               10\n",
      "1  Equipo B      25             45               15\n",
      "2  Equipo C      27             60               20\n",
      "3  Equipo D      17             30               60\n",
      "4  Equipo E      19             25               30\n",
      "5  Equipo F      23             45               20\n"
     ]
    }
   ],
   "metadata": {}
  },
  {
   "cell_type": "code",
   "execution_count": 38,
   "source": [
    "data = archivo.to_dict(\"records\") \r\n",
    "# \"records\" obteniene el contenido separado por cada registro\r\n",
    "print(f'Diccionario de data: \\n{data}\\n')\r\n",
    "for valor in data:\r\n",
    "    gf = valor['Goles a favor']\r\n",
    "    gc = valor['Goles en contra']\r\n",
    "    dg = gf-gc\r\n",
    "    print(f\"{valor['Equipo']}: {dg} de diferencia de gol\")"
   ],
   "outputs": [
    {
     "output_type": "stream",
     "name": "stdout",
     "text": [
      "Diccionario de data: \n",
      "[{'Equipo': 'Equipo A', 'Puntos': 30, 'Goles a favor': 65, 'Goles en contra': 10}, {'Equipo': 'Equipo B', 'Puntos': 25, 'Goles a favor': 45, 'Goles en contra': 15}, {'Equipo': 'Equipo C', 'Puntos': 27, 'Goles a favor': 60, 'Goles en contra': 20}, {'Equipo': 'Equipo D', 'Puntos': 17, 'Goles a favor': 30, 'Goles en contra': 60}, {'Equipo': 'Equipo E', 'Puntos': 19, 'Goles a favor': 25, 'Goles en contra': 30}, {'Equipo': 'Equipo F', 'Puntos': 23, 'Goles a favor': 45, 'Goles en contra': 20}]\n",
      "\n",
      "Equipo A: 55 de diferencia de gol\n",
      "Equipo B: 30 de diferencia de gol\n",
      "Equipo C: 40 de diferencia de gol\n",
      "Equipo D: -30 de diferencia de gol\n",
      "Equipo E: -5 de diferencia de gol\n",
      "Equipo F: 25 de diferencia de gol\n"
     ]
    }
   ],
   "metadata": {}
  },
  {
   "cell_type": "markdown",
   "source": [
    "## Leer el archivo Tabla1.xlsx que contiene los puntos de un campeonato y determinar qué equipo es el campeón (1ro) y perdedor (último). El archivo tiene cuatro columnas, Equipo, Puntos, Goles a favor y Goles en contra."
   ],
   "metadata": {}
  },
  {
   "cell_type": "code",
   "execution_count": 37,
   "source": [
    "data = archivo.to_dict(\"records\") \r\n",
    "max = 1\r\n",
    "min = 99\r\n",
    "for valor in data:\r\n",
    "    if valor['Puntos'] > max:\r\n",
    "        max = valor['Puntos']\r\n",
    "        campeon = valor['Equipo']\r\n",
    "\r\n",
    "    if valor['Puntos'] < min:\r\n",
    "        min = valor['Puntos']\r\n",
    "        ultimo = valor['Equipo']\r\n",
    "\r\n",
    "print(f\"Equipo campeón: {campeon}\")\r\n",
    "print(f\"Equipo último: {ultimo}\")"
   ],
   "outputs": [
    {
     "output_type": "stream",
     "name": "stdout",
     "text": [
      "Equipo campeón: Equipo A\n",
      "Equipo último: Equipo D\n"
     ]
    }
   ],
   "metadata": {}
  }
 ],
 "metadata": {
  "orig_nbformat": 4,
  "language_info": {
   "name": "python",
   "version": "3.8.5",
   "mimetype": "text/x-python",
   "codemirror_mode": {
    "name": "ipython",
    "version": 3
   },
   "pygments_lexer": "ipython3",
   "nbconvert_exporter": "python",
   "file_extension": ".py"
  },
  "kernelspec": {
   "name": "python3",
   "display_name": "Python 3.8.5 32-bit"
  },
  "interpreter": {
   "hash": "4dbc7d319552f751da30033d7b4995c635b04ff01c80dae115406c1f1bb6c9c9"
  }
 },
 "nbformat": 4,
 "nbformat_minor": 2
}