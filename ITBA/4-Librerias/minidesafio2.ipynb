{
 "cells": [
  {
   "cell_type": "markdown",
   "source": [
    "## Calcular el promedio de las notas de química de todos los alumnos en el archivo Datos.xlsx."
   ],
   "metadata": {}
  },
  {
   "cell_type": "code",
   "execution_count": 1,
   "source": [
    "import pandas as pd\r\n",
    "\r\n",
    "datos = pd.read_excel(\"Datos.xlsx\") \r\n",
    "print(datos)"
   ],
   "outputs": [
    {
     "output_type": "stream",
     "name": "stdout",
     "text": [
      "   Legajo Nombre    Apellido  Quimica  Matematica  Fisica\n",
      "0   34567   Juan    Martinez       10           7       9\n",
      "1   34678  Pablo    Gonzales        4           9       4\n",
      "2   34234  Maria  Citanovich        2           4       4\n",
      "3   35679    Sol        Rios        9           8      10\n",
      "4   36789  Paula       Lagos        8           5       8\n",
      "5   32578  Tomas         Reu        1           4       2\n"
     ]
    }
   ],
   "metadata": {}
  },
  {
   "cell_type": "code",
   "execution_count": 6,
   "source": [
    "print(f\"Promedio de todos los alumnos en Química: {round(sum(datos['Quimica']) / len(datos),2)}\")"
   ],
   "outputs": [
    {
     "output_type": "stream",
     "name": "stdout",
     "text": [
      "Promedio de todos los alumnos en Química: 5.67\n"
     ]
    }
   ],
   "metadata": {}
  },
  {
   "cell_type": "markdown",
   "source": [
    "## Escribir una funcion que reciba como parámetros: una variable de tipo DataFrame (la tabla de alumnos) y el índice de un alumno. Luego debe devolver con return el promedio de sus notas en las diferentes materias."
   ],
   "metadata": {}
  },
  {
   "cell_type": "code",
   "execution_count": 13,
   "source": [
    "def promedio(df, i):\r\n",
    "    pq = df.iloc[i]['Quimica']\r\n",
    "    pm = df.iloc[i]['Matematica']\r\n",
    "    pf = df.iloc[i]['Fisica']\r\n",
    "    return print(f'Promedio índice número {i}: \\nQuímica: {pq} \\nMatemática: {pm} \\nFísica: {pf}')\r\n",
    "\r\n",
    "promedio(datos, 1)"
   ],
   "outputs": [
    {
     "output_type": "stream",
     "name": "stdout",
     "text": [
      "Promedio índice número 1: \n",
      "Química: 4 \n",
      "Matemática: 9 \n",
      "Física: 4\n"
     ]
    }
   ],
   "metadata": {}
  },
  {
   "cell_type": "code",
   "execution_count": null,
   "source": [],
   "outputs": [],
   "metadata": {}
  }
 ],
 "metadata": {
  "orig_nbformat": 4,
  "language_info": {
   "name": "python",
   "version": "3.8.5",
   "mimetype": "text/x-python",
   "codemirror_mode": {
    "name": "ipython",
    "version": 3
   },
   "pygments_lexer": "ipython3",
   "nbconvert_exporter": "python",
   "file_extension": ".py"
  },
  "kernelspec": {
   "name": "python3",
   "display_name": "Python 3.8.5 32-bit"
  },
  "interpreter": {
   "hash": "4dbc7d319552f751da30033d7b4995c635b04ff01c80dae115406c1f1bb6c9c9"
  }
 },
 "nbformat": 4,
 "nbformat_minor": 2
}