{
 "cells": [
  {
   "cell_type": "markdown",
   "source": [
    "# Manipulación de DataFrames"
   ],
   "metadata": {}
  },
  {
   "cell_type": "code",
   "execution_count": 2,
   "source": [
    "import pandas as pd\r\n",
    "\r\n",
    "# Volvemos a abrir el archivo que fue utilizado anteriormente:\r\n",
    "datos = pd.read_excel(\"Datos.xlsx\") \r\n",
    "print(datos)"
   ],
   "outputs": [
    {
     "output_type": "stream",
     "name": "stdout",
     "text": [
      "   Legajo Nombre    Apellido  Quimica  Matematica  Fisica\n",
      "0   34567   Juan    Martinez       10           7       9\n",
      "1   34678  Pablo    Gonzales        4           9       4\n",
      "2   34234  Maria  Citanovich        2           4       4\n",
      "3   35679    Sol        Rios        9           8      10\n",
      "4   36789  Paula       Lagos        8           5       8\n",
      "5   32578  Tomas         Reu        1           4       2\n"
     ]
    }
   ],
   "metadata": {}
  },
  {
   "cell_type": "code",
   "execution_count": 2,
   "source": [
    "print(datos['Quimica'])"
   ],
   "outputs": [
    {
     "output_type": "stream",
     "name": "stdout",
     "text": [
      "0    10\n",
      "1     4\n",
      "2     2\n",
      "3     9\n",
      "4     8\n",
      "5     1\n",
      "Name: Quimica, dtype: int64\n"
     ]
    }
   ],
   "metadata": {}
  },
  {
   "cell_type": "code",
   "execution_count": 4,
   "source": [
    "alumno = datos.loc[0] \r\n",
    "print(alumno)"
   ],
   "outputs": [
    {
     "output_type": "stream",
     "name": "stdout",
     "text": [
      "Legajo           34567\n",
      "Nombre            Juan\n",
      "Apellido      Martinez\n",
      "Quimica             10\n",
      "Matematica           7\n",
      "Fisica               9\n",
      "Name: 0, dtype: object\n"
     ]
    }
   ],
   "metadata": {}
  },
  {
   "cell_type": "code",
   "execution_count": 5,
   "source": [
    "# Podemos ingresar primero a la fila y luego a la columna:\r\n",
    "alumno = datos.loc[0] \r\n",
    "print(alumno['Matematica'])"
   ],
   "outputs": [
    {
     "output_type": "stream",
     "name": "stdout",
     "text": [
      "7\n"
     ]
    }
   ],
   "metadata": {}
  },
  {
   "cell_type": "code",
   "execution_count": 6,
   "source": [
    "# Podemos ingresar primero a la columna y luego a la fila:\r\n",
    "matematica = datos['Matematica']\r\n",
    "print(matematica[0])"
   ],
   "outputs": [
    {
     "output_type": "stream",
     "name": "stdout",
     "text": [
      "7\n"
     ]
    }
   ],
   "metadata": {}
  },
  {
   "cell_type": "code",
   "execution_count": 3,
   "source": [
    "promedios = (datos['Quimica'] + datos['Matematica'] + datos['Fisica']) / 3\r\n",
    "print('Todos los promedios')\r\n",
    "print(promedios)\r\n",
    "print('El promedio maximo es', promedios.max())"
   ],
   "outputs": [
    {
     "output_type": "stream",
     "name": "stdout",
     "text": [
      "Todos los promedios\n",
      "0    8.666667\n",
      "1    5.666667\n",
      "2    3.333333\n",
      "3    9.000000\n",
      "4    7.000000\n",
      "5    2.333333\n",
      "dtype: float64\n",
      "El promedio maximo es 9.0\n"
     ]
    }
   ],
   "metadata": {}
  },
  {
   "cell_type": "code",
   "execution_count": 4,
   "source": [
    "datos = pd.read_excel(\"Datos.xlsx\") \r\n",
    "print(\"Datos:\\n\")\r\n",
    "print(datos)\r\n",
    "\r\n",
    "aprobados = datos[ datos['Quimica'] >= 4 ]\r\n",
    "print(\"\\nAprobados en Química:\\n\")\r\n",
    "print(aprobados)"
   ],
   "outputs": [
    {
     "output_type": "stream",
     "name": "stdout",
     "text": [
      "Datos:\n",
      "\n",
      "   Legajo Nombre    Apellido  Quimica  Matematica  Fisica\n",
      "0   34567   Juan    Martinez       10           7       9\n",
      "1   34678  Pablo    Gonzales        4           9       4\n",
      "2   34234  Maria  Citanovich        2           4       4\n",
      "3   35679    Sol        Rios        9           8      10\n",
      "4   36789  Paula       Lagos        8           5       8\n",
      "5   32578  Tomas         Reu        1           4       2\n",
      "\n",
      "Aprobados en Química:\n",
      "\n",
      "   Legajo Nombre  Apellido  Quimica  Matematica  Fisica\n",
      "0   34567   Juan  Martinez       10           7       9\n",
      "1   34678  Pablo  Gonzales        4           9       4\n",
      "3   35679    Sol      Rios        9           8      10\n",
      "4   36789  Paula     Lagos        8           5       8\n"
     ]
    }
   ],
   "metadata": {}
  },
  {
   "cell_type": "code",
   "execution_count": 5,
   "source": [
    "aprobados = datos[ (datos['Quimica'] < 4) | (datos['Matematica'] < 4) | (datos['Fisica'] < 4) ]\r\n",
    "print(\"Reprobaron al menos una materia:\")\r\n",
    "print(aprobados)"
   ],
   "outputs": [
    {
     "output_type": "stream",
     "name": "stdout",
     "text": [
      "Reprobaron al menos una materia:\n",
      "   Legajo Nombre    Apellido  Quimica  Matematica  Fisica\n",
      "2   34234  Maria  Citanovich        2           4       4\n",
      "5   32578  Tomas         Reu        1           4       2\n"
     ]
    }
   ],
   "metadata": {}
  },
  {
   "cell_type": "code",
   "execution_count": 6,
   "source": [
    "datos2 = pd.read_excel(\"Datos2.xlsx\") \r\n",
    "print(\"Datos:\\n\")\r\n",
    "print(datos2)"
   ],
   "outputs": [
    {
     "output_type": "stream",
     "name": "stdout",
     "text": [
      "Datos:\n",
      "\n",
      "   Legajo Nombre    Apellido Quimica Matematica  Fisica\n",
      "0   34567   Juan    Martinez      10        NaN     9.0\n",
      "1   34678  Pablo    Gonzales       4          9     4.0\n",
      "2   34234  Maria  Citanovich       A          4     4.0\n",
      "3   35679    Sol        Rios       9          8    10.0\n",
      "4   36789  Paula       Lagos       8          A     8.0\n",
      "5   32578  Tomas         Reu       1          4     NaN\n"
     ]
    }
   ],
   "metadata": {}
  },
  {
   "cell_type": "code",
   "execution_count": 10,
   "source": [
    "datos2_matematica = datos2[ (datos2['Matematica'] != 'A') & (datos2['Matematica'].notna()) ]\r\n",
    "\r\n",
    "datos2_matematica = datos2_matematica['Matematica'] # Nos quedamos con la columna de interés\r\n",
    "\r\n",
    "print('Notas válidas en Matemática: ')\r\n",
    "print(datos2_matematica)"
   ],
   "outputs": [
    {
     "output_type": "stream",
     "name": "stdout",
     "text": [
      "Notas válidas en Matemática: \n",
      "1    9\n",
      "2    4\n",
      "3    8\n",
      "5    4\n",
      "Name: Matematica, dtype: object\n"
     ]
    }
   ],
   "metadata": {}
  },
  {
   "cell_type": "code",
   "execution_count": null,
   "source": [],
   "outputs": [],
   "metadata": {}
  }
 ],
 "metadata": {
  "orig_nbformat": 4,
  "language_info": {
   "name": "python",
   "version": "3.8.5",
   "mimetype": "text/x-python",
   "codemirror_mode": {
    "name": "ipython",
    "version": 3
   },
   "pygments_lexer": "ipython3",
   "nbconvert_exporter": "python",
   "file_extension": ".py"
  },
  "kernelspec": {
   "name": "python3",
   "display_name": "Python 3.8.5 32-bit"
  },
  "interpreter": {
   "hash": "4dbc7d319552f751da30033d7b4995c635b04ff01c80dae115406c1f1bb6c9c9"
  }
 },
 "nbformat": 4,
 "nbformat_minor": 2
}