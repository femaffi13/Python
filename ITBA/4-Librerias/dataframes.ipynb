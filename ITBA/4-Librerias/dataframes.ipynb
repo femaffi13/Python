{
 "cells": [
  {
   "cell_type": "markdown",
   "source": [
    "# Manipulación de DataFrames"
   ],
   "metadata": {}
  },
  {
   "cell_type": "code",
   "execution_count": 1,
   "source": [
    "import pandas as pd\r\n",
    "\r\n",
    "# Volvemos a abrir el archivo que fue utilizado anteriormente:\r\n",
    "datos = pd.read_excel(\"Datos.xlsx\") \r\n",
    "print(datos)"
   ],
   "outputs": [
    {
     "output_type": "stream",
     "name": "stdout",
     "text": [
      "   Legajo Nombre    Apellido  Quimica  Matematica  Fisica\n",
      "0   34567   Juan    Martinez       10           7       9\n",
      "1   34678  Pablo    Gonzales        4           9       4\n",
      "2   34234  Maria  Citanovich        2           4       4\n",
      "3   35679    Sol        Rios        9           8      10\n",
      "4   36789  Paula       Lagos        8           5       8\n",
      "5   32578  Tomas         Reu        1           4       2\n"
     ]
    }
   ],
   "metadata": {}
  },
  {
   "cell_type": "code",
   "execution_count": 2,
   "source": [
    "print(datos['Quimica'])"
   ],
   "outputs": [
    {
     "output_type": "stream",
     "name": "stdout",
     "text": [
      "0    10\n",
      "1     4\n",
      "2     2\n",
      "3     9\n",
      "4     8\n",
      "5     1\n",
      "Name: Quimica, dtype: int64\n"
     ]
    }
   ],
   "metadata": {}
  },
  {
   "cell_type": "code",
   "execution_count": 4,
   "source": [
    "alumno = datos.loc[0] \r\n",
    "print(alumno)"
   ],
   "outputs": [
    {
     "output_type": "stream",
     "name": "stdout",
     "text": [
      "Legajo           34567\n",
      "Nombre            Juan\n",
      "Apellido      Martinez\n",
      "Quimica             10\n",
      "Matematica           7\n",
      "Fisica               9\n",
      "Name: 0, dtype: object\n"
     ]
    }
   ],
   "metadata": {}
  },
  {
   "cell_type": "code",
   "execution_count": 5,
   "source": [
    "# Podemos ingresar primero a la fila y luego a la columna:\r\n",
    "alumno = datos.loc[0] \r\n",
    "print(alumno['Matematica'])"
   ],
   "outputs": [
    {
     "output_type": "stream",
     "name": "stdout",
     "text": [
      "7\n"
     ]
    }
   ],
   "metadata": {}
  },
  {
   "cell_type": "code",
   "execution_count": 6,
   "source": [
    "# Podemos ingresar primero a la columna y luego a la fila:\r\n",
    "matematica = datos['Matematica']\r\n",
    "print(matematica[0])"
   ],
   "outputs": [
    {
     "output_type": "stream",
     "name": "stdout",
     "text": [
      "7\n"
     ]
    }
   ],
   "metadata": {}
  }
 ],
 "metadata": {
  "orig_nbformat": 4,
  "language_info": {
   "name": "python",
   "version": "3.8.5",
   "mimetype": "text/x-python",
   "codemirror_mode": {
    "name": "ipython",
    "version": 3
   },
   "pygments_lexer": "ipython3",
   "nbconvert_exporter": "python",
   "file_extension": ".py"
  },
  "kernelspec": {
   "name": "python3",
   "display_name": "Python 3.8.5 32-bit"
  },
  "interpreter": {
   "hash": "4dbc7d319552f751da30033d7b4995c635b04ff01c80dae115406c1f1bb6c9c9"
  }
 },
 "nbformat": 4,
 "nbformat_minor": 2
}