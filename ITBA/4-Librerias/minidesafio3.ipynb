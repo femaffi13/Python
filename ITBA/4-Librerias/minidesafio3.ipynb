{
 "cells": [
  {
   "cell_type": "markdown",
   "source": [
    "## Obtener el promedio general sólo para aquellos alumnos que aprobaron Matemática en el archivo Datos.xlsx."
   ],
   "metadata": {}
  },
  {
   "cell_type": "code",
   "execution_count": 29,
   "source": [
    "import pandas as pd\r\n",
    "import numpy as np\r\n",
    "\r\n",
    "datos2 = pd.read_excel(\"Datos2.xlsx\") \r\n",
    "print(\"Datos:\\n\")\r\n",
    "print(datos2)"
   ],
   "outputs": [
    {
     "output_type": "stream",
     "name": "stdout",
     "text": [
      "Datos:\n",
      "\n",
      "   Legajo Nombre    Apellido Quimica Matematica  Fisica\n",
      "0   34567   Juan    Martinez      10        NaN     9.0\n",
      "1   34678  Pablo    Gonzales       4          9     4.0\n",
      "2   34234  Maria  Citanovich       A          4     4.0\n",
      "3   35679    Sol        Rios       9          8    10.0\n",
      "4   36789  Paula       Lagos       8          A     8.0\n",
      "5   32578  Tomas         Reu       1          4     NaN\n"
     ]
    }
   ],
   "metadata": {}
  },
  {
   "cell_type": "code",
   "execution_count": 28,
   "source": [
    "filtro = datos2[(datos2['Matematica'].notna()) & (datos2['Matematica'] != 'A')]\r\n",
    "filtro"
   ],
   "outputs": [
    {
     "output_type": "execute_result",
     "data": {
      "text/html": [
       "<div>\n",
       "<style scoped>\n",
       "    .dataframe tbody tr th:only-of-type {\n",
       "        vertical-align: middle;\n",
       "    }\n",
       "\n",
       "    .dataframe tbody tr th {\n",
       "        vertical-align: top;\n",
       "    }\n",
       "\n",
       "    .dataframe thead th {\n",
       "        text-align: right;\n",
       "    }\n",
       "</style>\n",
       "<table border=\"1\" class=\"dataframe\">\n",
       "  <thead>\n",
       "    <tr style=\"text-align: right;\">\n",
       "      <th></th>\n",
       "      <th>Legajo</th>\n",
       "      <th>Nombre</th>\n",
       "      <th>Apellido</th>\n",
       "      <th>Quimica</th>\n",
       "      <th>Matematica</th>\n",
       "      <th>Fisica</th>\n",
       "    </tr>\n",
       "  </thead>\n",
       "  <tbody>\n",
       "    <tr>\n",
       "      <th>1</th>\n",
       "      <td>34678</td>\n",
       "      <td>Pablo</td>\n",
       "      <td>Gonzales</td>\n",
       "      <td>4</td>\n",
       "      <td>9</td>\n",
       "      <td>4.0</td>\n",
       "    </tr>\n",
       "    <tr>\n",
       "      <th>2</th>\n",
       "      <td>34234</td>\n",
       "      <td>Maria</td>\n",
       "      <td>Citanovich</td>\n",
       "      <td>A</td>\n",
       "      <td>4</td>\n",
       "      <td>4.0</td>\n",
       "    </tr>\n",
       "    <tr>\n",
       "      <th>3</th>\n",
       "      <td>35679</td>\n",
       "      <td>Sol</td>\n",
       "      <td>Rios</td>\n",
       "      <td>9</td>\n",
       "      <td>8</td>\n",
       "      <td>10.0</td>\n",
       "    </tr>\n",
       "    <tr>\n",
       "      <th>5</th>\n",
       "      <td>32578</td>\n",
       "      <td>Tomas</td>\n",
       "      <td>Reu</td>\n",
       "      <td>1</td>\n",
       "      <td>4</td>\n",
       "      <td>NaN</td>\n",
       "    </tr>\n",
       "  </tbody>\n",
       "</table>\n",
       "</div>"
      ],
      "text/plain": [
       "   Legajo Nombre    Apellido Quimica Matematica  Fisica\n",
       "1   34678  Pablo    Gonzales       4          9     4.0\n",
       "2   34234  Maria  Citanovich       A          4     4.0\n",
       "3   35679    Sol        Rios       9          8    10.0\n",
       "5   32578  Tomas         Reu       1          4     NaN"
      ]
     },
     "metadata": {},
     "execution_count": 28
    }
   ],
   "metadata": {}
  },
  {
   "cell_type": "code",
   "execution_count": 33,
   "source": [
    "filtro.replace(np.nan, 0, inplace = True)\r\n",
    "filtro.replace('A', 0, inplace= True)\r\n",
    "filtro"
   ],
   "outputs": [
    {
     "output_type": "execute_result",
     "data": {
      "text/html": [
       "<div>\n",
       "<style scoped>\n",
       "    .dataframe tbody tr th:only-of-type {\n",
       "        vertical-align: middle;\n",
       "    }\n",
       "\n",
       "    .dataframe tbody tr th {\n",
       "        vertical-align: top;\n",
       "    }\n",
       "\n",
       "    .dataframe thead th {\n",
       "        text-align: right;\n",
       "    }\n",
       "</style>\n",
       "<table border=\"1\" class=\"dataframe\">\n",
       "  <thead>\n",
       "    <tr style=\"text-align: right;\">\n",
       "      <th></th>\n",
       "      <th>Legajo</th>\n",
       "      <th>Nombre</th>\n",
       "      <th>Apellido</th>\n",
       "      <th>Quimica</th>\n",
       "      <th>Matematica</th>\n",
       "      <th>Fisica</th>\n",
       "    </tr>\n",
       "  </thead>\n",
       "  <tbody>\n",
       "    <tr>\n",
       "      <th>1</th>\n",
       "      <td>34678</td>\n",
       "      <td>Pablo</td>\n",
       "      <td>Gonzales</td>\n",
       "      <td>4</td>\n",
       "      <td>9</td>\n",
       "      <td>4.0</td>\n",
       "    </tr>\n",
       "    <tr>\n",
       "      <th>2</th>\n",
       "      <td>34234</td>\n",
       "      <td>Maria</td>\n",
       "      <td>Citanovich</td>\n",
       "      <td>0</td>\n",
       "      <td>4</td>\n",
       "      <td>4.0</td>\n",
       "    </tr>\n",
       "    <tr>\n",
       "      <th>3</th>\n",
       "      <td>35679</td>\n",
       "      <td>Sol</td>\n",
       "      <td>Rios</td>\n",
       "      <td>9</td>\n",
       "      <td>8</td>\n",
       "      <td>10.0</td>\n",
       "    </tr>\n",
       "    <tr>\n",
       "      <th>5</th>\n",
       "      <td>32578</td>\n",
       "      <td>Tomas</td>\n",
       "      <td>Reu</td>\n",
       "      <td>1</td>\n",
       "      <td>4</td>\n",
       "      <td>0.0</td>\n",
       "    </tr>\n",
       "  </tbody>\n",
       "</table>\n",
       "</div>"
      ],
      "text/plain": [
       "   Legajo Nombre    Apellido  Quimica  Matematica  Fisica\n",
       "1   34678  Pablo    Gonzales        4           9     4.0\n",
       "2   34234  Maria  Citanovich        0           4     4.0\n",
       "3   35679    Sol        Rios        9           8    10.0\n",
       "5   32578  Tomas         Reu        1           4     0.0"
      ]
     },
     "metadata": {},
     "execution_count": 33
    }
   ],
   "metadata": {}
  },
  {
   "cell_type": "code",
   "execution_count": 45,
   "source": [
    "promedio = (filtro['Quimica'] + filtro['Matematica'] + filtro['Fisica']) / 3\r\n",
    "filtro['Promedio General'] = round(promedio, 2)\r\n",
    "filtro.drop('Promedio', axis = 1, inplace = True)\r\n",
    "filtro"
   ],
   "outputs": [
    {
     "output_type": "execute_result",
     "data": {
      "text/html": [
       "<div>\n",
       "<style scoped>\n",
       "    .dataframe tbody tr th:only-of-type {\n",
       "        vertical-align: middle;\n",
       "    }\n",
       "\n",
       "    .dataframe tbody tr th {\n",
       "        vertical-align: top;\n",
       "    }\n",
       "\n",
       "    .dataframe thead th {\n",
       "        text-align: right;\n",
       "    }\n",
       "</style>\n",
       "<table border=\"1\" class=\"dataframe\">\n",
       "  <thead>\n",
       "    <tr style=\"text-align: right;\">\n",
       "      <th></th>\n",
       "      <th>Legajo</th>\n",
       "      <th>Nombre</th>\n",
       "      <th>Apellido</th>\n",
       "      <th>Quimica</th>\n",
       "      <th>Matematica</th>\n",
       "      <th>Fisica</th>\n",
       "      <th>Promedio General</th>\n",
       "    </tr>\n",
       "  </thead>\n",
       "  <tbody>\n",
       "    <tr>\n",
       "      <th>1</th>\n",
       "      <td>34678</td>\n",
       "      <td>Pablo</td>\n",
       "      <td>Gonzales</td>\n",
       "      <td>4</td>\n",
       "      <td>9</td>\n",
       "      <td>4.0</td>\n",
       "      <td>5.67</td>\n",
       "    </tr>\n",
       "    <tr>\n",
       "      <th>2</th>\n",
       "      <td>34234</td>\n",
       "      <td>Maria</td>\n",
       "      <td>Citanovich</td>\n",
       "      <td>0</td>\n",
       "      <td>4</td>\n",
       "      <td>4.0</td>\n",
       "      <td>2.67</td>\n",
       "    </tr>\n",
       "    <tr>\n",
       "      <th>3</th>\n",
       "      <td>35679</td>\n",
       "      <td>Sol</td>\n",
       "      <td>Rios</td>\n",
       "      <td>9</td>\n",
       "      <td>8</td>\n",
       "      <td>10.0</td>\n",
       "      <td>9.00</td>\n",
       "    </tr>\n",
       "    <tr>\n",
       "      <th>5</th>\n",
       "      <td>32578</td>\n",
       "      <td>Tomas</td>\n",
       "      <td>Reu</td>\n",
       "      <td>1</td>\n",
       "      <td>4</td>\n",
       "      <td>0.0</td>\n",
       "      <td>1.67</td>\n",
       "    </tr>\n",
       "  </tbody>\n",
       "</table>\n",
       "</div>"
      ],
      "text/plain": [
       "   Legajo Nombre    Apellido  Quimica  Matematica  Fisica  Promedio General\n",
       "1   34678  Pablo    Gonzales        4           9     4.0              5.67\n",
       "2   34234  Maria  Citanovich        0           4     4.0              2.67\n",
       "3   35679    Sol        Rios        9           8    10.0              9.00\n",
       "5   32578  Tomas         Reu        1           4     0.0              1.67"
      ]
     },
     "metadata": {},
     "execution_count": 45
    }
   ],
   "metadata": {}
  }
 ],
 "metadata": {
  "orig_nbformat": 4,
  "language_info": {
   "name": "python",
   "version": "3.8.5",
   "mimetype": "text/x-python",
   "codemirror_mode": {
    "name": "ipython",
    "version": 3
   },
   "pygments_lexer": "ipython3",
   "nbconvert_exporter": "python",
   "file_extension": ".py"
  },
  "kernelspec": {
   "name": "python3",
   "display_name": "Python 3.8.5 32-bit"
  },
  "interpreter": {
   "hash": "4dbc7d319552f751da30033d7b4995c635b04ff01c80dae115406c1f1bb6c9c9"
  }
 },
 "nbformat": 4,
 "nbformat_minor": 2
}