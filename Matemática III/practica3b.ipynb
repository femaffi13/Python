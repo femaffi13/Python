{
 "cells": [
  {
   "cell_type": "markdown",
   "source": [
    "# Práctica 3 - Rangos"
   ],
   "metadata": {}
  },
  {
   "cell_type": "markdown",
   "source": [
    "### 1. Escribe un tipo range() que emita: [100, 101, 102, 103]"
   ],
   "metadata": {}
  },
  {
   "cell_type": "code",
   "execution_count": null,
   "source": [
    "print(list(range(100,104)))"
   ],
   "outputs": [],
   "metadata": {}
  },
  {
   "cell_type": "markdown",
   "source": [
    "### 2. Escribe un tipo range() que emita: [-50, -2050, -4050, -6050]"
   ],
   "metadata": {}
  },
  {
   "cell_type": "code",
   "execution_count": null,
   "source": [
    "print(list(range(-50, -6051,-2000)))"
   ],
   "outputs": [],
   "metadata": {}
  },
  {
   "cell_type": "markdown",
   "source": [
    "### 3. Escribe un programa que pida un número entero y emita una lista de números consecutivos del 0 al valor dado."
   ],
   "metadata": {}
  },
  {
   "cell_type": "code",
   "execution_count": null,
   "source": [
    "n = int(input('Escribir un número: '))\r\n",
    "lista = list(range(0,n+1))\r\n",
    "print(lista)"
   ],
   "outputs": [],
   "metadata": {}
  },
  {
   "cell_type": "markdown",
   "source": [
    "### 4. Escribe un programa que pida dos números enteros (el segundo mayor que el primero) y emita listas de números consecutivos al derecho y al revés."
   ],
   "metadata": {}
  },
  {
   "cell_type": "code",
   "execution_count": null,
   "source": [
    "n1 = int(input('Escribir el primer valor: '))\r\n",
    "n2 = int(input('Escribir un valor mayor: '))\r\n",
    "lista = list(range(n1,n2+1))\r\n",
    "lista2 = lista[::-1]\r\n",
    "print(lista)\r\n",
    "print(lista2)"
   ],
   "outputs": [],
   "metadata": {}
  },
  {
   "cell_type": "markdown",
   "source": [
    "### 5. Escribe un programa que pida dos números enteros y emita la lista de números pares que hay entre ellos (incluidos ellos mismos si son pares)"
   ],
   "metadata": {}
  },
  {
   "cell_type": "code",
   "execution_count": null,
   "source": [
    "n1 = int(input('Escribir el primer valor: '))\r\n",
    "n2 = int(input('Escribir un valor mayor: '))\r\n",
    "if n1%2!=0:\r\n",
    "    n1+=1\r\n",
    "lista = list(range(n1,n2+1,2))\r\n",
    "print(lista)"
   ],
   "outputs": [],
   "metadata": {}
  }
 ],
 "metadata": {
  "orig_nbformat": 4,
  "language_info": {
   "name": "python",
   "version": "3.8.5",
   "mimetype": "text/x-python",
   "codemirror_mode": {
    "name": "ipython",
    "version": 3
   },
   "pygments_lexer": "ipython3",
   "nbconvert_exporter": "python",
   "file_extension": ".py"
  },
  "kernelspec": {
   "name": "python3",
   "display_name": "Python 3.8.5 32-bit"
  },
  "interpreter": {
   "hash": "4dbc7d319552f751da30033d7b4995c635b04ff01c80dae115406c1f1bb6c9c9"
  }
 },
 "nbformat": 4,
 "nbformat_minor": 2
}