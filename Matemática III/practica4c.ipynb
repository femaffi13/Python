{
 "cells": [
  {
   "cell_type": "markdown",
   "source": [
    "# Práctica 4 - Diccionarios"
   ],
   "metadata": {}
  },
  {
   "cell_type": "markdown",
   "source": [
    "### 1. Crea un diccionario donde la clave sea el nombre del usuario y el valor sea el teléfono (no es necesario validar). Tendrás que ir pidiendo contactos hasta el usuario diga que no quiere insertar más. No se podrán ingresar nombres repetidos."
   ],
   "metadata": {}
  },
  {
   "cell_type": "code",
   "execution_count": null,
   "source": [
    "dicc = {}\r\n",
    "rta = 'S'\r\n",
    "while rta != 'N':\r\n",
    "    nombre = input('Nombre del usuario: ')\r\n",
    "    telefono = input('Número de teléfono: ')\r\n",
    "    dicc[nombre] = telefono\r\n",
    "    rta = input('Continuar (S/N)? ').upper()\r\n",
    "print(f'Lista final: {dicc}')"
   ],
   "outputs": [],
   "metadata": {}
  },
  {
   "cell_type": "markdown",
   "source": [
    "### 2. Crear un programa donde vamos a declarar un diccionario para guardar los precios de las distintas frutas. El programa pedirá el nombre de la fruta y la cantidad que se ha vendido y nos mostrará el precio final de la fruta a partir de los datos guardados en el diccionario. Si la fruta no existe nos dará un error. Tras cada consulta el programa nos preguntará si queremos hacer otra consulta."
   ],
   "metadata": {}
  },
  {
   "cell_type": "code",
   "execution_count": null,
   "source": [
    "dicc = {\r\n",
    "    'banana': 3.45,\r\n",
    "    'manzana': 4.75,\r\n",
    "    'mandarina': 2.5\r\n",
    "}\r\n",
    "rta = 'S'\r\n",
    "while rta != 'N':\r\n",
    "    fruta = input('Ingrese una fruta: ').lower()\r\n",
    "    if fruta in dicc:\r\n",
    "        print('Está')\r\n",
    "        cantidad = int(input('Cantidad: '))\r\n",
    "        precio = cantidad * dicc[fruta]\r\n",
    "        print(f'Precio total: ${precio:.2f}')\r\n",
    "    else:\r\n",
    "        print(f'No se encuentra registrada la fruta \"{fruta}\"')\r\n",
    "\r\n",
    "    rta = input('Realizar otra consulta? (S/N): ').upper()"
   ],
   "outputs": [],
   "metadata": {}
  },
  {
   "cell_type": "markdown",
   "source": [
    "### 3. Codifica un programa que permita guardar los nombres de alumnos de una clase y las notas que han obtenido. Cada alumno puede tener distinta cantidad de notas. Guarda la información en un diccionario cuya claves serán los nombres de los alumnos y los valores serán listas con las notas de cada alumno. El programa pedirá el número de alumnos que vamos a introducir, pedirá su nombre e irá pidiendo sus notas hasta que introduzcamos un número negativo. Al final el programa nos mostrará la lista de alumnos y la nota media obtenida por cada uno de ellos. Nota: si se introduce el nombre de un alumno que ya existe el programa nos dará un error."
   ],
   "metadata": {}
  },
  {
   "cell_type": "code",
   "execution_count": null,
   "source": [
    "dicc = {}\r\n",
    "n = int(input('Cantidad de alumnos a ingresar: '))\r\n",
    "for i in range(n):\r\n",
    "    nota = 0\r\n",
    "    nombre = input(f'Nombre del alumno {i+1}: ').capitalize()\r\n",
    "    if nombre in dicc:\r\n",
    "        print('El nombre ya existe.')\r\n",
    "        break\r\n",
    "    notas = []\r\n",
    "    while nota >= 0:\r\n",
    "        nota = float(input('Nota: '))\r\n",
    "        if nota < 0:\r\n",
    "            break\r\n",
    "        notas.append(nota)\r\n",
    "    dicc[nombre] = notas \r\n",
    "\r\n",
    "print('Calificaciones'.center(40,'-'))\r\n",
    "for k, v in list(dicc.items()):\r\n",
    "    prom = sum(v) / len(v)\r\n",
    "    print(f'{k}: Promedio: {prom:.2f}')"
   ],
   "outputs": [],
   "metadata": {}
  }
 ],
 "metadata": {
  "orig_nbformat": 4,
  "language_info": {
   "name": "python",
   "version": "3.8.5",
   "mimetype": "text/x-python",
   "codemirror_mode": {
    "name": "ipython",
    "version": 3
   },
   "pygments_lexer": "ipython3",
   "nbconvert_exporter": "python",
   "file_extension": ".py"
  },
  "kernelspec": {
   "name": "python3",
   "display_name": "Python 3.8.5 32-bit"
  },
  "interpreter": {
   "hash": "4dbc7d319552f751da30033d7b4995c635b04ff01c80dae115406c1f1bb6c9c9"
  }
 },
 "nbformat": 4,
 "nbformat_minor": 2
}