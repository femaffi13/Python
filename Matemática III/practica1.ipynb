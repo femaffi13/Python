{
 "cells": [
  {
   "cell_type": "markdown",
   "source": [
    "# Práctica de Sentencias Simples"
   ],
   "metadata": {}
  },
  {
   "cell_type": "markdown",
   "source": [
    "## 5. Desarrolla un programa que permita leer 2 valores y que emita por pantalla la suma, la resta, el producto, la división, el resto, el promedio y el doble producto del primero menos la mitad del segundo."
   ],
   "metadata": {}
  },
  {
   "cell_type": "code",
   "execution_count": null,
   "source": [
    "n1 = int(input(\"Ingresar el primer valor: \"))\r\n",
    "n2 = int(input(\"Ingresar el segundo valor: \"))\r\n",
    "print(f\"La suma es: {n1+n2}\")\r\n",
    "print(f\"La resta es: {n1-n2}\")\r\n",
    "print(f\"El producto es: {n1*n2}\")\r\n",
    "print(f\"La división es: {n1/n2}\")\r\n",
    "print(f\"El resto es: {n1%n2}\")\r\n",
    "print(f\"El promedio es: {(n1+n2)/2}\")\r\n",
    "print(f\"El doble del producto del primero menos la mitad del segundo: {2*(n1*-(n2/2))}\")"
   ],
   "outputs": [],
   "metadata": {}
  },
  {
   "cell_type": "markdown",
   "source": [
    "## 7. Realiza un programa que dadas una cantidad de segundos los convierta en horas, minutos y segundos."
   ],
   "metadata": {}
  },
  {
   "cell_type": "code",
   "execution_count": null,
   "source": [
    "segundos = int(input(\"Ingresar una cantidad de segundos: \"))\r\n",
    "print(f\"Segundos: {segundos}\")\r\n",
    "minutos = segundos/60\r\n",
    "print(f\"Minutos: {round(minutos,2)}\")\r\n",
    "horas = minutos/60\r\n",
    "print(f\"Horas: {round(horas,2)}\")\r\n"
   ],
   "outputs": [],
   "metadata": {}
  },
  {
   "cell_type": "markdown",
   "source": [
    "## 8. Escribe un programa que pida al usuario su peso (en kg) y estatura (en metros), calcule el índice de masa corporal, lo almacene en una variable, y muestre por pantalla redondeado con dos decimales."
   ],
   "metadata": {}
  },
  {
   "cell_type": "code",
   "execution_count": null,
   "source": [
    "peso = float(input(\"Ingrese su peso en kilogramos: \"))\r\n",
    "estatura = float(input(\"Ingrese su estatura en metros: \"))\r\n",
    "imc = peso / (estatura**2)\r\n",
    "print(f\"Su Indice de Masa Corporal es de: {round(imc,2)}\")"
   ],
   "outputs": [],
   "metadata": {}
  },
  {
   "cell_type": "markdown",
   "source": [
    "## 9. Una juguetería tiene mucho éxito en dos de sus productos: payasos y muñecas. Suele hacer venta por correo y la empresa de logística les cobra por peso de cada paquete así que deben calcular el peso de los payasos y muñecas que saldrán en cada paquete a demanda. Cada payaso pesa 112 g y cada muñeca 75 g. Escribe un programa que lea el número de payasos y muñecas vendidos en el último pedido y calcule el peso total del paquete que será enviado."
   ],
   "metadata": {}
  },
  {
   "cell_type": "code",
   "execution_count": null,
   "source": [
    "n_payasos = int(input(\"Cantidad de payasos: \"))\r\n",
    "n_munecas = int(input(\"Cantidad de muñecas: \"))\r\n",
    "print(f\"El peso total del paquete es de: {(n_payasos*112) + (n_munecas*75)} gr.\")"
   ],
   "outputs": [],
   "metadata": {}
  },
  {
   "cell_type": "markdown",
   "source": [
    "## 10. Imagina que acabas de abrir una nueva cuenta de ahorros que te ofrece el 4% de interés al año. Estos ahorros no se cobran hasta finales de año y se te suman al balance final de tu cuenta de ahorros. Escribe un programa que comience leyendo la cantidad de dinero depositada en la cuenta de ahorros. El programa debe calcular y mostrar por pantalla la cantidad de ahorros tras el primer, segundo y tercer año. Redondea cada cantidad a dos decimales."
   ],
   "metadata": {}
  },
  {
   "cell_type": "code",
   "execution_count": 11,
   "source": [
    "inicial = float(input(\"Cantidad inicial: \"))\r\n",
    "a1 = inicial * 1.04\r\n",
    "print(f\"Cantidad al primer año: ${round(a1,2)}\")\r\n",
    "a2 = a1 * 1.04\r\n",
    "print(f\"Cantidad al segundo año: ${round(a2,2)}\")\r\n",
    "a3 = a2 * 1.04\r\n",
    "print(f\"Cantidad al tercer año: ${round(a3,2)}\")"
   ],
   "outputs": [
    {
     "output_type": "stream",
     "name": "stdout",
     "text": [
      "Cantidad al primer año: 1040.0\n"
     ]
    }
   ],
   "metadata": {}
  },
  {
   "cell_type": "code",
   "execution_count": null,
   "source": [],
   "outputs": [],
   "metadata": {}
  }
 ],
 "metadata": {
  "orig_nbformat": 4,
  "language_info": {
   "name": "python",
   "version": "3.8.5",
   "mimetype": "text/x-python",
   "codemirror_mode": {
    "name": "ipython",
    "version": 3
   },
   "pygments_lexer": "ipython3",
   "nbconvert_exporter": "python",
   "file_extension": ".py"
  },
  "kernelspec": {
   "name": "python3",
   "display_name": "Python 3.8.5 32-bit"
  },
  "interpreter": {
   "hash": "4dbc7d319552f751da30033d7b4995c635b04ff01c80dae115406c1f1bb6c9c9"
  }
 },
 "nbformat": 4,
 "nbformat_minor": 2
}