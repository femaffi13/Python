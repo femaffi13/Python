{
 "cells": [
  {
   "cell_type": "markdown",
   "source": [
    "# Practica 6 - Numpy"
   ],
   "metadata": {}
  },
  {
   "cell_type": "code",
   "execution_count": 1,
   "source": [
    "import numpy as np"
   ],
   "outputs": [],
   "metadata": {}
  },
  {
   "cell_type": "code",
   "execution_count": 12,
   "source": [
    "#1. Resolver con numpy. Dado:\r\n",
    "lista_de_listas=[[-44,12], [12.0,51], [1300, -5.0]]\r\n",
    "a = np.array(lista_de_listas)\r\n",
    "print(f\"Matriz original: \\n{a}\")\r\n",
    "# Restarle 5 a la fila 2 de la matriz\r\n",
    "resta = a[1,:] - 5\r\n",
    "print(f\"restarle 5 a la fila 2: \\n{resta}\")\r\n",
    "# Multiplicar por 2 toda la matriz\r\n",
    "mult = a*2\r\n",
    "print(f\"Multiplicar por 2 la matriz: \\n{mult}\")\r\n",
    "# Dividir por -5 las dos primeras filas de la matriz\r\n",
    "div = a[:2,:] / -5\r\n",
    "print(f\"Dividir por -5 las dos primeras filas: \\n{div}\")\r\n",
    "#Imprimir la última fila de la matriz\r\n",
    "ultima_fila = a[2,:]\r\n",
    "print(f\"Última fila: {ultima_fila}\")"
   ],
   "outputs": [
    {
     "output_type": "stream",
     "name": "stdout",
     "text": [
      "Matriz original: \n",
      "[[ -44.   12.]\n",
      " [  12.   51.]\n",
      " [1300.   -5.]]\n",
      "restarle 5 a la fila 2: \n",
      "[ 7. 46.]\n",
      "Multiplicar por 2 la matriz: \n",
      "[[ -88.   24.]\n",
      " [  24.  102.]\n",
      " [2600.  -10.]]\n",
      "Dividir por -5 las dos primeras filas: \n",
      "[[  8.8  -2.4]\n",
      " [ -2.4 -10.2]]\n",
      "Última fila: [1300.   -5.]\n"
     ]
    }
   ],
   "metadata": {}
  },
  {
   "cell_type": "code",
   "execution_count": null,
   "source": [],
   "outputs": [],
   "metadata": {}
  }
 ],
 "metadata": {
  "orig_nbformat": 4,
  "language_info": {
   "name": "python",
   "version": "3.8.5",
   "mimetype": "text/x-python",
   "codemirror_mode": {
    "name": "ipython",
    "version": 3
   },
   "pygments_lexer": "ipython3",
   "nbconvert_exporter": "python",
   "file_extension": ".py"
  },
  "kernelspec": {
   "name": "python3",
   "display_name": "Python 3.8.5 32-bit"
  },
  "interpreter": {
   "hash": "4dbc7d319552f751da30033d7b4995c635b04ff01c80dae115406c1f1bb6c9c9"
  }
 },
 "nbformat": 4,
 "nbformat_minor": 2
}