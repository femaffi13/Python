{
 "cells": [
  {
   "cell_type": "markdown",
   "source": [
    "# Practica 6 - Numpy"
   ],
   "metadata": {}
  },
  {
   "cell_type": "code",
   "execution_count": 1,
   "source": [
    "import numpy as np"
   ],
   "outputs": [],
   "metadata": {}
  },
  {
   "cell_type": "markdown",
   "source": [
    "## 1) Resolver con numpy. Dado:"
   ],
   "metadata": {}
  },
  {
   "cell_type": "code",
   "execution_count": 20,
   "source": [
    "lista_de_listas=[[-44,12], [12.0,51], [1300, -5.0]]\r\n",
    "a = np.array(lista_de_listas)\r\n",
    "print(f\"Matriz original: \\n{a}\")\r\n",
    "# Restarle 5 a la fila 2 de la matriz\r\n",
    "resta = a[1,:] - 5\r\n",
    "print(f\"1) Restarle 5 a la fila 2: \\n{resta}\")\r\n",
    "# Multiplicar por 2 toda la matriz\r\n",
    "mult = a*2\r\n",
    "print(f\"2) Multiplicar por 2 la matriz: \\n{mult}\")\r\n",
    "# Dividir por -5 las dos primeras filas de la matriz\r\n",
    "div = a[:2,:] / -5\r\n",
    "print(f\"3) Dividir por -5 las dos primeras filas: \\n{div}\")\r\n",
    "#Imprimir la última fila de la matriz\r\n",
    "ultima_fila = a[2,:]\r\n",
    "print(f\"4) Última fila: \\n{ultima_fila}\")"
   ],
   "outputs": [
    {
     "output_type": "stream",
     "name": "stdout",
     "text": [
      "Matriz original: \n",
      "[[ -44.   12.]\n",
      " [  12.   51.]\n",
      " [1300.   -5.]]\n",
      "1) Restarle 5 a la fila 2: \n",
      "[ 7. 46.]\n",
      "2) Multiplicar por 2 la matriz: \n",
      "[[ -88.   24.]\n",
      " [  24.  102.]\n",
      " [2600.  -10.]]\n",
      "3) Dividir por -5 las dos primeras filas: \n",
      "[[  8.8  -2.4]\n",
      " [ -2.4 -10.2]]\n",
      "4) Última fila: \n",
      "[1300.   -5.]\n"
     ]
    }
   ],
   "metadata": {}
  },
  {
   "cell_type": "markdown",
   "source": [
    "## 2) Resolver con numpy. Calcular la suma de los elementos de a (ejercicio anterior) utilizando dos fors anidados"
   ],
   "metadata": {}
  },
  {
   "cell_type": "code",
   "execution_count": 29,
   "source": [
    "# Calcular la suma de los elementos de a utilizando np.sum\r\n",
    "suma = np.sum(a)\r\n",
    "print(f\"Suma de los elementos: {suma}\")\r\n",
    "# Calcular el promedio de los elementos de las primeras dos filas utilizando np.mean\r\n",
    "#IMPLEMENTAR\r\n",
    "promedio = np.mean(a[:2,:])\r\n",
    "print(f\"Promedio de los elementos de las primeras dos filas: {promedio}\")"
   ],
   "outputs": [
    {
     "output_type": "stream",
     "name": "stdout",
     "text": [
      "Suma de los elementos: 1326.0\n",
      "Promedio de los elementos de las primeras dos filas: 7.75\n"
     ]
    }
   ],
   "metadata": {}
  },
  {
   "cell_type": "markdown",
   "source": [
    "## 3) Generar una matriz de 7 por 9. Las primeras 3 columnas de la matriz tienen que tener el valor 0. La cuarta columna debe tener el valor 0.5, excepto por el último valor de esa columna, que tiene que ser 0.7. Las otras tres columnas deben tener el valor 1. Luego imprimir la matriz. Imprimir también el promedio de la última fila."
   ],
   "metadata": {}
  },
  {
   "cell_type": "code",
   "execution_count": 33,
   "source": [
    "matriz = np.array(\r\n",
    "    [(0,0,0,0,0,0,0,0,0),\r\n",
    "    (0,0,0,0,0,0,0,0,0),\r\n",
    "    (0,0,0,0,0,0,0,0,0),\r\n",
    "    (0.5,0.5,0.5,0.5,0.5,0.5,0.5,0.5,0.7),\r\n",
    "    (1,1,1,1,1,1,1,1,1),\r\n",
    "    (1,1,1,1,1,1,1,1,1),\r\n",
    "    (1,1,1,1,1,1,1,1,1)])\r\n",
    "\r\n",
    "print(f'Matriz: \\n{matriz}')"
   ],
   "outputs": [
    {
     "output_type": "stream",
     "name": "stdout",
     "text": [
      "Matriz: \n",
      "[[0.  0.  0.  0.  0.  0.  0.  0.  0. ]\n",
      " [0.  0.  0.  0.  0.  0.  0.  0.  0. ]\n",
      " [0.  0.  0.  0.  0.  0.  0.  0.  0. ]\n",
      " [0.5 0.5 0.5 0.5 0.5 0.5 0.5 0.5 0.7]\n",
      " [1.  1.  1.  1.  1.  1.  1.  1.  1. ]\n",
      " [1.  1.  1.  1.  1.  1.  1.  1.  1. ]\n",
      " [1.  1.  1.  1.  1.  1.  1.  1.  1. ]]\n"
     ]
    }
   ],
   "metadata": {}
  },
  {
   "cell_type": "markdown",
   "source": [
    "## 4) Crear una matriz aleatoria de 5 por 5 con valores entre 0 y 1"
   ],
   "metadata": {}
  },
  {
   "cell_type": "code",
   "execution_count": 38,
   "source": [
    "matriz_aleatoria=np.random.rand(5,5)\r\n",
    "print(matriz_aleatoria)"
   ],
   "outputs": [
    {
     "output_type": "stream",
     "name": "stdout",
     "text": [
      "[[0.03004008 0.1247743  0.21687336 0.09528238 0.69483607]\n",
      " [0.17303191 0.24595789 0.33111699 0.59702048 0.88275272]\n",
      " [0.40131224 0.49595778 0.76990198 0.59888329 0.40623123]\n",
      " [0.30230934 0.01591366 0.58593818 0.96684969 0.38462085]\n",
      " [0.14528429 0.35953053 0.55055534 0.15151736 0.46866678]]\n"
     ]
    }
   ],
   "metadata": {}
  }
 ],
 "metadata": {
  "orig_nbformat": 4,
  "language_info": {
   "name": "python",
   "version": "3.8.5",
   "mimetype": "text/x-python",
   "codemirror_mode": {
    "name": "ipython",
    "version": 3
   },
   "pygments_lexer": "ipython3",
   "nbconvert_exporter": "python",
   "file_extension": ".py"
  },
  "kernelspec": {
   "name": "python3",
   "display_name": "Python 3.8.5 32-bit"
  },
  "interpreter": {
   "hash": "4dbc7d319552f751da30033d7b4995c635b04ff01c80dae115406c1f1bb6c9c9"
  }
 },
 "nbformat": 4,
 "nbformat_minor": 2
}