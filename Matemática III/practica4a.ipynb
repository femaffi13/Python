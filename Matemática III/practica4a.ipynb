{
 "cells": [
  {
   "cell_type": "markdown",
   "source": [
    "# Práctica 4 - Tuplas"
   ],
   "metadata": {}
  },
  {
   "cell_type": "markdown",
   "source": [
    "### 1. Crea una tupla con números, pide un numero por teclado e indica cuantas veces se repite."
   ],
   "metadata": {}
  },
  {
   "cell_type": "code",
   "execution_count": null,
   "source": [
    "tupla = (1,2,3,4,5,5)\r\n",
    "n = int(input('Ingresar un valor: '))\r\n",
    "print(f'Está: {tupla.count(n)} vez/veces')"
   ],
   "outputs": [],
   "metadata": {}
  },
  {
   "cell_type": "markdown",
   "source": [
    "### 2. Crea una tupla con valores ya predefinidos del 1 al 10, pide un índice por teclado y muestra los valores de la tupla."
   ],
   "metadata": {}
  },
  {
   "cell_type": "code",
   "execution_count": null,
   "source": [
    "tupla = (1,2,3,4,5,6,7,8,9,10)\r\n",
    "n = int(input('Indice: '))\r\n",
    "print(f'El valor del índice {n} es: {tupla[n]}')"
   ],
   "outputs": [],
   "metadata": {}
  },
  {
   "cell_type": "markdown",
   "source": [
    "### 3. Escribir un programa que permita procesar datos de pasajeros de viaje en una lista de tuplas con la siguiente forma: (nombre, dni, destino). \r\n",
    "Ejemplo: [(\"Manuel Juarez\", 19823451, \"Liverpool\"), (\"Silvana Paredes\", 22709128, \"Buenos Aires\"), (\"Rosa Ortiz\", 15123978, \"Glasgow\"), (\"Luciana Hernandez\", 38981374, \"Lisboa\")] Además, en otra lista de tuplas se almacenan los datos de cada ciudad y el país al que pertenecen. Ejemplo: [(\"Buenos Aires\",\"Argentina\"), (\"Glasgow\",\"Escocia\"), (\"Lisboa\", \"Portugal\"), (\"Liverpool\",\"Inglaterra\"), (\"Madrid\",\"España\")] Hacer un programa que permita al usuario realizar las siguientes operaciones:   \r\n",
    "- Agregar pasajeros a la lista de viajeros.   \r\n",
    "- Agregar ciudades a la lista de ciudades.  \r\n",
    "- Dado el DNI de un pasajero, ver a qué ciudad viaja y país viaja \r\n",
    "- Dado un país, mostrar cuántos pasajeros viajan a ese país.  \r\n",
    "- Salir del programa."
   ],
   "metadata": {}
  },
  {
   "cell_type": "code",
   "execution_count": 29,
   "source": [
    "viajeros = []\r\n",
    "ciudades = []\r\n",
    "print('Menú'.center(50,'-'))\r\n",
    "opcion = 0\r\n",
    "while opcion != 5:\r\n",
    "    print('1. Agregar pasajeros a la lista de viajeros')\r\n",
    "    print('2. Agregar ciudades a la lista de ciudades')\r\n",
    "    print('3. Buscar por DNI: ')\r\n",
    "    print('4. Buscar por país cuántos viajan al mimsmo: ')\r\n",
    "    print('5. Salir del programa')\r\n",
    "    opcion = int(input('Opción: '))\r\n",
    "\r\n",
    "    if opcion == 1:\r\n",
    "        nombre = input('Nombre: ').upper()\r\n",
    "        dni = int(input('DNI: '))\r\n",
    "        destino = input('Destino: ').upper()\r\n",
    "        for i in ciudades:\r\n",
    "            if i[0] == destino:\r\n",
    "                viajeros.append((nombre, dni, destino)) \r\n",
    "        print(f'Lista de viajeros: {viajeros}')\r\n",
    "\r\n",
    "    if opcion == 2:\r\n",
    "        ciudad = input('Ciudad: ').upper()\r\n",
    "        pais = input('País: ').upper()\r\n",
    "        ciudades.append((ciudad, pais))\r\n",
    "        print(f'Lista de ciudades: {ciudades}')\r\n",
    "\r\n",
    "    if opcion == 3:\r\n",
    "        di = int(input('DNI a buscar: '))\r\n",
    "        cont = 0\r\n",
    "        pos = 0\r\n",
    "\r\n",
    "        for i in viajeros:            \r\n",
    "            if di == i[1]:\r\n",
    "                pos = cont \r\n",
    "            cont+=1\r\n",
    "\r\n",
    "        mostrar = ciudades[pos]\r\n",
    "        print(f'Ciudad: {mostrar[0]}, País: {mostrar[1]}')\r\n",
    "\r\n",
    "    if opcion == 4:\r\n",
    "        p = input('País: ').upper()\r\n",
    "        contador = 0\r\n",
    "        ciudad = ''\r\n",
    "        for i in ciudades: \r\n",
    "            if i[1] == p:\r\n",
    "                ciudad = i[0]\r\n",
    "\r\n",
    "        for i in viajeros:\r\n",
    "            if i[2] == ciudad:\r\n",
    "                contador+=1\r\n",
    "\r\n",
    "        print(f'Cantidad que viajan a {p}: {contador}')\r\n",
    "\r\n",
    "    if opcion < 0 or opcion > 5:\r\n",
    "        print('Opción fuera de rango')\r\n",
    "    \r\n",
    "print('Fin del programa')"
   ],
   "outputs": [
    {
     "output_type": "stream",
     "name": "stdout",
     "text": [
      "-----------------------Menú-----------------------\n",
      "1. Agregar pasajeros a la lista de viajeros\n",
      "2. Agregar ciudades a la lista de ciudades\n",
      "3. Buscar por DNI: \n",
      "4. Buscar por país cuántos viajan al mimsmo: \n",
      "5. Salir del programa\n",
      "Lista de ciudades: [('BSAS', 'ARG')]\n",
      "1. Agregar pasajeros a la lista de viajeros\n",
      "2. Agregar ciudades a la lista de ciudades\n",
      "3. Buscar por DNI: \n",
      "4. Buscar por país cuántos viajan al mimsmo: \n",
      "5. Salir del programa\n",
      "Lista de viajeros: [('FEDE', 35, 'BSAS')]\n",
      "1. Agregar pasajeros a la lista de viajeros\n",
      "2. Agregar ciudades a la lista de ciudades\n",
      "3. Buscar por DNI: \n",
      "4. Buscar por país cuántos viajan al mimsmo: \n",
      "5. Salir del programa\n",
      "Lista de viajeros: [('FEDE', 35, 'BSAS'), ('ARA', 45, 'BSAS')]\n",
      "1. Agregar pasajeros a la lista de viajeros\n",
      "2. Agregar ciudades a la lista de ciudades\n",
      "3. Buscar por DNI: \n",
      "4. Buscar por país cuántos viajan al mimsmo: \n",
      "5. Salir del programa\n",
      "Cantidad que viajan a ARG: 1\n",
      "1. Agregar pasajeros a la lista de viajeros\n",
      "2. Agregar ciudades a la lista de ciudades\n",
      "3. Buscar por DNI: \n",
      "4. Buscar por país cuántos viajan al mimsmo: \n",
      "5. Salir del programa\n",
      "Fin del programa\n"
     ]
    }
   ],
   "metadata": {}
  },
  {
   "cell_type": "code",
   "execution_count": null,
   "source": [],
   "outputs": [],
   "metadata": {}
  }
 ],
 "metadata": {
  "orig_nbformat": 4,
  "language_info": {
   "name": "python",
   "version": "3.8.5",
   "mimetype": "text/x-python",
   "codemirror_mode": {
    "name": "ipython",
    "version": 3
   },
   "pygments_lexer": "ipython3",
   "nbconvert_exporter": "python",
   "file_extension": ".py"
  },
  "kernelspec": {
   "name": "python3",
   "display_name": "Python 3.8.5 32-bit"
  },
  "interpreter": {
   "hash": "4dbc7d319552f751da30033d7b4995c635b04ff01c80dae115406c1f1bb6c9c9"
  }
 },
 "nbformat": 4,
 "nbformat_minor": 2
}