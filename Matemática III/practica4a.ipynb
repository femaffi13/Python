{
 "cells": [
  {
   "cell_type": "markdown",
   "source": [
    "# Práctica 4 - Tuplas"
   ],
   "metadata": {}
  },
  {
   "cell_type": "markdown",
   "source": [
    "### 1. Crea una tupla con números, pide un numero por teclado e indica cuantas veces se repite."
   ],
   "metadata": {}
  },
  {
   "cell_type": "code",
   "execution_count": null,
   "source": [
    "tupla = (1,2,3,4,5,5)\r\n",
    "n = int(input('Ingresar un valor: '))\r\n",
    "print(f'Está: {tupla.count(n)} vez/veces')"
   ],
   "outputs": [],
   "metadata": {}
  },
  {
   "cell_type": "markdown",
   "source": [
    "### 2. Crea una tupla con valores ya predefinidos del 1 al 10, pide un índice por teclado y muestra los valores de la tupla."
   ],
   "metadata": {}
  },
  {
   "cell_type": "code",
   "execution_count": null,
   "source": [
    "tupla = (1,2,3,4,5,6,7,8,9,10)\r\n",
    "n = int(input('Indice: '))\r\n",
    "print(f'El valor del índice {n} es: {tupla[n]}')"
   ],
   "outputs": [],
   "metadata": {}
  },
  {
   "cell_type": "markdown",
   "source": [
    "### 3. Escribir un programa que permita procesar datos de pasajeros de viaje en una lista de tuplas con la siguiente forma: (nombre, dni, destino). \r\n",
    "Ejemplo: [(\"Manuel Juarez\", 19823451, \"Liverpool\"), (\"Silvana Paredes\", 22709128, \"Buenos Aires\"), (\"Rosa Ortiz\", 15123978, \"Glasgow\"), (\"Luciana Hernandez\", 38981374, \"Lisboa\")] Además, en otra lista de tuplas se almacenan los datos de cada ciudad y el país al que pertenecen. Ejemplo: [(\"Buenos Aires\",\"Argentina\"), (\"Glasgow\",\"Escocia\"), (\"Lisboa\", \"Portugal\"), (\"Liverpool\",\"Inglaterra\"), (\"Madrid\",\"España\")] Hacer un programa que permita al usuario realizar las siguientes operaciones:   \r\n",
    "- Agregar pasajeros a la lista de viajeros.   \r\n",
    "- Agregar ciudades a la lista de ciudades.  \r\n",
    "- Dado el DNI de un pasajero, ver a qué ciudad viaja y país viaja \r\n",
    "- Dado un país, mostrar cuántos pasajeros viajan a ese país.  \r\n",
    "- Salir del programa."
   ],
   "metadata": {}
  },
  {
   "cell_type": "code",
   "execution_count": 8,
   "source": [
    "viajeros = []\r\n",
    "ciudades = []\r\n",
    "print('Menú'.center(50,'-'))\r\n",
    "opcion = 0\r\n",
    "while opcion != 5:\r\n",
    "    print('1. Agregar pasajeros a la lista de viajeros')\r\n",
    "    print('2. Agregar ciudades a la lista de ciudades')\r\n",
    "    print('3. Buscar por DNI: ')\r\n",
    "    print('5. Salir del programa')\r\n",
    "\r\n",
    "    opcion = int(input('Opción: '))\r\n",
    "\r\n",
    "    if opcion == 1:\r\n",
    "        nombre = input('Nombre: ')\r\n",
    "        dni = input('DNI: ')\r\n",
    "        destino = input('Destino: ')\r\n",
    "        viajeros.append((nombre, dni, destino))\r\n",
    "\r\n",
    "    if opcion == 2:\r\n",
    "        ciudad = input('Ciudad de procedencia: ')\r\n",
    "        pais = input('País: ')\r\n",
    "        ciudades.append((ciudad, pais))\r\n",
    "\r\n",
    "    if opcion == 3:\r\n",
    "        di = input('DNI a buscar: ')\r\n",
    "        for i in viajeros:\r\n",
    "            if viajeros[i][1] == di:\r\n",
    "                print('está!')\r\n",
    "print(viajeros)\r\n",
    "    "
   ],
   "outputs": [
    {
     "output_type": "stream",
     "name": "stdout",
     "text": [
      "-----------------------Menú-----------------------\n",
      "1. Agregar pasajeros a la lista de viajeros\n",
      "2. Agregar ciudades a la lista de ciudades\n",
      "3. Buscar por DNI: \n",
      "5. Salir del programa\n",
      "1. Agregar pasajeros a la lista de viajeros\n",
      "2. Agregar ciudades a la lista de ciudades\n",
      "3. Buscar por DNI: \n",
      "5. Salir del programa\n"
     ]
    },
    {
     "output_type": "error",
     "ename": "TypeError",
     "evalue": "list indices must be integers or slices, not tuple",
     "traceback": [
      "\u001b[1;31m---------------------------------------------------------------------------\u001b[0m",
      "\u001b[1;31mTypeError\u001b[0m                                 Traceback (most recent call last)",
      "\u001b[1;32m~\\AppData\\Local\\Temp/ipykernel_8004/4211537427.py\u001b[0m in \u001b[0;36m<module>\u001b[1;34m\u001b[0m\n\u001b[0;32m     25\u001b[0m         \u001b[0mdi\u001b[0m \u001b[1;33m=\u001b[0m \u001b[0minput\u001b[0m\u001b[1;33m(\u001b[0m\u001b[1;34m'DNI a buscar: '\u001b[0m\u001b[1;33m)\u001b[0m\u001b[1;33m\u001b[0m\u001b[1;33m\u001b[0m\u001b[0m\n\u001b[0;32m     26\u001b[0m         \u001b[1;32mfor\u001b[0m \u001b[0mi\u001b[0m \u001b[1;32min\u001b[0m \u001b[0mviajeros\u001b[0m\u001b[1;33m:\u001b[0m\u001b[1;33m\u001b[0m\u001b[1;33m\u001b[0m\u001b[0m\n\u001b[1;32m---> 27\u001b[1;33m             \u001b[1;32mif\u001b[0m \u001b[0mdi\u001b[0m \u001b[1;32min\u001b[0m \u001b[0mviajeros\u001b[0m\u001b[1;33m[\u001b[0m\u001b[0mi\u001b[0m\u001b[1;33m]\u001b[0m\u001b[1;33m[\u001b[0m\u001b[1;36m1\u001b[0m\u001b[1;33m]\u001b[0m\u001b[1;33m:\u001b[0m\u001b[1;33m\u001b[0m\u001b[1;33m\u001b[0m\u001b[0m\n\u001b[0m\u001b[0;32m     28\u001b[0m                 \u001b[0mprint\u001b[0m\u001b[1;33m(\u001b[0m\u001b[1;34m'está!'\u001b[0m\u001b[1;33m)\u001b[0m\u001b[1;33m\u001b[0m\u001b[1;33m\u001b[0m\u001b[0m\n\u001b[0;32m     29\u001b[0m \u001b[1;33m\u001b[0m\u001b[0m\n",
      "\u001b[1;31mTypeError\u001b[0m: list indices must be integers or slices, not tuple"
     ]
    }
   ],
   "metadata": {}
  },
  {
   "cell_type": "code",
   "execution_count": null,
   "source": [],
   "outputs": [],
   "metadata": {}
  }
 ],
 "metadata": {
  "orig_nbformat": 4,
  "language_info": {
   "name": "python",
   "version": "3.8.5",
   "mimetype": "text/x-python",
   "codemirror_mode": {
    "name": "ipython",
    "version": 3
   },
   "pygments_lexer": "ipython3",
   "nbconvert_exporter": "python",
   "file_extension": ".py"
  },
  "kernelspec": {
   "name": "python3",
   "display_name": "Python 3.8.5 32-bit"
  },
  "interpreter": {
   "hash": "4dbc7d319552f751da30033d7b4995c635b04ff01c80dae115406c1f1bb6c9c9"
  }
 },
 "nbformat": 4,
 "nbformat_minor": 2
}