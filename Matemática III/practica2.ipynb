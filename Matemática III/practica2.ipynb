{
 "cells": [
  {
   "cell_type": "markdown",
   "source": [
    "# Práctica de Condicionales"
   ],
   "metadata": {}
  },
  {
   "cell_type": "markdown",
   "source": [
    "### 1. Solicitar al usuario que ingrese dos números y mostrar cuál de los dos es menor. No considerar el caso en que ambos números son iguales."
   ],
   "metadata": {}
  },
  {
   "cell_type": "code",
   "execution_count": null,
   "source": [
    "n1 = int(input(\"Ingresar el primer valor: \"))\r\n",
    "n2 = int(input(\"Ingresar el segundo valor: \"))\r\n",
    "\r\n",
    "if n1 < n2:\r\n",
    "    print(\"El primer valor es menor que el segundo\")\r\n",
    "elif n2 < n1:\r\n",
    "    print(\"El segundo valor es menor que el primero\")\r\n",
    "else:\r\n",
    "    print(\"Ambos valores son iguales\")"
   ],
   "outputs": [],
   "metadata": {}
  },
  {
   "cell_type": "markdown",
   "source": [
    "### 2. Requerir al usuario que ingrese un día de la semana e imprimir un mensaje si es lunes, otro mensaje diferente si es viernes, otro mensaje diferente si es sábado o domingo. Si el día ingresado no es ninguno de esos, imprimir otro mensaje."
   ],
   "metadata": {}
  },
  {
   "cell_type": "code",
   "execution_count": null,
   "source": [
    "dia = input(\"Que día es hoy? \").lower()\r\n",
    "\r\n",
    "if dia == \"lunes\":\r\n",
    "    print(\"Buen comienzo de semana!\")\r\n",
    "elif dia == \"martes\":\r\n",
    "    print(\"Buen martes!\")\r\n",
    "elif dia == \"miercoles\":\r\n",
    "    print(\"Mitad de semana!\")\r\n",
    "elif dia == \"jueves\":\r\n",
    "    print(\"Dale que mañana es viernes!\")\r\n",
    "elif dia == \"viernes\":\r\n",
    "    print(\"Al fin viernes!\")\r\n",
    "elif dia == \"sabado\":\r\n",
    "    print(\"Que sale hoy?\")\r\n",
    "elif dia == \"domingo\":\r\n",
    "    print(\"Día pachorrero\")\r\n",
    "else: \r\n",
    "    print(\"No corresponde a un día de la semana.\")"
   ],
   "outputs": [],
   "metadata": {}
  },
  {
   "cell_type": "markdown",
   "source": [
    "### 3. Crear un programa que permita al usuario elegir un candidato por el cual votar. Las posibilidades son: candidato A por el partido rojo, candidato B por el partido verde, candidato C por el partido azul. Según el candidato elegido (A, B ó C) se le debe imprimir el mensaje “Usted ha votado por el partido [color que corresponda al candidato elegido]”. Si el usuario ingresa una opción que no corresponde a ninguno de los candidatos disponibles, indicar “Opción errónea”."
   ],
   "metadata": {}
  },
  {
   "cell_type": "code",
   "execution_count": null,
   "source": [
    "candidato = input(\"Candidato a votar: \\nA - Partido rojo \\nB - Partido verde \\n C - Partido azul\").upper()\r\n",
    "color = \"\"\r\n",
    "if candidato == \"A\":\r\n",
    "    color = \"rojo\"\r\n",
    "    print(f\"Usted ha votado por el partido {color}\")\r\n",
    "elif candidato == \"B\":\r\n",
    "    color = \"verde\"\r\n",
    "    print(f\"Usted ha votado por el partido {color}\")\r\n",
    "elif candidato == \"C\":\r\n",
    "    color = \"azul\"\r\n",
    "    print(f\"Usted ha votado por el partido {color}\")\r\n",
    "else: \r\n",
    "    print(\"Opción errónea\")"
   ],
   "outputs": [],
   "metadata": {}
  },
  {
   "cell_type": "markdown",
   "source": [
    "### 4. Escribir un programa que solicite al usuario una letra y, si es una vocal, muestre el mensaje “es vocal”. Se debe validar que el usuario ingrese sólo un carácter. Si ingresa un string de más de un carácter, informarle que no se puede procesar el dato."
   ],
   "metadata": {}
  },
  {
   "cell_type": "code",
   "execution_count": null,
   "source": [
    "letra = input(\"Ingresar una letra: \").lower()\r\n",
    "if len(letra) == 1:\r\n",
    "    if letra == \"a\" or letra == \"e\" or letra == \"i\" or letra == \"o\" or letra == \"u\":\r\n",
    "        print(\"Es vocal\")\r\n",
    "    else: \r\n",
    "        print(\"No es vocal\")\r\n",
    "else:\r\n",
    "    print(\"No se puede procesar el dato. Debe ser un solo caracter\")"
   ],
   "outputs": [],
   "metadata": {}
  },
  {
   "cell_type": "markdown",
   "source": [
    "### 5. Hacer un programa que permita saber si un año es bisiesto. Para que un año sea bisiesto debe ser divisible por 4 y no debe ser divisible por 100, excepto que también sea divisible por 400."
   ],
   "metadata": {}
  },
  {
   "cell_type": "code",
   "execution_count": null,
   "source": [
    "año = int(input(\"Ingresar un año: \"))\r\n",
    "if año % 4 == 0 and año % 100 != 0 or año % 400 == 0:\r\n",
    "    print(\"Año bisiesto\")\r\n",
    "else:\r\n",
    "    print(\"No es un año bisiesto\")"
   ],
   "outputs": [],
   "metadata": {}
  },
  {
   "cell_type": "markdown",
   "source": [
    "### 6. Un instituto de enseñanza necesita un programa que permita, cada día, procesar observaciones sobre las clases de ese día. El instituto dicta clases a estudiantes de distintos niveles y cada nivel tiene clases en un día de la semana diferente:\r\n",
    "* los lunes se dicta el nivel inicial,\r\n",
    "* los martes el nivel intermedio,\r\n",
    "* los miércoles el nivel avanzado,\r\n",
    "* los jueves son para práctica y\r\n",
    "* los viernes para consultas.  \r\n",
    "a. Se debe comenzar por solicitar al usuario que ingrese el día (por ejemplo lunes)  \r\n",
    "b. Una vez indicado el día, el usuario necesita poder indicar si ese día se tomaron exámenes, pero sólo si se trata de los niveles inicial, intermedio o avanzado, ya que las prácticas y las consultas no tienen exámenes.  \r\n",
    "c. Si hubo exámenes, el usuario ingresará cuántos alumnos aprobaron y cuántos no, y el programa le mostrará el porcentaje de aprobados.  \r\n",
    "d. Si el día fue el correspondiente a práctica, el usuario deberá ingresar el porcentaje de asistencia a clase y el programa le indicará \"asistió la mayoría\" en caso de que la asistencia sea mayor al 50% o \"no asistió la mayoría\" si no es así.  \r\n",
    "e. Si se trata de las consultas y se deberá emitir \"Clase de consulta\" y solicitar al usuario que ingrese la cantidad de alumnos de la clase y el arancel en \\$ por cada alumno que consulta, para luego imprimir el ingreso total en \\$."
   ],
   "metadata": {}
  },
  {
   "cell_type": "code",
   "execution_count": 5,
   "source": [
    "dia = input(\"Ingrese el día: \").lower()\r\n",
    "\r\n",
    "if dia == \"lunes\" or dia == \"martes\" or dia == \"miercoles\":\r\n",
    "    examen = input(\"Hubo exámen? (S/N)\").lower()\r\n",
    "    if examen == \"s\":\r\n",
    "        aprobados = int(input(\"Cuántos aprobaron? \"))\r\n",
    "        desaprobados = int(input(\"Cuántos desaprobaron? \"))\r\n",
    "    p_aprobados = (aprobados / (aprobados + desaprobados)) * 100\r\n",
    "    print(f\"Porcentaje de aprobados: {round(p_aprobados, 3)}%\")\r\n",
    "elif dia == \"jueves\":\r\n",
    "    asistencia = float(input(\"Porcentaje de asistencia a clase: \"))\r\n",
    "    if asistencia > 50:\r\n",
    "        print(\"Asistió la mayoría\")\r\n",
    "    else: \r\n",
    "        print(\"No asistió la mayoría\")\r\n",
    "elif dia == \"viernes\":\r\n",
    "    print(\"Clase de consulta\")\r\n",
    "    cantidad = int(input(\"Cantidad de alumnos de la clase: \"))\r\n",
    "    arancel = float(input(\"Arancel por cada alumno: \"))\r\n",
    "    ingreso = arancel * cantidad\r\n",
    "    print(f\"Ingreso total: ${ingreso}\")\r\n",
    "else: \r\n",
    "    print(\"Día mal ingresado.\")"
   ],
   "outputs": [
    {
     "output_type": "stream",
     "name": "stdout",
     "text": [
      "Clase de consulta\n",
      "Ingreso total: $600.0\n"
     ]
    }
   ],
   "metadata": {}
  },
  {
   "cell_type": "code",
   "execution_count": null,
   "source": [],
   "outputs": [],
   "metadata": {}
  }
 ],
 "metadata": {
  "orig_nbformat": 4,
  "language_info": {
   "name": "python",
   "version": "3.8.5",
   "mimetype": "text/x-python",
   "codemirror_mode": {
    "name": "ipython",
    "version": 3
   },
   "pygments_lexer": "ipython3",
   "nbconvert_exporter": "python",
   "file_extension": ".py"
  },
  "kernelspec": {
   "name": "python3",
   "display_name": "Python 3.8.5 32-bit"
  },
  "interpreter": {
   "hash": "4dbc7d319552f751da30033d7b4995c635b04ff01c80dae115406c1f1bb6c9c9"
  }
 },
 "nbformat": 4,
 "nbformat_minor": 2
}