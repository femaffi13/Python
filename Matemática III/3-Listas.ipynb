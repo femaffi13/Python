{
 "cells": [
  {
   "cell_type": "markdown",
   "source": [
    "# Práctica 3 - Listas"
   ],
   "metadata": {}
  },
  {
   "cell_type": "markdown",
   "source": [
    "### 1. Escribe un programa que permita crear una lista de palabras. Para ello, el programa tiene que pedir un número y luego solicitar esa cantidad de palabras para crear la lista. Por último, el programa tiene que emitir la lista."
   ],
   "metadata": {}
  },
  {
   "cell_type": "code",
   "execution_count": null,
   "source": [
    "palabras = []\r\n",
    "cantidad = int(input('Cantidad de palabras: '))\r\n",
    "for palabra in range(cantidad):\r\n",
    "    palabra = input('Palabra a ingresar: ').upper()\r\n",
    "    palabras.append(palabra)\r\n",
    "print(palabras)"
   ],
   "outputs": [],
   "metadata": {}
  },
  {
   "cell_type": "markdown",
   "source": [
    "### 2. Escribe un programa que permita crear una lista de palabras y que, a continuación, pida una palabra y diga cuántas veces aparece esa palabra en la lista."
   ],
   "metadata": {}
  },
  {
   "cell_type": "code",
   "execution_count": null,
   "source": [
    "palabras = []\r\n",
    "cantidad = int(input('Cantidad de palabras: '))\r\n",
    "for palabra in range(cantidad):\r\n",
    "    palabra = input('Palabra a ingresar: ').upper()\r\n",
    "    palabras.append(palabra)\r\n",
    "\r\n",
    "evaluar = input('Palabra a contar en la lista:').upper()\r\n",
    "print(f'La palabra \"{evaluar}\" se encuentra {palabras.count(evaluar)} veces')"
   ],
   "outputs": [],
   "metadata": {}
  },
  {
   "cell_type": "markdown",
   "source": [
    "### 3. Escribe un programa que permita crear una lista de palabras y que, a continuación, pida dos palabras y sustituya la primera (que debe estar en la lista) por la segunda. Emitir la lista."
   ],
   "metadata": {}
  },
  {
   "cell_type": "code",
   "execution_count": null,
   "source": [
    "palabras = []\r\n",
    "cantidad = int(input('Cantidad de palabras: '))\r\n",
    "for palabra in range(cantidad):\r\n",
    "    palabra = input('Palabra a ingresar: ').upper()\r\n",
    "    palabras.append(palabra)\r\n",
    "\r\n",
    "primera = input('Ingresar una palabra de la lista: ').upper()\r\n",
    "if primera in palabras:\r\n",
    "    for i, palabra in enumerate(palabras):\r\n",
    "        if palabras[i] == primera:\r\n",
    "            segunda = input('Nueva palabra: ').upper()\r\n",
    "            palabras[i] = segunda\r\n",
    "else:\r\n",
    "    print('La palabra no se encuentra en la lista.')\r\n",
    "print(palabras)"
   ],
   "outputs": [],
   "metadata": {}
  },
  {
   "cell_type": "markdown",
   "source": [
    "### 4. Escribe un programa que permita crear una lista de palabras y que, a continuación, pida una palabra y elimine esa palabra de la lista."
   ],
   "metadata": {}
  },
  {
   "cell_type": "code",
   "execution_count": null,
   "source": [
    "palabras = []\r\n",
    "cantidad = int(input('Cantidad de palabras: '))\r\n",
    "for palabra in range(cantidad):\r\n",
    "    palabra = input('Palabra a ingresar: ').upper()\r\n",
    "    palabras.append(palabra)\r\n",
    "\r\n",
    "eliminar = input('Palabra a eliminar: ').upper()\r\n",
    "if eliminar in palabras:\r\n",
    "    for i, palabra in enumerate(palabras):\r\n",
    "        if palabras[i] == eliminar:\r\n",
    "            palabras.remove(eliminar)\r\n",
    "else:\r\n",
    "    print('La palabra no se encuentra en la lista.')\r\n",
    "print(palabras)"
   ],
   "outputs": [],
   "metadata": {}
  },
  {
   "cell_type": "markdown",
   "source": [
    "### 5. Escribe un programa que permita crear dos listas de palabras y que, a continuación, elimine de la primera lista los nombres de la segunda lista."
   ],
   "metadata": {}
  },
  {
   "cell_type": "code",
   "execution_count": null,
   "source": [
    "palabras1 = []\r\n",
    "cantidad = int(input('Cantidad de palabras: '))\r\n",
    "for palabra in range(cantidad):\r\n",
    "    palabra = input('Palabra a ingresar: ').upper()\r\n",
    "    palabras1.append(palabra)\r\n",
    "\r\n",
    "palabras2 = []\r\n",
    "cantidad = int(input('Cantidad de palabras: '))\r\n",
    "for palabra in range(cantidad):\r\n",
    "    palabra = input('Palabra a ingresar: ').upper()\r\n",
    "    palabras2.append(palabra)\r\n",
    "\r\n",
    "for item in palabras1:\r\n",
    "    if item in palabras2:\r\n",
    "        palabras1.remove(item)\r\n",
    "\r\n",
    "print(palabras1)\r\n",
    "print(palabras2)"
   ],
   "outputs": [],
   "metadata": {}
  },
  {
   "cell_type": "markdown",
   "source": [
    "### 6. Escribe un programa que permita crear una lista de palabras y que, a continuación, cree una segunda lista igual a la primera, pero al revés (crear una lista distinta).\r\n"
   ],
   "metadata": {}
  },
  {
   "cell_type": "code",
   "execution_count": null,
   "source": [
    "palabras1 = []\r\n",
    "cantidad = int(input('Cantidad de palabras: '))\r\n",
    "for palabra in range(cantidad):\r\n",
    "    palabra = input('Palabra a ingresar: ').upper()\r\n",
    "    palabras1.append(palabra)\r\n",
    "\r\n",
    "palabras2 = palabras1[::-1]\r\n",
    "print(palabras2)"
   ],
   "outputs": [],
   "metadata": {}
  }
 ],
 "metadata": {
  "orig_nbformat": 4,
  "language_info": {
   "name": "python",
   "version": "3.8.5",
   "mimetype": "text/x-python",
   "codemirror_mode": {
    "name": "ipython",
    "version": 3
   },
   "pygments_lexer": "ipython3",
   "nbconvert_exporter": "python",
   "file_extension": ".py"
  },
  "kernelspec": {
   "name": "python3",
   "display_name": "Python 3.8.5 32-bit"
  },
  "interpreter": {
   "hash": "4dbc7d319552f751da30033d7b4995c635b04ff01c80dae115406c1f1bb6c9c9"
  }
 },
 "nbformat": 4,
 "nbformat_minor": 2
}