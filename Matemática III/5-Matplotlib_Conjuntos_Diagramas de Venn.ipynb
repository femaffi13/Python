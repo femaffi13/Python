{
 "cells": [
  {
   "cell_type": "markdown",
   "source": [
    "# Práctica 5 - Matplotlib - Conjuntos y Venn"
   ],
   "metadata": {}
  },
  {
   "cell_type": "code",
   "execution_count": 5,
   "source": [
    "from matplotlib import pyplot as plt  #pyplot permite generar gráficos.\r\n",
    "from matplotlib_venn import venn2, venn3  ##Venn2 tiene implementado clases, funciones, métodos, para generar diagramas de Venn.\r\n",
    "#Un grupo de jóvenes fue entrevistado para conocer sus preferencias de los #siguientes medios de trasnporte:\r\n",
    "# moto, auto y bicicleta. Los datos de la encuesta fueron los siguientes: \r\n",
    "# #1. 5 jóvenes prefieren solamente la moto \r\n",
    "# #2. 38 jóvenes prefieren la moto \r\n",
    "# #3. A 9 jóvenes no les gusta el automóvil como medio de transporte \r\n",
    "# #4. 3 jóvenes prefieren la moto y la bicicleta, pero no el auto \r\n",
    "# #5. 20 prefieren la moto y el auto, pero no la bicicleta \r\n",
    "# #6. A 72 no les gusta la bicicleta como medio de trasnporte \r\n",
    "# #7. Un solo joven, no prefiere ninguno de estos tres medios de transporte \r\n",
    "# #8. A 61 no les gusta la moto como medio de transporte \r\n",
    "moto = {5,20,3,10} \r\n",
    "auto = {46,20,10,14} \r\n",
    "bici = {0,3,10,14} \r\n",
    "x = {1} \r\n",
    "\r\n",
    "# #Muestro los conjuntos \r\n",
    "print(f\"Los conjuntos son: \\nM={moto}, A={auto}, B={bici} y U={x}\\n\") \r\n",
    "# #Funcion in \r\n",
    "print(\"Funcion in. Busco si 5 esta en el conjunto M:\")\r\n",
    "print(5 in moto)\r\n",
    "# #Funcion len \r\n",
    "print(\"Funcion len. Muestro el modulo de A: \") \r\n",
    "print(len(auto)) \r\n",
    "# #Funcion not \r\n",
    "print(\"Funcion not. Muestro si 10 no esta en B: \") \r\n",
    "print(10 not in bici) \r\n",
    "# #Funcion add \r\n",
    "print(\"Funcion add. Añado un elemento al conjunto U: \") \r\n",
    "x.add('x')\r\n",
    "print(x) \r\n",
    "#Funcion remove \r\n",
    "print(\"Funcion remove. Elimino un elemento al conjunto U: \") \r\n",
    "x.remove('x')\r\n",
    "print(x)\r\n",
    "#Funcion intersection \r\n",
    "print(\"Funcion intersection. Muestro la interseccion entre B y A: \") \r\n",
    "print(bici&auto)\r\n",
    "#Funcion union \r\n",
    "print(\"Funcion union. Muestro la union entre M y A: \")\r\n",
    "print(moto|auto) \r\n",
    "#Funcion diferencia \r\n",
    "print(\"Funcion diferencia. Aplico la funcion diferencia entre A y B: \") \r\n",
    "print (auto-bici) \r\n",
    "# #Funcion ^ \r\n",
    "print(\"Funcion diferencia. Aplico la funcion diferencia simetrica entre A y B: \") \r\n",
    "print(auto^bici) \r\n",
    "#Funcion issubset \r\n",
    "print(\"Funcion issubset. Muestro si M es un subconjunto de A: \") \r\n",
    "print(moto.issubset(auto))"
   ],
   "outputs": [
    {
     "output_type": "stream",
     "name": "stdout",
     "text": [
      "Los conjuntos son: \n",
      "M={10, 3, 20, 5}, A={10, 20, 46, 14}, B={0, 10, 3, 14} y U={1}\n",
      "\n",
      "Funcion in. Busco si 5 esta en el conjunto M:\n",
      "True\n",
      "Funcion len. Muestro el modulo de A: \n",
      "4\n",
      "Funcion not. Muestro si 10 no esta en B: \n",
      "False\n",
      "Funcion add. Añado un elemento al conjunto U: \n",
      "{1, 'x'}\n",
      "Funcion remove. Elimino un elemento al conjunto U: \n",
      "{1}\n",
      "Funcion intersection. Muestro la interseccion entre B y A: \n",
      "{10, 14}\n",
      "Funcion union. Muestro la union entre M y A: \n",
      "{3, 5, 10, 46, 14, 20}\n",
      "Funcion diferencia. Aplico la funcion diferencia entre A y B: \n",
      "{20, 46}\n",
      "Funcion diferencia. Aplico la funcion diferencia simetrica entre A y B: \n",
      "{0, 3, 46, 20}\n",
      "Funcion issubset. Muestro si M es un subconjunto de A: \n",
      "False\n"
     ]
    }
   ],
   "metadata": {}
  },
  {
   "cell_type": "code",
   "execution_count": 2,
   "source": [
    "nMoto = sum(moto)\r\n",
    "motoAuto = moto&auto\r\n",
    "nmotoAuto = sum(motoAuto)\r\n",
    "autoBici = auto&bici \r\n",
    "nautoBici = sum(autoBici)\r\n",
    "motoBici = moto&bici \r\n",
    "nmotoBici = sum(motoBici)\r\n",
    "autoMotoBici = moto&auto&bici \r\n",
    "nautoMotoBici = sum(autoMotoBici)\r\n",
    "nAuto = sum(auto)\r\n",
    "nBici = sum(bici)\r\n",
    "\r\n",
    "venn3(subsets = (nMoto,nAuto,nmotoAuto,nBici,nmotoBici,nautoBici,nautoMotoBici))  #(izq,der,int)\r\n",
    "plt.show()"
   ],
   "outputs": [
    {
     "output_type": "display_data",
     "data": {
      "image/png": "[encoded data removed]",
      "text/plain": [
       "<Figure size 432x288 with 1 Axes>"
      ]
     },
     "metadata": {}
    }
   ],
   "metadata": {}
  }
 ],
 "metadata": {
  "orig_nbformat": 4,
  "language_info": {
   "name": "python",
   "version": "3.8.5",
   "mimetype": "text/x-python",
   "codemirror_mode": {
    "name": "ipython",
    "version": 3
   },
   "pygments_lexer": "ipython3",
   "nbconvert_exporter": "python",
   "file_extension": ".py"
  },
  "kernelspec": {
   "name": "python3",
   "display_name": "Python 3.8.5 32-bit"
  },
  "interpreter": {
   "hash": "4dbc7d319552f751da30033d7b4995c635b04ff01c80dae115406c1f1bb6c9c9"
  }
 },
 "nbformat": 4,
 "nbformat_minor": 2
}