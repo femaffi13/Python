{
 "cells": [
  {
   "cell_type": "markdown",
   "metadata": {},
   "source": [
    "# Práctica 7 - Pandas"
   ]
  },
  {
   "cell_type": "code",
   "execution_count": 1,
   "metadata": {},
   "outputs": [],
   "source": [
    "import pandas as pd\n",
    "import matplotlib.pyplot as plt\n",
    "import numpy as np"
   ]
  },
  {
   "cell_type": "markdown",
   "metadata": {},
   "source": [
    "## 2. Escribir una función que reciba un diccionario con las notas de los alumnos de curso y devuelva una serie con la nota mínima, la máxima, media y la desviación típica de cada uno."
   ]
  },
  {
   "cell_type": "code",
   "execution_count": 22,
   "metadata": {},
   "outputs": [
    {
     "name": "stdout",
     "output_type": "stream",
     "text": [
      "Luis: [4, 7, 5.0, 1.25]\n",
      "Juan: [8, 10, 9.0, 0.82]\n",
      "María: [3, 7, 5.0, 1.63]\n",
      "Jimena: [6, 9, 7.0, 1.25]\n"
     ]
    }
   ],
   "source": [
    "def alumnos(**dicc):\n",
    "    for k,v in dicc.items():\n",
    "        minima = min(v)\n",
    "        maxima = max(v)\n",
    "        media = np.median(v)\n",
    "        dt = round(np.std(v),2)\n",
    "        notas = [minima, maxima, media, dt]\n",
    "        print(f'{k}: {notas}')\n",
    "\n",
    "notasAlumnos = {\n",
    "    'Luis': [4, 5, 7],\n",
    "    'Juan': [9, 8, 10],\n",
    "    'María': [7, 5, 3],\n",
    "    'Jimena': [6, 7, 9]\n",
    "}\n",
    "\n",
    "alumnos(**notasAlumnos)\n"
   ]
  },
  {
   "cell_type": "markdown",
   "metadata": {},
   "source": [
    "## 3. Escribir una función que reciba los datos siguientes en un DataFrame, una lista de meses, y devuelva el balance (ventas - gastos) total en los meses indicados."
   ]
  },
  {
   "cell_type": "code",
   "execution_count": 23,
   "metadata": {},
   "outputs": [],
   "source": [
    "datos = {'Mes':['Enero', 'Febrero', 'Marzo', 'Abril'], 'Ventas':[30500, 35600, 28300, 33900], 'Gastos':[22000, 23400, 18100, 20700]}"
   ]
  },
  {
   "cell_type": "code",
   "execution_count": 27,
   "metadata": {},
   "outputs": [],
   "source": [
    "df = pd.DataFrame(datos)"
   ]
  },
  {
   "cell_type": "code",
   "execution_count": 28,
   "metadata": {},
   "outputs": [
    {
     "name": "stdout",
     "output_type": "stream",
     "text": [
      "       Mes  Ventas  Gastos  Balance\n",
      "0    Enero   30500   22000     8500\n",
      "1  Febrero   35600   23400    12200\n",
      "2    Marzo   28300   18100    10200\n",
      "3    Abril   33900   20700    13200\n"
     ]
    }
   ],
   "source": [
    "def balance(df):\n",
    "    df['Balance'] = df['Ventas'] - df['Gastos']\n",
    "    print(df)\n",
    "\n",
    "balance(df)"
   ]
  },
  {
   "cell_type": "markdown",
   "metadata": {},
   "source": [
    "## 4. El archivo autos.xlsx contiene datos de precios de autos y stock. Calcular el precio mínimo, el máximo y el promedio. Calcula y agrupa por tipo en relación a la suma de su stock. Construye un gráfico que lo represente."
   ]
  },
  {
   "cell_type": "code",
   "execution_count": 2,
   "metadata": {},
   "outputs": [
    {
     "name": "stdout",
     "output_type": "stream",
     "text": [
      "   Orden  IDMARCA       MODELO            TIPO  PRECIO  AUMENTO  STOCK\n",
      "0      1      100  99 Cavalier    Descapotable   19571     0.06      6\n",
      "1      2      100    99 Blazer       Deportivo   18470     0.02      5\n",
      "2      3      100    99 Camaro    Descapotable   22205     0.04      9\n",
      "3      4      100    99 Malibu  Sedán Familiar   16000     0.06      5\n",
      "4      5      100    99 Lumina  Sedán Familiar   18190     0.06      8\n"
     ]
    }
   ],
   "source": [
    "df_autos = pd.read_excel('autos.xlsx')\n",
    "print(df_autos.head())"
   ]
  },
  {
   "cell_type": "markdown",
   "metadata": {},
   "source": []
  },
  {
   "cell_type": "code",
   "execution_count": 3,
   "metadata": {},
   "outputs": [
    {
     "name": "stdout",
     "output_type": "stream",
     "text": [
      "Precio mínimo: 10562 \n",
      "Precio máximo: 39562 \n",
      "Precio promedio: 19837.55\n"
     ]
    }
   ],
   "source": [
    "min = df_autos['PRECIO'].min()\n",
    "max = df_autos['PRECIO'].max()\n",
    "prom = df_autos['PRECIO'].mean()\n",
    "print(f'Precio mínimo: {min} \\nPrecio máximo: {max} \\nPrecio promedio: {round(prom,2)}')"
   ]
  },
  {
   "cell_type": "code",
   "execution_count": 5,
   "metadata": {},
   "outputs": [
    {
     "data": {
      "image/png": "[encoded data removed]",
      "text/plain": [
       "<Figure size 648x360 with 1 Axes>"
      ]
     },
     "metadata": {
      "needs_background": "light"
     },
     "output_type": "display_data"
    }
   ],
   "source": [
    "df_autos.groupby('TIPO')['STOCK'].sum().plot(kind='barh', figsize=(9,5))\n",
    "plt.xlabel('Stock', size=12)\n",
    "plt.ylabel('Tipo', size=12)\n",
    "plt.title('Concesionaria', weight='bold', size=14)\n",
    "plt.show()"
   ]
  },
  {
   "cell_type": "markdown",
   "metadata": {},
   "source": [
    "## 5. El archivo comercio_interno.csv contiene información sobre el comercio interno del país desde la década del 90. Escribe un programa que:  \n",
    "a. Genere un Data Frame con los datos del archivo.  \n",
    "b. Muestre por pantalla las dimensiones del Data Frame, el número de datos que contiene, los nombres de sus columnas y filas, los tipos de datos de las columnas, las 10 primeras filas y las 10 últimas filas.  \n",
    "c. Muestre por pantalla un gráfico de los datos de empleo por provincia y su relación con la columna valor.  \n",
    "d. Muestre por pantalla la columna alcance_nombre ordenada alfabéticamente.  \n",
    "e. Muestre un gráfico de las ventas_en centro de compras total entre los años 2016 al 2019.  \n",
    "f. Muestre un gráfico de la actividad_producto_nombre agrupados en relación al valor.  \n",
    "g. Emita cual es la actividad_producto_nombre que generó más valor.  \n",
    "h. Sume por alcance_nombre los valores de los años 2009 al 2019.  \n",
    "i. Muestre un gráfico de la actividad_producto_nombre en la provincia de Mendoza del año 2015 al 2019"
   ]
  },
  {
   "cell_type": "markdown",
   "metadata": {},
   "source": [
    "## a. Genere un Data Frame con los datos del archivo.  "
   ]
  },
  {
   "cell_type": "code",
   "execution_count": 4,
   "metadata": {},
   "outputs": [
    {
     "data": {
      "text/html": [
       "<div>\n",
       "<style scoped>\n",
       "    .dataframe tbody tr th:only-of-type {\n",
       "        vertical-align: middle;\n",
       "    }\n",
       "\n",
       "    .dataframe tbody tr th {\n",
       "        vertical-align: top;\n",
       "    }\n",
       "\n",
       "    .dataframe thead th {\n",
       "        text-align: right;\n",
       "    }\n",
       "</style>\n",
       "<table border=\"1\" class=\"dataframe\">\n",
       "  <thead>\n",
       "    <tr style=\"text-align: right;\">\n",
       "      <th></th>\n",
       "      <th>sector_id</th>\n",
       "      <th>sector_nombre</th>\n",
       "      <th>variable_id</th>\n",
       "      <th>actividad_producto_nombre</th>\n",
       "      <th>indicador</th>\n",
       "      <th>unidad_de_medida</th>\n",
       "      <th>fuente</th>\n",
       "      <th>frecuencia_nombre</th>\n",
       "      <th>cobertura_nombre</th>\n",
       "      <th>alcance_tipo</th>\n",
       "      <th>alcance_id</th>\n",
       "      <th>alcance_nombre</th>\n",
       "      <th>indice_tiempo</th>\n",
       "      <th>valor</th>\n",
       "    </tr>\n",
       "  </thead>\n",
       "  <tbody>\n",
       "    <tr>\n",
       "      <th>20517</th>\n",
       "      <td>31</td>\n",
       "      <td>Comercio interno</td>\n",
       "      <td>760</td>\n",
       "      <td>Otros rubros</td>\n",
       "      <td>Vtas en super, a precios ctes</td>\n",
       "      <td>miles de pesos</td>\n",
       "      <td>INDEC</td>\n",
       "      <td>Mensual</td>\n",
       "      <td>Nacional</td>\n",
       "      <td>PROVINCIA</td>\n",
       "      <td>14</td>\n",
       "      <td>CORDOBA</td>\n",
       "      <td>01/02/2018</td>\n",
       "      <td>145993.895</td>\n",
       "    </tr>\n",
       "    <tr>\n",
       "      <th>28532</th>\n",
       "      <td>31</td>\n",
       "      <td>Comercio interno</td>\n",
       "      <td>1114</td>\n",
       "      <td>Verdulería y frutería</td>\n",
       "      <td>Vtas en super, a precios ctes</td>\n",
       "      <td>miles de pesos</td>\n",
       "      <td>INDEC</td>\n",
       "      <td>Mensual</td>\n",
       "      <td>Nacional</td>\n",
       "      <td>PROVINCIA</td>\n",
       "      <td>90</td>\n",
       "      <td>TUCUMAN</td>\n",
       "      <td>01/04/2009</td>\n",
       "      <td>2673.000</td>\n",
       "    </tr>\n",
       "    <tr>\n",
       "      <th>5560</th>\n",
       "      <td>31</td>\n",
       "      <td>Comercio interno</td>\n",
       "      <td>359</td>\n",
       "      <td>Artículos de limpieza y perfumería</td>\n",
       "      <td>Vtas en super, a precios ctes</td>\n",
       "      <td>miles de pesos</td>\n",
       "      <td>INDEC</td>\n",
       "      <td>Mensual</td>\n",
       "      <td>Nacional</td>\n",
       "      <td>PROVINCIA</td>\n",
       "      <td>6</td>\n",
       "      <td>BUENOS AIRES</td>\n",
       "      <td>01/03/2015</td>\n",
       "      <td>969336.241</td>\n",
       "    </tr>\n",
       "  </tbody>\n",
       "</table>\n",
       "</div>"
      ],
      "text/plain": [
       "       sector_id     sector_nombre  variable_id  \\\n",
       "20517         31  Comercio interno          760   \n",
       "28532         31  Comercio interno         1114   \n",
       "5560          31  Comercio interno          359   \n",
       "\n",
       "                actividad_producto_nombre                      indicador  \\\n",
       "20517                        Otros rubros  Vtas en super, a precios ctes   \n",
       "28532               Verdulería y frutería  Vtas en super, a precios ctes   \n",
       "5560   Artículos de limpieza y perfumería  Vtas en super, a precios ctes   \n",
       "\n",
       "      unidad_de_medida fuente frecuencia_nombre cobertura_nombre alcance_tipo  \\\n",
       "20517   miles de pesos  INDEC           Mensual         Nacional    PROVINCIA   \n",
       "28532   miles de pesos  INDEC           Mensual         Nacional    PROVINCIA   \n",
       "5560    miles de pesos  INDEC           Mensual         Nacional    PROVINCIA   \n",
       "\n",
       "       alcance_id alcance_nombre indice_tiempo       valor  \n",
       "20517          14        CORDOBA    01/02/2018  145993.895  \n",
       "28532          90        TUCUMAN    01/04/2009    2673.000  \n",
       "5560            6   BUENOS AIRES    01/03/2015  969336.241  "
      ]
     },
     "execution_count": 4,
     "metadata": {},
     "output_type": "execute_result"
    }
   ],
   "source": [
    "df_ci = pd.read_csv('comercio_interno.csv', encoding = 'unicode_escape')\n",
    "df_ci.sample(3)"
   ]
  },
  {
   "cell_type": "code",
   "execution_count": 42,
   "metadata": {},
   "outputs": [
    {
     "data": {
      "text/plain": [
       "(31284, 14)"
      ]
     },
     "execution_count": 42,
     "metadata": {},
     "output_type": "execute_result"
    }
   ],
   "source": [
    "df_ci.shape"
   ]
  },
  {
   "cell_type": "code",
   "execution_count": 5,
   "metadata": {},
   "outputs": [
    {
     "name": "stdout",
     "output_type": "stream",
     "text": [
      "Columnas: \n",
      "Index(['sector_id', 'sector_nombre', 'variable_id',\n",
      "       'actividad_producto_nombre', 'indicador', 'unidad_de_medida', 'fuente',\n",
      "       'frecuencia_nombre', 'cobertura_nombre', 'alcance_tipo', 'alcance_id',\n",
      "       'alcance_nombre', 'indice_tiempo', 'valor'],\n",
      "      dtype='object')\n"
     ]
    }
   ],
   "source": [
    "print(f'Columnas: \\n{df_ci.columns}')"
   ]
  },
  {
   "cell_type": "markdown",
   "metadata": {},
   "source": [
    "## b. Muestre por pantalla las dimensiones del Data Frame, el número de datos que contiene, los nombres de sus columnas y filas, los tipos de datos de las columnas, las 10 primeras filas y las 10 últimas filas."
   ]
  },
  {
   "cell_type": "markdown",
   "metadata": {},
   "source": [
    "### Dimensiones del DataFrame:"
   ]
  },
  {
   "cell_type": "code",
   "execution_count": 39,
   "metadata": {},
   "outputs": [
    {
     "data": {
      "text/plain": [
       "(31284, 14)"
      ]
     },
     "execution_count": 39,
     "metadata": {},
     "output_type": "execute_result"
    }
   ],
   "source": [
    "df_ci.shape"
   ]
  },
  {
   "cell_type": "markdown",
   "metadata": {},
   "source": [
    "### Número de datos que contiene:"
   ]
  },
  {
   "cell_type": "code",
   "execution_count": 40,
   "metadata": {},
   "outputs": [
    {
     "data": {
      "text/plain": [
       "437976"
      ]
     },
     "execution_count": 40,
     "metadata": {},
     "output_type": "execute_result"
    }
   ],
   "source": [
    "df_ci.size"
   ]
  },
  {
   "cell_type": "markdown",
   "metadata": {},
   "source": [
    "### Nombres de sus columnas:"
   ]
  },
  {
   "cell_type": "code",
   "execution_count": 41,
   "metadata": {},
   "outputs": [
    {
     "data": {
      "text/plain": [
       "Index(['sector_id', 'sector_nombre', 'variable_id',\n",
       "       'actividad_producto_nombre', 'indicador', 'unidad_de_medida', 'fuente',\n",
       "       'frecuencia_nombre', 'cobertura_nombre', 'alcance_tipo', 'alcance_id',\n",
       "       'alcance_nombre', 'indice_tiempo', 'valor'],\n",
       "      dtype='object')"
      ]
     },
     "execution_count": 41,
     "metadata": {},
     "output_type": "execute_result"
    }
   ],
   "source": [
    "df_ci.columns"
   ]
  },
  {
   "cell_type": "markdown",
   "metadata": {},
   "source": [
    "### Descripción:"
   ]
  },
  {
   "cell_type": "code",
   "execution_count": 17,
   "metadata": {},
   "outputs": [
    {
     "name": "stdout",
     "output_type": "stream",
     "text": [
      "<class 'pandas.core.frame.DataFrame'>\n",
      "RangeIndex: 31284 entries, 0 to 31283\n",
      "Data columns (total 14 columns):\n",
      " #   Column                     Non-Null Count  Dtype  \n",
      "---  ------                     --------------  -----  \n",
      " 0   sector_id                  31284 non-null  int64  \n",
      " 1   sector_nombre              31284 non-null  object \n",
      " 2   variable_id                31284 non-null  int64  \n",
      " 3   actividad_producto_nombre  31284 non-null  object \n",
      " 4   indicador                  31284 non-null  object \n",
      " 5   unidad_de_medida           31284 non-null  object \n",
      " 6   fuente                     31284 non-null  object \n",
      " 7   frecuencia_nombre          31284 non-null  object \n",
      " 8   cobertura_nombre           31284 non-null  object \n",
      " 9   alcance_tipo               31284 non-null  object \n",
      " 10  alcance_id                 31284 non-null  int64  \n",
      " 11  alcance_nombre             31284 non-null  object \n",
      " 12  indice_tiempo              31284 non-null  object \n",
      " 13  valor                      31284 non-null  float64\n",
      "dtypes: float64(1), int64(3), object(10)\n",
      "memory usage: 2.1+ MB\n"
     ]
    }
   ],
   "source": [
    "df_ci.info()"
   ]
  },
  {
   "cell_type": "markdown",
   "metadata": {},
   "source": [
    "### 10 primeras filas:"
   ]
  },
  {
   "cell_type": "code",
   "execution_count": 18,
   "metadata": {},
   "outputs": [
    {
     "data": {
      "text/html": [
       "<div>\n",
       "<style scoped>\n",
       "    .dataframe tbody tr th:only-of-type {\n",
       "        vertical-align: middle;\n",
       "    }\n",
       "\n",
       "    .dataframe tbody tr th {\n",
       "        vertical-align: top;\n",
       "    }\n",
       "\n",
       "    .dataframe thead th {\n",
       "        text-align: right;\n",
       "    }\n",
       "</style>\n",
       "<table border=\"1\" class=\"dataframe\">\n",
       "  <thead>\n",
       "    <tr style=\"text-align: right;\">\n",
       "      <th></th>\n",
       "      <th>sector_id</th>\n",
       "      <th>sector_nombre</th>\n",
       "      <th>variable_id</th>\n",
       "      <th>actividad_producto_nombre</th>\n",
       "      <th>indicador</th>\n",
       "      <th>unidad_de_medida</th>\n",
       "      <th>fuente</th>\n",
       "      <th>frecuencia_nombre</th>\n",
       "      <th>cobertura_nombre</th>\n",
       "      <th>alcance_tipo</th>\n",
       "      <th>alcance_id</th>\n",
       "      <th>alcance_nombre</th>\n",
       "      <th>indice_tiempo</th>\n",
       "      <th>valor</th>\n",
       "    </tr>\n",
       "  </thead>\n",
       "  <tbody>\n",
       "    <tr>\n",
       "      <th>0</th>\n",
       "      <td>31</td>\n",
       "      <td>Comercio interno</td>\n",
       "      <td>330</td>\n",
       "      <td>Alimentos preparados y rotisería</td>\n",
       "      <td>Vtas en super (amp), a precios ctes</td>\n",
       "      <td>miles de pesos</td>\n",
       "      <td>INDEC</td>\n",
       "      <td>Mensual</td>\n",
       "      <td>Nacional</td>\n",
       "      <td>PAIS</td>\n",
       "      <td>200</td>\n",
       "      <td>Argentina</td>\n",
       "      <td>01/01/2017</td>\n",
       "      <td>340777.3882</td>\n",
       "    </tr>\n",
       "    <tr>\n",
       "      <th>1</th>\n",
       "      <td>31</td>\n",
       "      <td>Comercio interno</td>\n",
       "      <td>330</td>\n",
       "      <td>Alimentos preparados y rotisería</td>\n",
       "      <td>Vtas en super (amp), a precios ctes</td>\n",
       "      <td>miles de pesos</td>\n",
       "      <td>INDEC</td>\n",
       "      <td>Mensual</td>\n",
       "      <td>Nacional</td>\n",
       "      <td>PAIS</td>\n",
       "      <td>200</td>\n",
       "      <td>Argentina</td>\n",
       "      <td>01/02/2017</td>\n",
       "      <td>328288.6951</td>\n",
       "    </tr>\n",
       "    <tr>\n",
       "      <th>2</th>\n",
       "      <td>31</td>\n",
       "      <td>Comercio interno</td>\n",
       "      <td>330</td>\n",
       "      <td>Alimentos preparados y rotisería</td>\n",
       "      <td>Vtas en super (amp), a precios ctes</td>\n",
       "      <td>miles de pesos</td>\n",
       "      <td>INDEC</td>\n",
       "      <td>Mensual</td>\n",
       "      <td>Nacional</td>\n",
       "      <td>PAIS</td>\n",
       "      <td>200</td>\n",
       "      <td>Argentina</td>\n",
       "      <td>01/03/2017</td>\n",
       "      <td>353335.1548</td>\n",
       "    </tr>\n",
       "    <tr>\n",
       "      <th>3</th>\n",
       "      <td>31</td>\n",
       "      <td>Comercio interno</td>\n",
       "      <td>330</td>\n",
       "      <td>Alimentos preparados y rotisería</td>\n",
       "      <td>Vtas en super (amp), a precios ctes</td>\n",
       "      <td>miles de pesos</td>\n",
       "      <td>INDEC</td>\n",
       "      <td>Mensual</td>\n",
       "      <td>Nacional</td>\n",
       "      <td>PAIS</td>\n",
       "      <td>200</td>\n",
       "      <td>Argentina</td>\n",
       "      <td>01/04/2017</td>\n",
       "      <td>359694.4537</td>\n",
       "    </tr>\n",
       "    <tr>\n",
       "      <th>4</th>\n",
       "      <td>31</td>\n",
       "      <td>Comercio interno</td>\n",
       "      <td>330</td>\n",
       "      <td>Alimentos preparados y rotisería</td>\n",
       "      <td>Vtas en super (amp), a precios ctes</td>\n",
       "      <td>miles de pesos</td>\n",
       "      <td>INDEC</td>\n",
       "      <td>Mensual</td>\n",
       "      <td>Nacional</td>\n",
       "      <td>PAIS</td>\n",
       "      <td>200</td>\n",
       "      <td>Argentina</td>\n",
       "      <td>01/05/2017</td>\n",
       "      <td>336568.0085</td>\n",
       "    </tr>\n",
       "    <tr>\n",
       "      <th>5</th>\n",
       "      <td>31</td>\n",
       "      <td>Comercio interno</td>\n",
       "      <td>330</td>\n",
       "      <td>Alimentos preparados y rotisería</td>\n",
       "      <td>Vtas en super (amp), a precios ctes</td>\n",
       "      <td>miles de pesos</td>\n",
       "      <td>INDEC</td>\n",
       "      <td>Mensual</td>\n",
       "      <td>Nacional</td>\n",
       "      <td>PAIS</td>\n",
       "      <td>200</td>\n",
       "      <td>Argentina</td>\n",
       "      <td>01/06/2017</td>\n",
       "      <td>345114.1199</td>\n",
       "    </tr>\n",
       "    <tr>\n",
       "      <th>6</th>\n",
       "      <td>31</td>\n",
       "      <td>Comercio interno</td>\n",
       "      <td>330</td>\n",
       "      <td>Alimentos preparados y rotisería</td>\n",
       "      <td>Vtas en super (amp), a precios ctes</td>\n",
       "      <td>miles de pesos</td>\n",
       "      <td>INDEC</td>\n",
       "      <td>Mensual</td>\n",
       "      <td>Nacional</td>\n",
       "      <td>PAIS</td>\n",
       "      <td>200</td>\n",
       "      <td>Argentina</td>\n",
       "      <td>01/07/2017</td>\n",
       "      <td>380008.1679</td>\n",
       "    </tr>\n",
       "    <tr>\n",
       "      <th>7</th>\n",
       "      <td>31</td>\n",
       "      <td>Comercio interno</td>\n",
       "      <td>330</td>\n",
       "      <td>Alimentos preparados y rotisería</td>\n",
       "      <td>Vtas en super (amp), a precios ctes</td>\n",
       "      <td>miles de pesos</td>\n",
       "      <td>INDEC</td>\n",
       "      <td>Mensual</td>\n",
       "      <td>Nacional</td>\n",
       "      <td>PAIS</td>\n",
       "      <td>200</td>\n",
       "      <td>Argentina</td>\n",
       "      <td>01/08/2017</td>\n",
       "      <td>370191.1923</td>\n",
       "    </tr>\n",
       "    <tr>\n",
       "      <th>8</th>\n",
       "      <td>31</td>\n",
       "      <td>Comercio interno</td>\n",
       "      <td>330</td>\n",
       "      <td>Alimentos preparados y rotisería</td>\n",
       "      <td>Vtas en super (amp), a precios ctes</td>\n",
       "      <td>miles de pesos</td>\n",
       "      <td>INDEC</td>\n",
       "      <td>Mensual</td>\n",
       "      <td>Nacional</td>\n",
       "      <td>PAIS</td>\n",
       "      <td>200</td>\n",
       "      <td>Argentina</td>\n",
       "      <td>01/09/2017</td>\n",
       "      <td>362573.6633</td>\n",
       "    </tr>\n",
       "    <tr>\n",
       "      <th>9</th>\n",
       "      <td>31</td>\n",
       "      <td>Comercio interno</td>\n",
       "      <td>330</td>\n",
       "      <td>Alimentos preparados y rotisería</td>\n",
       "      <td>Vtas en super (amp), a precios ctes</td>\n",
       "      <td>miles de pesos</td>\n",
       "      <td>INDEC</td>\n",
       "      <td>Mensual</td>\n",
       "      <td>Nacional</td>\n",
       "      <td>PAIS</td>\n",
       "      <td>200</td>\n",
       "      <td>Argentina</td>\n",
       "      <td>01/10/2017</td>\n",
       "      <td>381176.1241</td>\n",
       "    </tr>\n",
       "  </tbody>\n",
       "</table>\n",
       "</div>"
      ],
      "text/plain": [
       "   sector_id     sector_nombre  variable_id         actividad_producto_nombre  \\\n",
       "0         31  Comercio interno          330  Alimentos preparados y rotisería   \n",
       "1         31  Comercio interno          330  Alimentos preparados y rotisería   \n",
       "2         31  Comercio interno          330  Alimentos preparados y rotisería   \n",
       "3         31  Comercio interno          330  Alimentos preparados y rotisería   \n",
       "4         31  Comercio interno          330  Alimentos preparados y rotisería   \n",
       "5         31  Comercio interno          330  Alimentos preparados y rotisería   \n",
       "6         31  Comercio interno          330  Alimentos preparados y rotisería   \n",
       "7         31  Comercio interno          330  Alimentos preparados y rotisería   \n",
       "8         31  Comercio interno          330  Alimentos preparados y rotisería   \n",
       "9         31  Comercio interno          330  Alimentos preparados y rotisería   \n",
       "\n",
       "                             indicador unidad_de_medida fuente  \\\n",
       "0  Vtas en super (amp), a precios ctes   miles de pesos  INDEC   \n",
       "1  Vtas en super (amp), a precios ctes   miles de pesos  INDEC   \n",
       "2  Vtas en super (amp), a precios ctes   miles de pesos  INDEC   \n",
       "3  Vtas en super (amp), a precios ctes   miles de pesos  INDEC   \n",
       "4  Vtas en super (amp), a precios ctes   miles de pesos  INDEC   \n",
       "5  Vtas en super (amp), a precios ctes   miles de pesos  INDEC   \n",
       "6  Vtas en super (amp), a precios ctes   miles de pesos  INDEC   \n",
       "7  Vtas en super (amp), a precios ctes   miles de pesos  INDEC   \n",
       "8  Vtas en super (amp), a precios ctes   miles de pesos  INDEC   \n",
       "9  Vtas en super (amp), a precios ctes   miles de pesos  INDEC   \n",
       "\n",
       "  frecuencia_nombre cobertura_nombre alcance_tipo  alcance_id alcance_nombre  \\\n",
       "0           Mensual         Nacional         PAIS         200      Argentina   \n",
       "1           Mensual         Nacional         PAIS         200      Argentina   \n",
       "2           Mensual         Nacional         PAIS         200      Argentina   \n",
       "3           Mensual         Nacional         PAIS         200      Argentina   \n",
       "4           Mensual         Nacional         PAIS         200      Argentina   \n",
       "5           Mensual         Nacional         PAIS         200      Argentina   \n",
       "6           Mensual         Nacional         PAIS         200      Argentina   \n",
       "7           Mensual         Nacional         PAIS         200      Argentina   \n",
       "8           Mensual         Nacional         PAIS         200      Argentina   \n",
       "9           Mensual         Nacional         PAIS         200      Argentina   \n",
       "\n",
       "  indice_tiempo        valor  \n",
       "0    01/01/2017  340777.3882  \n",
       "1    01/02/2017  328288.6951  \n",
       "2    01/03/2017  353335.1548  \n",
       "3    01/04/2017  359694.4537  \n",
       "4    01/05/2017  336568.0085  \n",
       "5    01/06/2017  345114.1199  \n",
       "6    01/07/2017  380008.1679  \n",
       "7    01/08/2017  370191.1923  \n",
       "8    01/09/2017  362573.6633  \n",
       "9    01/10/2017  381176.1241  "
      ]
     },
     "execution_count": 18,
     "metadata": {},
     "output_type": "execute_result"
    }
   ],
   "source": [
    "df_ci.head(10)"
   ]
  },
  {
   "cell_type": "markdown",
   "metadata": {},
   "source": [
    "### 10 últimas filas: "
   ]
  },
  {
   "cell_type": "code",
   "execution_count": 19,
   "metadata": {},
   "outputs": [
    {
     "data": {
      "text/html": [
       "<div>\n",
       "<style scoped>\n",
       "    .dataframe tbody tr th:only-of-type {\n",
       "        vertical-align: middle;\n",
       "    }\n",
       "\n",
       "    .dataframe tbody tr th {\n",
       "        vertical-align: top;\n",
       "    }\n",
       "\n",
       "    .dataframe thead th {\n",
       "        text-align: right;\n",
       "    }\n",
       "</style>\n",
       "<table border=\"1\" class=\"dataframe\">\n",
       "  <thead>\n",
       "    <tr style=\"text-align: right;\">\n",
       "      <th></th>\n",
       "      <th>sector_id</th>\n",
       "      <th>sector_nombre</th>\n",
       "      <th>variable_id</th>\n",
       "      <th>actividad_producto_nombre</th>\n",
       "      <th>indicador</th>\n",
       "      <th>unidad_de_medida</th>\n",
       "      <th>fuente</th>\n",
       "      <th>frecuencia_nombre</th>\n",
       "      <th>cobertura_nombre</th>\n",
       "      <th>alcance_tipo</th>\n",
       "      <th>alcance_id</th>\n",
       "      <th>alcance_nombre</th>\n",
       "      <th>indice_tiempo</th>\n",
       "      <th>valor</th>\n",
       "    </tr>\n",
       "  </thead>\n",
       "  <tbody>\n",
       "    <tr>\n",
       "      <th>31274</th>\n",
       "      <td>31</td>\n",
       "      <td>Comercio interno</td>\n",
       "      <td>1141</td>\n",
       "      <td>Vtas en super_total</td>\n",
       "      <td>Vtas en super, a precios k de abr 2016</td>\n",
       "      <td>miles de pesos</td>\n",
       "      <td>INDEC</td>\n",
       "      <td>Mensual</td>\n",
       "      <td>Nacional</td>\n",
       "      <td>PAIS</td>\n",
       "      <td>200</td>\n",
       "      <td>Argentina</td>\n",
       "      <td>01/10/2017</td>\n",
       "      <td>22584377.81</td>\n",
       "    </tr>\n",
       "    <tr>\n",
       "      <th>31275</th>\n",
       "      <td>31</td>\n",
       "      <td>Comercio interno</td>\n",
       "      <td>1141</td>\n",
       "      <td>Vtas en super_total</td>\n",
       "      <td>Vtas en super, a precios k de abr 2016</td>\n",
       "      <td>miles de pesos</td>\n",
       "      <td>INDEC</td>\n",
       "      <td>Mensual</td>\n",
       "      <td>Nacional</td>\n",
       "      <td>PAIS</td>\n",
       "      <td>200</td>\n",
       "      <td>Argentina</td>\n",
       "      <td>01/11/2017</td>\n",
       "      <td>23284041.20</td>\n",
       "    </tr>\n",
       "    <tr>\n",
       "      <th>31276</th>\n",
       "      <td>31</td>\n",
       "      <td>Comercio interno</td>\n",
       "      <td>1141</td>\n",
       "      <td>Vtas en super_total</td>\n",
       "      <td>Vtas en super, a precios k de abr 2016</td>\n",
       "      <td>miles de pesos</td>\n",
       "      <td>INDEC</td>\n",
       "      <td>Mensual</td>\n",
       "      <td>Nacional</td>\n",
       "      <td>PAIS</td>\n",
       "      <td>200</td>\n",
       "      <td>Argentina</td>\n",
       "      <td>01/12/2017</td>\n",
       "      <td>27589789.81</td>\n",
       "    </tr>\n",
       "    <tr>\n",
       "      <th>31277</th>\n",
       "      <td>31</td>\n",
       "      <td>Comercio interno</td>\n",
       "      <td>1141</td>\n",
       "      <td>Vtas en super_total</td>\n",
       "      <td>Vtas en super, a precios k de abr 2016</td>\n",
       "      <td>miles de pesos</td>\n",
       "      <td>INDEC</td>\n",
       "      <td>Mensual</td>\n",
       "      <td>Nacional</td>\n",
       "      <td>PAIS</td>\n",
       "      <td>200</td>\n",
       "      <td>Argentina</td>\n",
       "      <td>01/01/2018</td>\n",
       "      <td>21545133.64</td>\n",
       "    </tr>\n",
       "    <tr>\n",
       "      <th>31278</th>\n",
       "      <td>31</td>\n",
       "      <td>Comercio interno</td>\n",
       "      <td>1141</td>\n",
       "      <td>Vtas en super_total</td>\n",
       "      <td>Vtas en super, a precios k de abr 2016</td>\n",
       "      <td>miles de pesos</td>\n",
       "      <td>INDEC</td>\n",
       "      <td>Mensual</td>\n",
       "      <td>Nacional</td>\n",
       "      <td>PAIS</td>\n",
       "      <td>200</td>\n",
       "      <td>Argentina</td>\n",
       "      <td>01/02/2018</td>\n",
       "      <td>20612550.55</td>\n",
       "    </tr>\n",
       "    <tr>\n",
       "      <th>31279</th>\n",
       "      <td>31</td>\n",
       "      <td>Comercio interno</td>\n",
       "      <td>1141</td>\n",
       "      <td>Vtas en super_total</td>\n",
       "      <td>Vtas en super, a precios k de abr 2016</td>\n",
       "      <td>miles de pesos</td>\n",
       "      <td>INDEC</td>\n",
       "      <td>Mensual</td>\n",
       "      <td>Nacional</td>\n",
       "      <td>PAIS</td>\n",
       "      <td>200</td>\n",
       "      <td>Argentina</td>\n",
       "      <td>01/03/2018</td>\n",
       "      <td>23285267.03</td>\n",
       "    </tr>\n",
       "    <tr>\n",
       "      <th>31280</th>\n",
       "      <td>31</td>\n",
       "      <td>Comercio interno</td>\n",
       "      <td>1141</td>\n",
       "      <td>Vtas en super_total</td>\n",
       "      <td>Vtas en super, a precios k de abr 2016</td>\n",
       "      <td>miles de pesos</td>\n",
       "      <td>INDEC</td>\n",
       "      <td>Mensual</td>\n",
       "      <td>Nacional</td>\n",
       "      <td>PAIS</td>\n",
       "      <td>200</td>\n",
       "      <td>Argentina</td>\n",
       "      <td>01/04/2018</td>\n",
       "      <td>21473378.22</td>\n",
       "    </tr>\n",
       "    <tr>\n",
       "      <th>31281</th>\n",
       "      <td>31</td>\n",
       "      <td>Comercio interno</td>\n",
       "      <td>1141</td>\n",
       "      <td>Vtas en super_total</td>\n",
       "      <td>Vtas en super, a precios k de abr 2016</td>\n",
       "      <td>miles de pesos</td>\n",
       "      <td>INDEC</td>\n",
       "      <td>Mensual</td>\n",
       "      <td>Nacional</td>\n",
       "      <td>PAIS</td>\n",
       "      <td>200</td>\n",
       "      <td>Argentina</td>\n",
       "      <td>01/05/2018</td>\n",
       "      <td>21684249.17</td>\n",
       "    </tr>\n",
       "    <tr>\n",
       "      <th>31282</th>\n",
       "      <td>31</td>\n",
       "      <td>Comercio interno</td>\n",
       "      <td>1141</td>\n",
       "      <td>Vtas en super_total</td>\n",
       "      <td>Vtas en super, a precios k de abr 2016</td>\n",
       "      <td>miles de pesos</td>\n",
       "      <td>INDEC</td>\n",
       "      <td>Mensual</td>\n",
       "      <td>Nacional</td>\n",
       "      <td>PAIS</td>\n",
       "      <td>200</td>\n",
       "      <td>Argentina</td>\n",
       "      <td>01/06/2018</td>\n",
       "      <td>22420306.02</td>\n",
       "    </tr>\n",
       "    <tr>\n",
       "      <th>31283</th>\n",
       "      <td>31</td>\n",
       "      <td>Comercio interno</td>\n",
       "      <td>1141</td>\n",
       "      <td>Vtas en super_total</td>\n",
       "      <td>Vtas en super, a precios k de abr 2016</td>\n",
       "      <td>miles de pesos</td>\n",
       "      <td>INDEC</td>\n",
       "      <td>Mensual</td>\n",
       "      <td>Nacional</td>\n",
       "      <td>PAIS</td>\n",
       "      <td>200</td>\n",
       "      <td>Argentina</td>\n",
       "      <td>01/07/2018</td>\n",
       "      <td>21869020.92</td>\n",
       "    </tr>\n",
       "  </tbody>\n",
       "</table>\n",
       "</div>"
      ],
      "text/plain": [
       "       sector_id     sector_nombre  variable_id actividad_producto_nombre  \\\n",
       "31274         31  Comercio interno         1141       Vtas en super_total   \n",
       "31275         31  Comercio interno         1141       Vtas en super_total   \n",
       "31276         31  Comercio interno         1141       Vtas en super_total   \n",
       "31277         31  Comercio interno         1141       Vtas en super_total   \n",
       "31278         31  Comercio interno         1141       Vtas en super_total   \n",
       "31279         31  Comercio interno         1141       Vtas en super_total   \n",
       "31280         31  Comercio interno         1141       Vtas en super_total   \n",
       "31281         31  Comercio interno         1141       Vtas en super_total   \n",
       "31282         31  Comercio interno         1141       Vtas en super_total   \n",
       "31283         31  Comercio interno         1141       Vtas en super_total   \n",
       "\n",
       "                                    indicador unidad_de_medida fuente  \\\n",
       "31274  Vtas en super, a precios k de abr 2016   miles de pesos  INDEC   \n",
       "31275  Vtas en super, a precios k de abr 2016   miles de pesos  INDEC   \n",
       "31276  Vtas en super, a precios k de abr 2016   miles de pesos  INDEC   \n",
       "31277  Vtas en super, a precios k de abr 2016   miles de pesos  INDEC   \n",
       "31278  Vtas en super, a precios k de abr 2016   miles de pesos  INDEC   \n",
       "31279  Vtas en super, a precios k de abr 2016   miles de pesos  INDEC   \n",
       "31280  Vtas en super, a precios k de abr 2016   miles de pesos  INDEC   \n",
       "31281  Vtas en super, a precios k de abr 2016   miles de pesos  INDEC   \n",
       "31282  Vtas en super, a precios k de abr 2016   miles de pesos  INDEC   \n",
       "31283  Vtas en super, a precios k de abr 2016   miles de pesos  INDEC   \n",
       "\n",
       "      frecuencia_nombre cobertura_nombre alcance_tipo  alcance_id  \\\n",
       "31274           Mensual         Nacional         PAIS         200   \n",
       "31275           Mensual         Nacional         PAIS         200   \n",
       "31276           Mensual         Nacional         PAIS         200   \n",
       "31277           Mensual         Nacional         PAIS         200   \n",
       "31278           Mensual         Nacional         PAIS         200   \n",
       "31279           Mensual         Nacional         PAIS         200   \n",
       "31280           Mensual         Nacional         PAIS         200   \n",
       "31281           Mensual         Nacional         PAIS         200   \n",
       "31282           Mensual         Nacional         PAIS         200   \n",
       "31283           Mensual         Nacional         PAIS         200   \n",
       "\n",
       "      alcance_nombre indice_tiempo        valor  \n",
       "31274      Argentina    01/10/2017  22584377.81  \n",
       "31275      Argentina    01/11/2017  23284041.20  \n",
       "31276      Argentina    01/12/2017  27589789.81  \n",
       "31277      Argentina    01/01/2018  21545133.64  \n",
       "31278      Argentina    01/02/2018  20612550.55  \n",
       "31279      Argentina    01/03/2018  23285267.03  \n",
       "31280      Argentina    01/04/2018  21473378.22  \n",
       "31281      Argentina    01/05/2018  21684249.17  \n",
       "31282      Argentina    01/06/2018  22420306.02  \n",
       "31283      Argentina    01/07/2018  21869020.92  "
      ]
     },
     "execution_count": 19,
     "metadata": {},
     "output_type": "execute_result"
    }
   ],
   "source": [
    "df_ci.tail(10)"
   ]
  },
  {
   "cell_type": "markdown",
   "metadata": {},
   "source": []
  },
  {
   "cell_type": "code",
   "execution_count": 22,
   "metadata": {},
   "outputs": [
    {
     "data": {
      "text/plain": [
       "INDEC     28242\n",
       "MTEySS     3042\n",
       "Name: fuente, dtype: int64"
      ]
     },
     "execution_count": 22,
     "metadata": {},
     "output_type": "execute_result"
    }
   ],
   "source": [
    "df_ci['fuente'].value_counts()"
   ]
  },
  {
   "cell_type": "markdown",
   "metadata": {},
   "source": [
    "## c. Muestre por pantalla un gráfico de los datos de empleo por provincia y su relación con la columna valor.  "
   ]
  },
  {
   "cell_type": "code",
   "execution_count": 13,
   "metadata": {},
   "outputs": [
    {
     "data": {
      "image/png": "[encoded data removed]",
      "text/plain": [
       "<Figure size 504x576 with 1 Axes>"
      ]
     },
     "metadata": {
      "needs_background": "light"
     },
     "output_type": "display_data"
    }
   ],
   "source": [
    "df_ci.groupby('alcance_nombre')['valor'].sum().plot(kind='barh', figsize=(7,8))\n",
    "plt.xlabel('Valor', size=12)\n",
    "plt.ylabel('Provincia', size=12)\n",
    "plt.title('Empleos', weight='bold', size=14)\n",
    "plt.show()"
   ]
  },
  {
   "cell_type": "markdown",
   "metadata": {},
   "source": [
    "## d. Muestre por pantalla la columna alcance_nombre ordenada alfabéticamente.  "
   ]
  },
  {
   "cell_type": "code",
   "execution_count": 14,
   "metadata": {},
   "outputs": [
    {
     "data": {
      "text/html": [
       "<div>\n",
       "<style scoped>\n",
       "    .dataframe tbody tr th:only-of-type {\n",
       "        vertical-align: middle;\n",
       "    }\n",
       "\n",
       "    .dataframe tbody tr th {\n",
       "        vertical-align: top;\n",
       "    }\n",
       "\n",
       "    .dataframe thead th {\n",
       "        text-align: right;\n",
       "    }\n",
       "</style>\n",
       "<table border=\"1\" class=\"dataframe\">\n",
       "  <thead>\n",
       "    <tr style=\"text-align: right;\">\n",
       "      <th></th>\n",
       "      <th>sector_id</th>\n",
       "      <th>sector_nombre</th>\n",
       "      <th>variable_id</th>\n",
       "      <th>actividad_producto_nombre</th>\n",
       "      <th>indicador</th>\n",
       "      <th>unidad_de_medida</th>\n",
       "      <th>fuente</th>\n",
       "      <th>frecuencia_nombre</th>\n",
       "      <th>cobertura_nombre</th>\n",
       "      <th>alcance_tipo</th>\n",
       "      <th>alcance_id</th>\n",
       "      <th>alcance_nombre</th>\n",
       "      <th>indice_tiempo</th>\n",
       "      <th>valor</th>\n",
       "    </tr>\n",
       "  </thead>\n",
       "  <tbody>\n",
       "    <tr>\n",
       "      <th>0</th>\n",
       "      <td>31</td>\n",
       "      <td>Comercio interno</td>\n",
       "      <td>330</td>\n",
       "      <td>Alimentos preparados y rotisería</td>\n",
       "      <td>Vtas en super (amp), a precios ctes</td>\n",
       "      <td>miles de pesos</td>\n",
       "      <td>INDEC</td>\n",
       "      <td>Mensual</td>\n",
       "      <td>Nacional</td>\n",
       "      <td>PAIS</td>\n",
       "      <td>200</td>\n",
       "      <td>Argentina</td>\n",
       "      <td>01/01/2017</td>\n",
       "      <td>340777.3882</td>\n",
       "    </tr>\n",
       "    <tr>\n",
       "      <th>1</th>\n",
       "      <td>31</td>\n",
       "      <td>Comercio interno</td>\n",
       "      <td>330</td>\n",
       "      <td>Alimentos preparados y rotisería</td>\n",
       "      <td>Vtas en super (amp), a precios ctes</td>\n",
       "      <td>miles de pesos</td>\n",
       "      <td>INDEC</td>\n",
       "      <td>Mensual</td>\n",
       "      <td>Nacional</td>\n",
       "      <td>PAIS</td>\n",
       "      <td>200</td>\n",
       "      <td>Argentina</td>\n",
       "      <td>01/02/2017</td>\n",
       "      <td>328288.6951</td>\n",
       "    </tr>\n",
       "    <tr>\n",
       "      <th>2</th>\n",
       "      <td>31</td>\n",
       "      <td>Comercio interno</td>\n",
       "      <td>330</td>\n",
       "      <td>Alimentos preparados y rotisería</td>\n",
       "      <td>Vtas en super (amp), a precios ctes</td>\n",
       "      <td>miles de pesos</td>\n",
       "      <td>INDEC</td>\n",
       "      <td>Mensual</td>\n",
       "      <td>Nacional</td>\n",
       "      <td>PAIS</td>\n",
       "      <td>200</td>\n",
       "      <td>Argentina</td>\n",
       "      <td>01/03/2017</td>\n",
       "      <td>353335.1548</td>\n",
       "    </tr>\n",
       "    <tr>\n",
       "      <th>3</th>\n",
       "      <td>31</td>\n",
       "      <td>Comercio interno</td>\n",
       "      <td>330</td>\n",
       "      <td>Alimentos preparados y rotisería</td>\n",
       "      <td>Vtas en super (amp), a precios ctes</td>\n",
       "      <td>miles de pesos</td>\n",
       "      <td>INDEC</td>\n",
       "      <td>Mensual</td>\n",
       "      <td>Nacional</td>\n",
       "      <td>PAIS</td>\n",
       "      <td>200</td>\n",
       "      <td>Argentina</td>\n",
       "      <td>01/04/2017</td>\n",
       "      <td>359694.4537</td>\n",
       "    </tr>\n",
       "    <tr>\n",
       "      <th>4</th>\n",
       "      <td>31</td>\n",
       "      <td>Comercio interno</td>\n",
       "      <td>330</td>\n",
       "      <td>Alimentos preparados y rotisería</td>\n",
       "      <td>Vtas en super (amp), a precios ctes</td>\n",
       "      <td>miles de pesos</td>\n",
       "      <td>INDEC</td>\n",
       "      <td>Mensual</td>\n",
       "      <td>Nacional</td>\n",
       "      <td>PAIS</td>\n",
       "      <td>200</td>\n",
       "      <td>Argentina</td>\n",
       "      <td>01/05/2017</td>\n",
       "      <td>336568.0085</td>\n",
       "    </tr>\n",
       "  </tbody>\n",
       "</table>\n",
       "</div>"
      ],
      "text/plain": [
       "   sector_id     sector_nombre  variable_id         actividad_producto_nombre  \\\n",
       "0         31  Comercio interno          330  Alimentos preparados y rotisería   \n",
       "1         31  Comercio interno          330  Alimentos preparados y rotisería   \n",
       "2         31  Comercio interno          330  Alimentos preparados y rotisería   \n",
       "3         31  Comercio interno          330  Alimentos preparados y rotisería   \n",
       "4         31  Comercio interno          330  Alimentos preparados y rotisería   \n",
       "\n",
       "                             indicador unidad_de_medida fuente  \\\n",
       "0  Vtas en super (amp), a precios ctes   miles de pesos  INDEC   \n",
       "1  Vtas en super (amp), a precios ctes   miles de pesos  INDEC   \n",
       "2  Vtas en super (amp), a precios ctes   miles de pesos  INDEC   \n",
       "3  Vtas en super (amp), a precios ctes   miles de pesos  INDEC   \n",
       "4  Vtas en super (amp), a precios ctes   miles de pesos  INDEC   \n",
       "\n",
       "  frecuencia_nombre cobertura_nombre alcance_tipo  alcance_id alcance_nombre  \\\n",
       "0           Mensual         Nacional         PAIS         200      Argentina   \n",
       "1           Mensual         Nacional         PAIS         200      Argentina   \n",
       "2           Mensual         Nacional         PAIS         200      Argentina   \n",
       "3           Mensual         Nacional         PAIS         200      Argentina   \n",
       "4           Mensual         Nacional         PAIS         200      Argentina   \n",
       "\n",
       "  indice_tiempo        valor  \n",
       "0    01/01/2017  340777.3882  \n",
       "1    01/02/2017  328288.6951  \n",
       "2    01/03/2017  353335.1548  \n",
       "3    01/04/2017  359694.4537  \n",
       "4    01/05/2017  336568.0085  "
      ]
     },
     "execution_count": 14,
     "metadata": {},
     "output_type": "execute_result"
    }
   ],
   "source": [
    "df_ci.sort_values(by='alcance_nombre')\n",
    "df_ci.head()"
   ]
  },
  {
   "cell_type": "markdown",
   "metadata": {},
   "source": [
    "## e. Muestre un gráfico de las ventas_en centro de compras total entre los años 2016 al 2019.  "
   ]
  },
  {
   "cell_type": "code",
   "execution_count": 86,
   "metadata": {},
   "outputs": [
    {
     "name": "stdout",
     "output_type": "stream",
     "text": [
      "(17080, 14)\n"
     ]
    }
   ],
   "source": [
    "df_ci['indice_tiempo'] = pd.to_datetime(df_ci['indice_tiempo'])\n",
    "ejeX =df_ci[df_ci[\"indice_tiempo\"].between('2016-01-01', '2019-12-31')]\n",
    "print(ejeX.shape)"
   ]
  },
  {
   "cell_type": "code",
   "execution_count": 87,
   "metadata": {},
   "outputs": [
    {
     "data": {
      "text/plain": [
       "(209, 14)"
      ]
     },
     "execution_count": 87,
     "metadata": {},
     "output_type": "execute_result"
    }
   ],
   "source": [
    "df_ci['actividad_producto_nombre'].value_counts()\n",
    "ejeY = df_ci[df_ci['actividad_producto_nombre'].str.contains('Vtas en centro de compras_total')]\n",
    "ejeY.shape"
   ]
  },
  {
   "cell_type": "markdown",
   "metadata": {},
   "source": [
    "## g. Emita cual es la actividad_producto_nombre que generó más valor.  "
   ]
  },
  {
   "cell_type": "code",
   "execution_count": 150,
   "metadata": {},
   "outputs": [
    {
     "data": {
      "text/html": [
       "<div>\n",
       "<style scoped>\n",
       "    .dataframe tbody tr th:only-of-type {\n",
       "        vertical-align: middle;\n",
       "    }\n",
       "\n",
       "    .dataframe tbody tr th {\n",
       "        vertical-align: top;\n",
       "    }\n",
       "\n",
       "    .dataframe thead th {\n",
       "        text-align: right;\n",
       "    }\n",
       "</style>\n",
       "<table border=\"1\" class=\"dataframe\">\n",
       "  <thead>\n",
       "    <tr style=\"text-align: right;\">\n",
       "      <th></th>\n",
       "      <th>valor</th>\n",
       "    </tr>\n",
       "    <tr>\n",
       "      <th>actividad_producto_nombre</th>\n",
       "      <th></th>\n",
       "    </tr>\n",
       "  </thead>\n",
       "  <tbody>\n",
       "    <tr>\n",
       "      <th>Vtas en super_total</th>\n",
       "      <td>5.825362e+09</td>\n",
       "    </tr>\n",
       "  </tbody>\n",
       "</table>\n",
       "</div>"
      ],
      "text/plain": [
       "                                  valor\n",
       "actividad_producto_nombre              \n",
       "Vtas en super_total        5.825362e+09"
      ]
     },
     "execution_count": 150,
     "metadata": {},
     "output_type": "execute_result"
    }
   ],
   "source": [
    "a = df_ci.groupby('actividad_producto_nombre')[['valor']].sum()\n",
    "a = a[a['valor'] == a['valor'].max() ]\n",
    "a"
   ]
  },
  {
   "cell_type": "markdown",
   "metadata": {},
   "source": [
    "## h. Sume por alcance_nombre los valores de los años 2009 al 2019.  "
   ]
  },
  {
   "cell_type": "code",
   "execution_count": 154,
   "metadata": {},
   "outputs": [
    {
     "data": {
      "text/html": [
       "<div>\n",
       "<style scoped>\n",
       "    .dataframe tbody tr th:only-of-type {\n",
       "        vertical-align: middle;\n",
       "    }\n",
       "\n",
       "    .dataframe tbody tr th {\n",
       "        vertical-align: top;\n",
       "    }\n",
       "\n",
       "    .dataframe thead th {\n",
       "        text-align: right;\n",
       "    }\n",
       "</style>\n",
       "<table border=\"1\" class=\"dataframe\">\n",
       "  <thead>\n",
       "    <tr style=\"text-align: right;\">\n",
       "      <th></th>\n",
       "      <th>valor</th>\n",
       "    </tr>\n",
       "    <tr>\n",
       "      <th>alcance_nombre</th>\n",
       "      <th></th>\n",
       "    </tr>\n",
       "  </thead>\n",
       "  <tbody>\n",
       "    <tr>\n",
       "      <th>Argentina</th>\n",
       "      <td>4.771772e+09</td>\n",
       "    </tr>\n",
       "    <tr>\n",
       "      <th>BUENOS AIRES</th>\n",
       "      <td>2.210555e+09</td>\n",
       "    </tr>\n",
       "    <tr>\n",
       "      <th>CAPITAL FEDERAL</th>\n",
       "      <td>1.300774e+09</td>\n",
       "    </tr>\n",
       "    <tr>\n",
       "      <th>CATAMARCA</th>\n",
       "      <td>1.596949e+07</td>\n",
       "    </tr>\n",
       "    <tr>\n",
       "      <th>CHACO</th>\n",
       "      <td>2.710189e+07</td>\n",
       "    </tr>\n",
       "    <tr>\n",
       "      <th>CHUBUT</th>\n",
       "      <td>2.055153e+08</td>\n",
       "    </tr>\n",
       "    <tr>\n",
       "      <th>CORDOBA</th>\n",
       "      <td>4.187079e+08</td>\n",
       "    </tr>\n",
       "    <tr>\n",
       "      <th>CORRIENTES</th>\n",
       "      <td>3.932200e+07</td>\n",
       "    </tr>\n",
       "    <tr>\n",
       "      <th>ENTRE RIOS</th>\n",
       "      <td>1.195112e+08</td>\n",
       "    </tr>\n",
       "    <tr>\n",
       "      <th>FORMOSA</th>\n",
       "      <td>1.906489e+07</td>\n",
       "    </tr>\n",
       "    <tr>\n",
       "      <th>GRAN BUENOS AIRES</th>\n",
       "      <td>7.531250e+08</td>\n",
       "    </tr>\n",
       "    <tr>\n",
       "      <th>INDETERMINADA</th>\n",
       "      <td>7.976083e+08</td>\n",
       "    </tr>\n",
       "    <tr>\n",
       "      <th>JUJUY</th>\n",
       "      <td>3.721255e+07</td>\n",
       "    </tr>\n",
       "    <tr>\n",
       "      <th>LA PAMPA</th>\n",
       "      <td>2.712034e+07</td>\n",
       "    </tr>\n",
       "    <tr>\n",
       "      <th>LA RIOJA</th>\n",
       "      <td>1.488695e+07</td>\n",
       "    </tr>\n",
       "    <tr>\n",
       "      <th>MENDOZA</th>\n",
       "      <td>3.331189e+08</td>\n",
       "    </tr>\n",
       "    <tr>\n",
       "      <th>MISIONES</th>\n",
       "      <td>3.849721e+07</td>\n",
       "    </tr>\n",
       "    <tr>\n",
       "      <th>NEUQUEN</th>\n",
       "      <td>2.195114e+08</td>\n",
       "    </tr>\n",
       "    <tr>\n",
       "      <th>PARTIDOS DE GBA</th>\n",
       "      <td>4.848473e+08</td>\n",
       "    </tr>\n",
       "    <tr>\n",
       "      <th>RESTO DE BUENOS AIRES</th>\n",
       "      <td>8.562051e+06</td>\n",
       "    </tr>\n",
       "    <tr>\n",
       "      <th>RIO NEGRO</th>\n",
       "      <td>8.956526e+07</td>\n",
       "    </tr>\n",
       "    <tr>\n",
       "      <th>SALTA</th>\n",
       "      <td>1.161142e+08</td>\n",
       "    </tr>\n",
       "    <tr>\n",
       "      <th>SAN JUAN</th>\n",
       "      <td>2.840035e+07</td>\n",
       "    </tr>\n",
       "    <tr>\n",
       "      <th>SAN LUIS</th>\n",
       "      <td>2.338442e+07</td>\n",
       "    </tr>\n",
       "    <tr>\n",
       "      <th>SANTA CRUZ</th>\n",
       "      <td>6.313741e+07</td>\n",
       "    </tr>\n",
       "    <tr>\n",
       "      <th>SANTA FE</th>\n",
       "      <td>2.985317e+08</td>\n",
       "    </tr>\n",
       "    <tr>\n",
       "      <th>SANTIAGO DEL ESTERO</th>\n",
       "      <td>2.015206e+07</td>\n",
       "    </tr>\n",
       "    <tr>\n",
       "      <th>TIERRA DEL FUEGO</th>\n",
       "      <td>3.305755e+07</td>\n",
       "    </tr>\n",
       "    <tr>\n",
       "      <th>TUCUMAN</th>\n",
       "      <td>1.292334e+08</td>\n",
       "    </tr>\n",
       "  </tbody>\n",
       "</table>\n",
       "</div>"
      ],
      "text/plain": [
       "                              valor\n",
       "alcance_nombre                     \n",
       "Argentina              4.771772e+09\n",
       "BUENOS AIRES           2.210555e+09\n",
       "CAPITAL FEDERAL        1.300774e+09\n",
       "CATAMARCA              1.596949e+07\n",
       "CHACO                  2.710189e+07\n",
       "CHUBUT                 2.055153e+08\n",
       "CORDOBA                4.187079e+08\n",
       "CORRIENTES             3.932200e+07\n",
       "ENTRE RIOS             1.195112e+08\n",
       "FORMOSA                1.906489e+07\n",
       "GRAN BUENOS AIRES      7.531250e+08\n",
       "INDETERMINADA          7.976083e+08\n",
       "JUJUY                  3.721255e+07\n",
       "LA PAMPA               2.712034e+07\n",
       "LA RIOJA               1.488695e+07\n",
       "MENDOZA                3.331189e+08\n",
       "MISIONES               3.849721e+07\n",
       "NEUQUEN                2.195114e+08\n",
       "PARTIDOS DE GBA        4.848473e+08\n",
       "RESTO DE BUENOS AIRES  8.562051e+06\n",
       "RIO NEGRO              8.956526e+07\n",
       "SALTA                  1.161142e+08\n",
       "SAN JUAN               2.840035e+07\n",
       "SAN LUIS               2.338442e+07\n",
       "SANTA CRUZ             6.313741e+07\n",
       "SANTA FE               2.985317e+08\n",
       "SANTIAGO DEL ESTERO    2.015206e+07\n",
       "TIERRA DEL FUEGO       3.305755e+07\n",
       "TUCUMAN                1.292334e+08"
      ]
     },
     "execution_count": 154,
     "metadata": {},
     "output_type": "execute_result"
    }
   ],
   "source": [
    "x = df_ci[ df_ci[\"indice_tiempo\"].between('2009-01-01', '2019-12-31')]\n",
    "x = x.groupby('alcance_nombre')[['valor']].sum()\n",
    "x"
   ]
  },
  {
   "cell_type": "markdown",
   "metadata": {},
   "source": [
    "# 6. La carpeta dataset contiene 3 archivos referentes a usuarios, votos y películas:  \n",
    "a. Carga los archivos en dataframes.  \n",
    "b. Mezcla y graba el resultado en un nuevo archivo utilizando to_csv(), pasándole como parámetro el separador ‘,’   \n",
    "c. Genera el código de agrupamiento y agregación del tipo: ….groupby(*'movie_id', 'title'+)*'rating'+.agg(…. Que calcule: suma, cuenta, media, desviación estándar, utilizando las funciones de numpy (ej: np.sum)  \n",
    "d. Modifica el código anterior para que calcule y reemplace la media mediante una función lambda pasada al método agg.   \n",
    "e. Realiza los gráficos utilizando subplots que muestre los valores calculados en el punto c para las primeras 10 películas con mejor rating."
   ]
  },
  {
   "cell_type": "code",
   "execution_count": 44,
   "metadata": {},
   "outputs": [],
   "source": [
    "df1 = pd.read_fwf('movies.txt')\n",
    "df2 = pd.read_fwf('ratings.txt')\n",
    "df3 = pd.read_fwf('users.txt')"
   ]
  }
 ],
 "metadata": {
  "interpreter": {
   "hash": "4dbc7d319552f751da30033d7b4995c635b04ff01c80dae115406c1f1bb6c9c9"
  },
  "kernelspec": {
   "display_name": "Python 3.8.5 32-bit",
   "name": "python3"
  },
  "language_info": {
   "codemirror_mode": {
    "name": "ipython",
    "version": 3
   },
   "file_extension": ".py",
   "mimetype": "text/x-python",
   "name": "python",
   "nbconvert_exporter": "python",
   "pygments_lexer": "ipython3",
   "version": "3.8.5"
  },
  "orig_nbformat": 4
 },
 "nbformat": 4,
 "nbformat_minor": 2
}
