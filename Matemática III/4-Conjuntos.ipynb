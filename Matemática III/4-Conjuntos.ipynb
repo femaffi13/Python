{
 "cells": [
  {
   "cell_type": "markdown",
   "source": [
    "# Práctica 4 - Conjuntos"
   ],
   "metadata": {}
  },
  {
   "cell_type": "markdown",
   "source": [
    "### 1. Diseña un programa que reciba dos conjuntos y devuelva los elementos comunes a ambas, sin repetir ninguno. Ejemplo: si recibe los conjuntos [1, 2, 1] y [2, 3, 2, 4], devolverá 2."
   ],
   "metadata": {}
  },
  {
   "cell_type": "code",
   "execution_count": null,
   "source": [
    "cjto = set()\r\n",
    "cjto2 = set()\r\n",
    "\r\n",
    "n = int(input('Cantidad de elementos del primer conjunto: '))\r\n",
    "for i in range(n):\r\n",
    "    valor = int(input(f'Valor {i+1}: '))\r\n",
    "    cjto.add(valor)\r\n",
    "\r\n",
    "n2 = int(input('Cantidad de elementos del segundo conjunto: '))\r\n",
    "for i in range(n2):\r\n",
    "    valor = int(input(f'Valor {i+1}: '))\r\n",
    "    cjto2.add(valor)\r\n",
    "\r\n",
    "print(f'Los elementos comunes de ambos conjuntos: {cjto.intersection(cjto2)}')"
   ],
   "outputs": [],
   "metadata": {}
  },
  {
   "cell_type": "markdown",
   "source": [
    "### 2. Diseña un programa que reciba dos conjuntos y devuelva los elementos que pertenecen a una o a otra, pero sin repetir ninguno. Ejemplo: si recibe los conjuntos [1, 2, 1] y [2, 3, 2, 4], devolverá el conjunto [1, 2, 3, 4]."
   ],
   "metadata": {}
  },
  {
   "cell_type": "code",
   "execution_count": null,
   "source": [
    "cjto = set()\r\n",
    "cjto2 = set()\r\n",
    "\r\n",
    "n = int(input('Cantidad de elementos del primer conjunto: '))\r\n",
    "for i in range(n):\r\n",
    "    valor = int(input(f'Valor {i+1}: '))\r\n",
    "    cjto.add(valor)\r\n",
    "\r\n",
    "n2 = int(input('Cantidad de elementos del segundo conjunto: '))\r\n",
    "for i in range(n2):\r\n",
    "    valor = int(input(f'Valor {i+1}: '))\r\n",
    "    cjto2.add(valor)\r\n",
    "\r\n",
    "print(f'Elementos que pertenecen a una u otra: {cjto.union(cjto2)}')"
   ],
   "outputs": [],
   "metadata": {}
  },
  {
   "cell_type": "markdown",
   "source": [
    "### 3. Diseña un programa que reciba dos conjuntos y devuelva los elementos que pertenecen al primero pero no al segundo, sin repetir ninguno. Ejemplo: si recibe las listas [1, 2, 1] y [2, 3, 2, 4], devolverá la lista [1]."
   ],
   "metadata": {}
  },
  {
   "cell_type": "code",
   "execution_count": null,
   "source": [
    "cjto = set()\r\n",
    "cjto2 = set()\r\n",
    "\r\n",
    "n = int(input('Cantidad de elementos del primer conjunto: '))\r\n",
    "for i in range(n):\r\n",
    "    valor = int(input(f'Valor {i+1}: '))\r\n",
    "    cjto.add(valor)\r\n",
    "\r\n",
    "n2 = int(input('Cantidad de elementos del segundo conjunto: '))\r\n",
    "for i in range(n2):\r\n",
    "    valor = int(input(f'Valor {i+1}: '))\r\n",
    "    cjto2.add(valor)\r\n",
    "\r\n",
    "print(f'Elementos que pertenecen al primero pero no al segundo: {cjto.difference(cjto2)}')"
   ],
   "outputs": [],
   "metadata": {}
  },
  {
   "cell_type": "markdown",
   "source": [
    "### 4. Diseña un programa que facilite el trabajo con conjuntos. Recuerda que un conjunto es una lista en la que no hay elementos repetidos. Debes implementar:\r\n",
    "- lista_a_conjunto(lista): Devuelve un conjunto con los mismos elementos que hay en lista, pero sin repeticiones. (Ejemplo: lista_a_conjunto([1,1,3,2,3]) devolverá la lista [1, 2, 3] (aunque también se acepta como equivalente cualquier permutación de esos mismos elementos, como [3,1,2] o [3,2,1]).\r\n",
    "- union(A, B): devuelve el conjunto resultante de unir los conjuntos A y B.\r\n",
    "- interseccion(A, B): devuelve el conjunto cuyos elementos pertenecen a A y a B.\r\n",
    "- diferencia(A, B): devuelve el conjunto de elementos que pertenecen a A y no a B.\r\n",
    "- iguales(A, B): devuelve cierto si ambos conjuntos tienen los mismos elementos, y falso en caso contrario."
   ],
   "metadata": {}
  },
  {
   "cell_type": "code",
   "execution_count": null,
   "source": [
    "opcion = 0\r\n",
    "while opcion != 6:\r\n",
    "    print('1. Lista a Conjunto')\r\n",
    "    print('2. Unión de 2 conjuntos')\r\n",
    "    print('3. Intersección de 2 conjuntos')\r\n",
    "    print('4. Diferencia de 2 conjuntos')\r\n",
    "    print('5. Igualdad de 2 conjuntos')\r\n",
    "    print('6. Salir del programa')\r\n",
    "    opcion = int(input('Opción: '))\r\n",
    "\r\n",
    "    if opcion == 1:\r\n",
    "        n = int(input('Cantidad de elementos de la lista: '))\r\n",
    "        lista = []\r\n",
    "        for i in range(n):\r\n",
    "            valor = int(input(f'Valor {i+1}: '))\r\n",
    "            lista.append(valor)\r\n",
    "        cjto = set(lista)\r\n",
    "        print(cjto)\r\n",
    "\r\n",
    "    if opcion == 2:\r\n",
    "        cjto = set()\r\n",
    "        cjto2 = set()\r\n",
    "\r\n",
    "        n = int(input('Cantidad de elementos del primer conjunto: '))\r\n",
    "        for i in range(n):\r\n",
    "            valor = int(input(f'Valor {i+1}: '))\r\n",
    "            cjto.add(valor)\r\n",
    "\r\n",
    "        n2 = int(input('Cantidad de elementos del segundo conjunto: '))\r\n",
    "        for i in range(n2):\r\n",
    "            valor = int(input(f'Valor {i+1}: '))\r\n",
    "            cjto2.add(valor)\r\n",
    "\r\n",
    "        print(f'Los elementos comunes de ambos conjuntos: {cjto.intersection(cjto2)}')\r\n",
    "    \r\n",
    "    if opcion == 3:\r\n",
    "        cjto = set()\r\n",
    "        cjto2 = set()\r\n",
    "\r\n",
    "        n = int(input('Cantidad de elementos del primer conjunto: '))\r\n",
    "        for i in range(n):\r\n",
    "            valor = int(input(f'Valor {i+1}: '))\r\n",
    "            cjto.add(valor)\r\n",
    "\r\n",
    "        n2 = int(input('Cantidad de elementos del segundo conjunto: '))\r\n",
    "        for i in range(n2):\r\n",
    "            valor = int(input(f'Valor {i+1}: '))\r\n",
    "            cjto2.add(valor)\r\n",
    "\r\n",
    "        print(f'Elementos que pertenecen a una u otra: {cjto.union(cjto2)}')\r\n",
    "\r\n",
    "    if opcion == 4:\r\n",
    "        cjto = set()\r\n",
    "        cjto2 = set()\r\n",
    "\r\n",
    "        n = int(input('Cantidad de elementos del primer conjunto: '))\r\n",
    "        for i in range(n):\r\n",
    "            valor = int(input(f'Valor {i+1}: '))\r\n",
    "            cjto.add(valor)\r\n",
    "\r\n",
    "        n2 = int(input('Cantidad de elementos del segundo conjunto: '))\r\n",
    "        for i in range(n2):\r\n",
    "            valor = int(input(f'Valor {i+1}: '))\r\n",
    "            cjto2.add(valor)\r\n",
    "\r\n",
    "        print(f'Elementos que pertenecen al primero pero no al segundo: {cjto.difference(cjto2)}')\r\n",
    "\r\n",
    "    if opcion == 5: \r\n",
    "        cjto = set()\r\n",
    "        cjto2 = set()\r\n",
    "\r\n",
    "        n = int(input('Cantidad de elementos del primer conjunto: '))\r\n",
    "        for i in range(n):\r\n",
    "            valor = int(input(f'Valor {i+1}: '))\r\n",
    "            cjto.add(valor)\r\n",
    "\r\n",
    "        n2 = int(input('Cantidad de elementos del segundo conjunto: '))\r\n",
    "        for i in range(n2):\r\n",
    "            valor = int(input(f'Valor {i+1}: '))\r\n",
    "            cjto2.add(valor)\r\n",
    "\r\n",
    "        if cjto == cjto2:\r\n",
    "            print('Son iguales')\r\n",
    "        else: \r\n",
    "            print('No son iguales')\r\n",
    "\r\n",
    "    if opcion < 0 or opcion > 6:\r\n",
    "        print('Opción fuera de rango')\r\n",
    "\r\n",
    "print('Fin del programa')"
   ],
   "outputs": [],
   "metadata": {}
  }
 ],
 "metadata": {
  "orig_nbformat": 4,
  "language_info": {
   "name": "python",
   "version": "3.8.5",
   "mimetype": "text/x-python",
   "codemirror_mode": {
    "name": "ipython",
    "version": 3
   },
   "pygments_lexer": "ipython3",
   "nbconvert_exporter": "python",
   "file_extension": ".py"
  },
  "kernelspec": {
   "name": "python3",
   "display_name": "Python 3.8.5 32-bit"
  },
  "interpreter": {
   "hash": "4dbc7d319552f751da30033d7b4995c635b04ff01c80dae115406c1f1bb6c9c9"
  }
 },
 "nbformat": 4,
 "nbformat_minor": 2
}