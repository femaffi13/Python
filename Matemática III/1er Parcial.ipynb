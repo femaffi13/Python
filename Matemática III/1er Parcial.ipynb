{
 "cells": [
  {
   "cell_type": "markdown",
   "id": "b6822c12",
   "metadata": {},
   "source": [
    "#### Clase 9, 1-10-2021: 1er. parcial Matemática III - 2do.cuat-2021\n",
    "\n",
    "Nombre y apellido: Federico Agustín Maffi"
   ]
  },
  {
   "cell_type": "markdown",
   "id": "ae0f00a1",
   "metadata": {},
   "source": [
    "# Datos"
   ]
  },
  {
   "cell_type": "code",
   "execution_count": 8,
   "id": "99a6db1d",
   "metadata": {},
   "outputs": [],
   "source": [
    "# En una zona del país, se realizó una encuesta de opinión a 1000 personas sobre 3 (tres)\n",
    "# categorías: Economía, Educación y Seguridad, y otras sub-categorías especificadas\n",
    "# sólo para Economía. Los datos se recolectaron en las siguientes estructuras:\n",
    "    \n",
    "# # 680 opinaron sobre Ecomomía.\n",
    "# Economia = {\"Gasto_público\": 40, \"Impuestos\": 118, \"Política_y_gobierno\": 50, \"Deuda_externa\": 95,\n",
    "#               \"Privilegios\": 56, \"Corrupción\":  131, \"Obra_pública\": 103, \"Planes\": 87}\n",
    "\n",
    "\n",
    "# # 320 opinaron sobre Seguridad.\n",
    "# Seguridad = (40, 50, 60, 75, 34, 61)\n",
    "\n",
    "\n",
    "# # 490 opinaron sobre Educación\n",
    "# Educacion = [34, 40, 61, 75, 87, 90, 103]\n",
    "    \n",
    "# En relación a los datos obtenidos:\n",
    "#     1) realizar las operaciones correspondientes\n",
    "#     2) realizar el gráfico en Diagrama de Venn\n",
    "#     3) Responder en el gráfico las siguientes preguntas:\n",
    "#         a. cuántos opinaron sobre Seguridad, Educación y Economía.\n",
    "#         b. cuántos opinaron sobre sólo Economía y Educación?\n",
    "#         c. cuántos opinaron sobre sólo Economía?\n",
    "#         d. cuántos opinaron sobre solo Seguridad?\n",
    "#         e. cuántos opinaron sobre sólo Educación? \n",
    "#         f. cuántos opinaron sobre 2 de las 3 categorías?"
   ]
  },
  {
   "cell_type": "code",
   "execution_count": 82,
   "id": "68c749f4",
   "metadata": {},
   "outputs": [],
   "source": [
    "from matplotlib import pyplot as plt\n",
    "from matplotlib_venn import venn3, venn3_circles"
   ]
  },
  {
   "cell_type": "markdown",
   "id": "10682a71",
   "metadata": {},
   "source": [
    "# Datos:"
   ]
  },
  {
   "cell_type": "code",
   "execution_count": 83,
   "id": "39077865",
   "metadata": {},
   "outputs": [],
   "source": [
    "diccEconomia= {\"Gasto_público\": 40, \n",
    "            \"Impuestos\": 118,\n",
    "            \"Política_y_gobierno\": 50,\n",
    "            \"Deuda_externa\": 95,\n",
    "            \"Privilegios\": 56,\n",
    "            \"Corrupción\":  131,\n",
    "            \"Obra_pública\": 103,\n",
    "            \"Planes\": 87}\n",
    "tuplaSeguridad = (40, 50, 60, 75, 34, 61)\n",
    "listaEducacion = [34, 40, 61, 75, 87, 90, 103]\n",
    "universal = 1000\n",
    "ninguno = 0"
   ]
  },
  {
   "cell_type": "markdown",
   "id": "df705867",
   "metadata": {},
   "source": [
    "# 1) Operaciones"
   ]
  },
  {
   "cell_type": "markdown",
   "id": "1f1336e9",
   "metadata": {},
   "source": [
    "## Conversión a set:"
   ]
  },
  {
   "cell_type": "code",
   "execution_count": 84,
   "id": "9022d719",
   "metadata": {},
   "outputs": [
    {
     "name": "stdout",
     "output_type": "stream",
     "text": [
      "Set Economía: {131, 103, 40, 50, 118, 87, 56, 95}\n",
      "Set Seguridad: {34, 40, 75, 50, 60, 61}\n",
      "Set Educacion: {34, 103, 40, 75, 87, 90, 61}\n"
     ]
    }
   ],
   "source": [
    "#Conversión de diccionario a set\n",
    "def setEconomia(dE):\n",
    "    economia = set()\n",
    "    for elemento in dE.values():\n",
    "        economia.add(elemento)\n",
    "    return economia\n",
    "\n",
    "economia = setEconomia(diccEconomia)\n",
    "print(f'Set Economía: {economia}')\n",
    "\n",
    "# Conversión de tupla a set\n",
    "seguridad = set(tuplaSeguridad)\n",
    "print(f'Set Seguridad: {seguridad}')\n",
    "\n",
    "# Conversión de lista a set\n",
    "educacion = set(listaEducacion)\n",
    "print(f'Set Educacion: {educacion}')"
   ]
  },
  {
   "cell_type": "markdown",
   "id": "02fd38f4",
   "metadata": {},
   "source": [
    "## Cálculo de conjuntos:"
   ]
  },
  {
   "cell_type": "code",
   "execution_count": 85,
   "id": "ab6d2d83",
   "metadata": {},
   "outputs": [
    {
     "name": "stdout",
     "output_type": "stream",
     "text": [
      "Intersección de los 3 conjuntos: 40\n",
      "Set Sólo Economía: {56, 131, 118, 95}\n",
      "Total Sólo Economía: 400\n",
      "Sólo Seguridad: 60\n",
      "Sólo Educacion: 90\n",
      "Set Sólo Economía y Seguridad: {40, 50}\n",
      "Total Sólo Economía y Seguridad: 50\n",
      "Set Sólo Seguridad y Educación: {40, 34, 75, 61}\n",
      "Total Sólo Seguridad y Educación: 170\n",
      "Set Sólo Economía y Educación: {40, 87, 103}\n",
      "Total Sólo Economía y Educación: 190\n",
      "Sólo 2 de 3 categorías: 410\n"
     ]
    }
   ],
   "source": [
    "# En cada caso al set lo convierto a lista y realizo la suma para que luego en el gráfico, \n",
    "# se vea el número limpio y no ser mostrado como set\n",
    "\n",
    "setInterseccion = economia&seguridad&educacion\n",
    "interseccion = list(setInterseccion)\n",
    "print(f'Intersección de los 3 conjuntos: {interseccion[0]}')\n",
    "#------------------------------------------------------------#\n",
    "setSoloEc = (economia-seguridad)&(economia-educacion)\n",
    "soloEc = list(setSoloEc)\n",
    "nSoloEc = sum(soloEc)\n",
    "print(f'Set Sólo Economía: {setSoloEc}')\n",
    "print(f'Total Sólo Economía: {nSoloEc}')\n",
    "#------------------------------------------------------------#\n",
    "setSoloS = (seguridad-economia)&(seguridad-educacion)\n",
    "soloS = list(setSoloS)\n",
    "print(f'Sólo Seguridad: {soloS[0]}')\n",
    "#------------------------------------------------------------#\n",
    "setSoloEd = (educacion-economia)&(educacion-seguridad)\n",
    "soloEd = list(setSoloEd)\n",
    "print(f'Sólo Educacion: {soloEd[0]}')\n",
    "#------------------------------------------------------------#\n",
    "setSoloEcS = (economia&seguridad)\n",
    "soloEcS = list(setSoloEcS)\n",
    "dif1 = list(setSoloEcS - setInterseccion)\n",
    "print(f'Set Sólo Economía y Seguridad: {setSoloEcS}')\n",
    "print(f'Total Sólo Economía y Seguridad: {dif1[0]}')\n",
    "#------------------------------------------------------------#\n",
    "setSoloSEd = (seguridad&educacion)\n",
    "soloSEd = list(setSoloSEd)\n",
    "dif2 = list(setSoloSEd - setInterseccion)\n",
    "ndif2 = sum(dif2)\n",
    "print(f'Set Sólo Seguridad y Educación: {setSoloSEd}')\n",
    "print(f'Total Sólo Seguridad y Educación: {ndif2}')\n",
    "#------------------------------------------------------------#\n",
    "setSoloEcEd = (economia&educacion)\n",
    "soloEcEd = list(setSoloEcEd)\n",
    "dif3 = list(setSoloEcEd - setInterseccion)\n",
    "ndif3 = sum(dif3)\n",
    "print(f'Set Sólo Economía y Educación: {setSoloEcEd}')\n",
    "print(f'Total Sólo Economía y Educación: {ndif3}')\n",
    "#------------------------------------------------------------#\n",
    "solo2de3 = dif1[0] + ndif2 + ndif3\n",
    "print(f'Sólo 2 de 3 categorías: {solo2de3}')"
   ]
  },
  {
   "cell_type": "markdown",
   "id": "4942485e",
   "metadata": {},
   "source": [
    "## Control de valores totales"
   ]
  },
  {
   "cell_type": "code",
   "execution_count": 86,
   "id": "753a425d",
   "metadata": {},
   "outputs": [
    {
     "name": "stdout",
     "output_type": "stream",
     "text": [
      "Cantidad total de Economía: 680\n",
      "Cantidad total de Seguridad: 320\n",
      "Cantidad total de Seguridad: 490\n"
     ]
    }
   ],
   "source": [
    "totalEconomia = nSoloEc + dif1[0] + interseccion[0] + ndif3\n",
    "print(f'Cantidad total de Economía: {totalEconomia}')\n",
    "#------------------------------------------------------------#\n",
    "\n",
    "totalSeguridad = soloS[0] + dif1[0] + interseccion[0] + ndif2\n",
    "print(f'Cantidad total de Seguridad: {totalSeguridad}')\n",
    "#------------------------------------------------------------#\n",
    "\n",
    "totalEducacion = soloEd[0] + ndif3 + interseccion[0] + ndif2\n",
    "print(f'Cantidad total de Seguridad: {totalEducacion}')"
   ]
  },
  {
   "cell_type": "markdown",
   "id": "5c36d43e",
   "metadata": {},
   "source": [
    "# 2) y 3) Gráfico de Venn con respuestas"
   ]
  },
  {
   "cell_type": "code",
   "execution_count": 87,
   "id": "23444a43",
   "metadata": {},
   "outputs": [
    {
     "data": {
      "image/png": "[encoded data removed]",
      "text/plain": [
       "<Figure size 432x288 with 1 Axes>"
      ]
     },
     "metadata": {},
     "output_type": "display_data"
    }
   ],
   "source": [
    "# Ventana del gráfico\n",
    "plt.figure('Ejemplo de primer parcial ')\n",
    "\n",
    "# Diagramas\n",
    "diagram = venn3((1, 1, 1, 1, 1, 1, 1), set_labels=(\"Economía\", \"Seguridad\", \"Educacion\"))\n",
    "\n",
    "# Tamaño de la fuente\n",
    "for subset in (\"111\", \"110\", \"101\", \"100\", \"011\", \"010\", \"001\"):\n",
    "    diagram.get_label_by_id(subset).set_fontsize(11)\n",
    "\n",
    "# Transferencia de los resultados de las operaciones\n",
    "diagram.get_label_by_id('100').set_text(nSoloEc)\n",
    "diagram.get_label_by_id('010').set_text(soloS[0])\n",
    "diagram.get_label_by_id('001').set_text(soloEd[0])\n",
    "diagram.get_label_by_id('110').set_text(dif1[0])\n",
    "diagram.get_label_by_id('011').set_text(ndif2)\n",
    "diagram.get_label_by_id('101').set_text(ndif3)\n",
    "diagram.get_label_by_id('111').set_text(interseccion[0])\n",
    "\n",
    "# Contornos\n",
    "c = venn3_circles(subsets=(1, 1, 1, 1, 1, 1, 1))\n",
    "\n",
    "# agregamos más datos aclaratorios al gráfico\n",
    "plt.text(0.50, -0.4, f\"Universal = {universal}\", size=10)\n",
    "plt.text(0.50, -0.55, f\"Fuera de\\nlos conjuntos = {ninguno}\", size=10)\n",
    "\n",
    "# Respuestas\n",
    "plt.text(-2.2, 0, s=\"Respuestas: \", size=12,\n",
    "         ha=\"left\",  # alineación horizontal\n",
    "         va=\"bottom\",  # alineación vertical\n",
    "         bbox=dict(boxstyle=\"square\", ec=(1.0, 0.7, 0.5), fc=(1.0, 0.9, 0.8),))\n",
    "\n",
    "plt.text(-2.20, -0.10, s=\"a) Opinaron sobre Seguridad, Educación y Economía = \" + str(interseccion[0]), size=10,\n",
    "         ha=\"left\",  # alineación horizontal\n",
    "         va=\"bottom\",  # alineación vertical\n",
    "         bbox=dict(boxstyle=\"square\", ec=(1.0, 0.7, 0.5), fc=(1.0, 0.9, 0.8),))\n",
    "\n",
    "plt.text(-2.20, -0.20, s=\"b) Opinaron sobre sólo Economía y Educación = \" + str(ndif3), size=10,\n",
    "         ha=\"left\",  # alineación horizontal\n",
    "         va=\"bottom\",  # alineación vertical\n",
    "         bbox=dict(boxstyle=\"square\", ec=(1.0, 0.7, 0.5), fc=(1.0, 0.9, 0.8),))\n",
    "\n",
    "plt.text(-2.20, -0.30, s=\"c) Opinaron sobre sólo Economía = \" + str(nSoloEc), size=10,\n",
    "         ha=\"left\",  # alineación horizontal\n",
    "         va=\"bottom\",  # alineación vertical\n",
    "         bbox=dict(boxstyle=\"square\", ec=(1.0, 0.7, 0.5), fc=(1.0, 0.9, 0.8),))\n",
    "\n",
    "plt.text(-2.20, -0.40, s=\"d) Opinaron sobre solo Seguridad = \" + str(soloS[0]), size=10,\n",
    "         ha=\"left\",  # alineación horizontal\n",
    "         va=\"bottom\",  # alineación vertical\n",
    "         bbox=dict(boxstyle=\"square\", ec=(1.0, 0.7, 0.5), fc=(1.0, 0.9, 0.8),))\n",
    "\n",
    "plt.text(-2.20, -0.50, s=\"e) Opinaron sobre sólo Educación = \" + str(soloEd[0]), size=10,\n",
    "         ha=\"left\",  # alineación horizontal\n",
    "         va=\"bottom\",  # alineación vertical\n",
    "         bbox=dict(boxstyle=\"square\", ec=(1.0, 0.7, 0.5), fc=(1.0, 0.9, 0.8),))\n",
    "\n",
    "plt.text(-2.20, -0.60, s=\"f) Opinaron sobre 2 de las 3 categorías = \" + str(solo2de3), size=10,\n",
    "         ha=\"left\",  # alineación horizontal\n",
    "         va=\"bottom\",  # alineación vertical\n",
    "         bbox=dict(boxstyle=\"square\", ec=(1.0, 0.7, 0.5), fc=(1.0, 0.9, 0.8),))\n",
    "\n",
    "plt.title(\"Encuesta\", size=18)\n",
    "plt.show()"
   ]
  },
  {
   "cell_type": "code",
   "execution_count": null,
   "id": "40c5c2de",
   "metadata": {},
   "outputs": [],
   "source": []
  }
 ],
 "metadata": {
  "kernelspec": {
   "display_name": "Python 3 (ipykernel)",
   "language": "python",
   "name": "python3"
  },
  "language_info": {
   "codemirror_mode": {
    "name": "ipython",
    "version": 3
   },
   "file_extension": ".py",
   "mimetype": "text/x-python",
   "name": "python",
   "nbconvert_exporter": "python",
   "pygments_lexer": "ipython3",
   "version": "3.8.5"
  }
 },
 "nbformat": 4,
 "nbformat_minor": 5
}
