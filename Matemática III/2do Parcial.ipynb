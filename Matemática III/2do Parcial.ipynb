{
 "cells": [
  {
   "cell_type": "code",
   "execution_count": 1,
   "id": "7033452a",
   "metadata": {},
   "outputs": [],
   "source": [
    "import networkx as nx\n",
    "import matplotlib.pyplot as plt"
   ]
  },
  {
   "cell_type": "markdown",
   "id": "1e10758a",
   "metadata": {},
   "source": [
    "1.\tCrear la clase grafo (en Python) para el ejercicio 2. (valor = 1 punto)"
   ]
  },
  {
   "cell_type": "code",
   "execution_count": 2,
   "id": "ba850037",
   "metadata": {},
   "outputs": [],
   "source": [
    "class Grafo:\n",
    "    def __init__(self, G):\n",
    "        self.G = G\n",
    "        \n",
    "    def cargoGraph(self):\n",
    "        self.G.add_weighted_edges_from([('a', 'b', 5),\n",
    "                                        ('a', 'd', 6),\n",
    "                                        ('b', 'c', 5),\n",
    "                                        ('b', 'e', 6),\n",
    "                                        ('b', 'g', 7),\n",
    "                                        ('c', 'g', 2),\n",
    "                                        ('d', 'f', 5),\n",
    "                                        ('d', 'g', 9),\n",
    "                                        ('e', 'a', 3),\n",
    "                                        ('e', 'd', 2),\n",
    "                                        ('f', 'g', 9)]) \n",
    "        return self.G\n",
    "\n",
    "    def emitoGraph(self, pos):\n",
    "        nx.draw_networkx_nodes(self.G, pos, node_color='violet', node_size=600)\n",
    "        nx.draw_networkx_labels(self.G, pos, font_size=10, font_family='sans-serif')\n",
    "        nx.draw_networkx_edges(self.G, pos, edge_color='grey', width=2, arrowstyle= '<|-|>', arrowsize = 10)\n",
    "        labels = nx.get_edge_attributes(self.G, 'weight')\n",
    "        nx.draw_networkx_edge_labels(self.G, pos, edge_labels=labels)\n",
    "        plt.axis('off')\n",
    "        plt.show()"
   ]
  },
  {
   "cell_type": "markdown",
   "id": "77ab9270",
   "metadata": {},
   "source": [
    "2.\tDada la siguiente matriz que determina nodos, pesos y conexiones, resolver usando networkx:\n",
    "\n",
    "<table>\n",
    "\t<thead>\n",
    "\t<tr>\n",
    "\t\t<th></th>\n",
    "\t\t<th>A</th>\n",
    "\t\t<th>B</th>\n",
    "\t\t<th>C</th>\n",
    "\t\t<th>D</th>\n",
    "\t\t<th>E</th>\n",
    "\t\t<th>F</th>\n",
    "\t\t<th>G</th>\n",
    "\t</tr>\n",
    "\t</thead>\n",
    "\t<tbody>\n",
    "\t<tr>\n",
    "\t\t<td>A</td>\n",
    "\t\t<td></td>\n",
    "\t\t<td>5</td>\n",
    "\t\t<td></td>\n",
    "\t\t<td>6</td>\n",
    "\t\t<td></td>\n",
    "\t\t<td></td>\n",
    "\t\t<td></td>\n",
    "\t</tr>\n",
    "\t<tr>\n",
    "\t\t<td>B</td>\n",
    "\t\t<td></td>\n",
    "\t\t<td></td>\n",
    "\t\t<td>5</td>\n",
    "\t\t<td></td>\n",
    "\t\t<td>6</td>\n",
    "\t\t<td></td>\n",
    "\t\t<td>7</td>\n",
    "\t</tr>\n",
    "\t<tr>\n",
    "\t\t<td>C</td>\n",
    "\t\t<td></td>\n",
    "\t\t<td></td>\n",
    "\t\t<td></td>\n",
    "\t\t<td></td>\n",
    "\t\t<td></td>\n",
    "\t\t<td></td>\n",
    "\t\t<td>2</td>\n",
    "\t</tr>\n",
    "\t<tr>\n",
    "        <td>D</td>\n",
    "\t\t<td></td>\n",
    "\t\t<td></td>\n",
    "\t\t<td></td>\n",
    "\t\t<td></td>\n",
    "\t\t<td></td>\n",
    "\t\t<td>5</td>\n",
    "\t\t<td>9</td>\n",
    "\t</tr>\n",
    "\t<tr>\n",
    "        <td>E</td>\n",
    "\t\t<td>3</td>\n",
    "\t\t<td></td>\n",
    "\t\t<td></td>\n",
    "\t\t<td>2</td>\n",
    "\t\t<td></td>\n",
    "\t\t<td></td>\n",
    "\t\t<td></td>\n",
    "\t</tr>\n",
    "\t<tr>\n",
    "        <td>F</td>\n",
    "\t\t<td></td>\n",
    "\t\t<td></td>\n",
    "\t\t<td></td>\n",
    "\t\t<td></td>\n",
    "\t\t<td></td>\n",
    "\t\t<td></td>\n",
    "\t\t<td>9</td>\n",
    "\t</tr>\n",
    "\t<tbody>\n",
    "</table>"
   ]
  },
  {
   "cell_type": "code",
   "execution_count": 3,
   "id": "f57b5e5a",
   "metadata": {},
   "outputs": [
    {
     "name": "stdout",
     "output_type": "stream",
     "text": [
      "None\n"
     ]
    },
    {
     "data": {
      "image/png": "[encoded data removed]",
      "text/plain": [
       "<Figure size 432x288 with 1 Axes>"
      ]
     },
     "metadata": {},
     "output_type": "display_data"
    }
   ],
   "source": [
    "# a.\tConstruir los nodos, enlaces y pesos y graficar. \n",
    "grafo1 = Grafo(nx.Graph()) #Creo un objeto de la clase para definir el primer grafo\n",
    "G = grafo1.cargoGraph() #Carga del grafo \n",
    "x = nx.draw(G, with_labels=True, node_size=2500, font_size=12)\n",
    "print(x)"
   ]
  },
  {
   "cell_type": "code",
   "execution_count": 4,
   "id": "ba2a14ab",
   "metadata": {},
   "outputs": [
    {
     "data": {
      "text/plain": [
       "['a', 'c', 'e', 'g']"
      ]
     },
     "execution_count": 4,
     "metadata": {},
     "output_type": "execute_result"
    }
   ],
   "source": [
    "# b.\tEmitir los vecinos de ‘b’ \n",
    "list(G.neighbors('b'))"
   ]
  },
  {
   "cell_type": "code",
   "execution_count": 5,
   "id": "b6048b43",
   "metadata": {},
   "outputs": [
    {
     "data": {
      "text/plain": [
       "DegreeView({'a': 3, 'b': 4, 'd': 4, 'c': 2, 'e': 3, 'g': 4, 'f': 2})"
      ]
     },
     "execution_count": 5,
     "metadata": {},
     "output_type": "execute_result"
    }
   ],
   "source": [
    "# c.\tEmitir cantidad de aristas de cada nodo\n",
    "G.degree()"
   ]
  },
  {
   "cell_type": "code",
   "execution_count": 6,
   "id": "77ba4a44",
   "metadata": {},
   "outputs": [
    {
     "data": {
      "text/plain": [
       "{'a': 3, 'b': 4, 'd': 4, 'c': 2, 'e': 3, 'g': 4, 'f': 2}"
      ]
     },
     "execution_count": 6,
     "metadata": {},
     "output_type": "execute_result"
    }
   ],
   "source": [
    "# d.\tConvertir en diccionario la salida anterior \n",
    "dict(G.degree())"
   ]
  },
  {
   "cell_type": "code",
   "execution_count": 7,
   "id": "99129a01",
   "metadata": {},
   "outputs": [
    {
     "data": {
      "text/plain": [
       "matrix([[0, 5, 6, 0, 3, 0, 0],\n",
       "        [5, 0, 0, 5, 6, 7, 0],\n",
       "        [6, 0, 0, 0, 2, 9, 5],\n",
       "        [0, 5, 0, 0, 0, 2, 0],\n",
       "        [3, 6, 2, 0, 0, 0, 0],\n",
       "        [0, 7, 9, 2, 0, 0, 9],\n",
       "        [0, 0, 5, 0, 0, 9, 0]], dtype=int32)"
      ]
     },
     "execution_count": 7,
     "metadata": {},
     "output_type": "execute_result"
    }
   ],
   "source": [
    "# e.\tCrear la matriz de adyacencia y emitirla \n",
    "M = nx.adjacency_matrix(G)\n",
    "M.todense()"
   ]
  },
  {
   "cell_type": "code",
   "execution_count": 8,
   "id": "92742271",
   "metadata": {},
   "outputs": [
    {
     "data": {
      "text/plain": [
       "matrix([[1., 1., 1., 0., 0., 0., 0., 0., 0., 0., 0.],\n",
       "        [1., 0., 0., 1., 1., 1., 0., 0., 0., 0., 0.],\n",
       "        [0., 1., 0., 0., 0., 0., 1., 1., 1., 0., 0.],\n",
       "        [0., 0., 0., 1., 0., 0., 0., 0., 0., 1., 0.],\n",
       "        [0., 0., 1., 0., 1., 0., 0., 0., 1., 0., 0.],\n",
       "        [0., 0., 0., 0., 0., 1., 0., 1., 0., 1., 1.],\n",
       "        [0., 0., 0., 0., 0., 0., 1., 0., 0., 0., 1.]])"
      ]
     },
     "execution_count": 8,
     "metadata": {},
     "output_type": "execute_result"
    }
   ],
   "source": [
    "# f.\tCrear la matriz de incidencia y emitirla \n",
    "I =  nx.incidence_matrix(G)\n",
    "I.todense()\n"
   ]
  },
  {
   "cell_type": "code",
   "execution_count": 9,
   "id": "c013e3ee",
   "metadata": {},
   "outputs": [
    {
     "data": {
      "text/plain": [
       "{'a': 0, 'd': 1, 'b': 1, 'e': 1, 'c': 2, 'g': 2, 'f': 2}"
      ]
     },
     "execution_count": 9,
     "metadata": {},
     "output_type": "execute_result"
    }
   ],
   "source": [
    "# g.\tEmitir la longitud desde ‘a’ hasta el objetivo\n",
    "nx.single_source_shortest_path_length(G, 'a')"
   ]
  },
  {
   "cell_type": "code",
   "execution_count": 10,
   "id": "588e5754",
   "metadata": {},
   "outputs": [
    {
     "data": {
      "text/plain": [
       "1.4761904761904763"
      ]
     },
     "execution_count": 10,
     "metadata": {},
     "output_type": "execute_result"
    }
   ],
   "source": [
    "# h.\tEmitir el promedio de la ruta más corta usando el método de floyd-warshall\n",
    "nx.algorithms.average_shortest_path_length(G, method=\"floyd-warshall\")"
   ]
  },
  {
   "cell_type": "code",
   "execution_count": 11,
   "id": "a6ec09cf",
   "metadata": {},
   "outputs": [
    {
     "data": {
      "text/plain": [
       "['a', 'b', 'g']"
      ]
     },
     "execution_count": 11,
     "metadata": {},
     "output_type": "execute_result"
    }
   ],
   "source": [
    "# i.\tEmitir la ruta ponderada más corta entre ‘a’ y ‘g’ usando el algoritmo de Dijkstra \n",
    "nx.algorithms.dijkstra_path(G, 'a', 'g')"
   ]
  },
  {
   "cell_type": "code",
   "execution_count": 12,
   "id": "bd77cdb4",
   "metadata": {},
   "outputs": [
    {
     "data": {
      "text/plain": [
       "12"
      ]
     },
     "execution_count": 12,
     "metadata": {},
     "output_type": "execute_result"
    }
   ],
   "source": [
    "# j.\tEmitir la longitud de la ruta ponderada entre ‘a’ y ‘g’ \n",
    "nx.dijkstra_path_length(G,'a','g')"
   ]
  },
  {
   "cell_type": "code",
   "execution_count": 13,
   "id": "5d33e6d9",
   "metadata": {},
   "outputs": [
    {
     "data": {
      "text/plain": [
       "{'c': 0, 'g': 2, 'b': 5, 'a': 10, 'd': 11, 'f': 11, 'e': 11}"
      ]
     },
     "execution_count": 13,
     "metadata": {},
     "output_type": "execute_result"
    }
   ],
   "source": [
    "# k.\tEmitir la longitud de la ruta desde el nodo ‘c'\n",
    "nx.single_source_dijkstra_path_length(G,'c')"
   ]
  },
  {
   "cell_type": "code",
   "execution_count": 14,
   "id": "e9dd96de",
   "metadata": {},
   "outputs": [
    {
     "data": {
      "text/plain": [
       "{'c': 0, 'g': 2, 'b': 5, 'a': 10, 'd': 11, 'f': 11, 'e': 11}"
      ]
     },
     "execution_count": 14,
     "metadata": {},
     "output_type": "execute_result"
    }
   ],
   "source": [
    "# l.\tEmita el radio del grafo \n",
    "nx.single_source_dijkstra_path_length(G,'c')"
   ]
  },
  {
   "cell_type": "code",
   "execution_count": 25,
   "id": "85760993",
   "metadata": {},
   "outputs": [
    {
     "data": {
      "text/plain": [
       "2"
      ]
     },
     "execution_count": 25,
     "metadata": {},
     "output_type": "execute_result"
    }
   ],
   "source": [
    "# m.\tEmita el diámetro del grafo \n",
    "nx.diameter(G)          "
   ]
  },
  {
   "cell_type": "code",
   "execution_count": 26,
   "id": "5cb56fd8",
   "metadata": {},
   "outputs": [
    {
     "data": {
      "text/plain": [
       "{'a': 2, 'b': 2, 'd': 2, 'c': 2, 'e': 2, 'g': 2, 'f': 2}"
      ]
     },
     "execution_count": 26,
     "metadata": {},
     "output_type": "execute_result"
    }
   ],
   "source": [
    "# n.\tEmita la excentricidad  \n",
    "nx.eccentricity(G)    "
   ]
  },
  {
   "cell_type": "code",
   "execution_count": 27,
   "id": "8ba0f299",
   "metadata": {},
   "outputs": [
    {
     "data": {
      "text/plain": [
       "['a', 'b', 'd', 'c', 'e', 'g', 'f']"
      ]
     },
     "execution_count": 27,
     "metadata": {},
     "output_type": "execute_result"
    }
   ],
   "source": [
    "# o.\tEmita el centro del grafo \n",
    "nx.center(G)              "
   ]
  },
  {
   "cell_type": "code",
   "execution_count": 28,
   "id": "bf979400",
   "metadata": {},
   "outputs": [
    {
     "data": {
      "text/plain": [
       "['a', 'b', 'd', 'c', 'e', 'g', 'f']"
      ]
     },
     "execution_count": 28,
     "metadata": {},
     "output_type": "execute_result"
    }
   ],
   "source": [
    "# p.\tEmita la periferia del grafo \n",
    "nx.periphery(G)            "
   ]
  },
  {
   "cell_type": "code",
   "execution_count": 75,
   "id": "2a3c1313",
   "metadata": {},
   "outputs": [
    {
     "data": {
      "text/plain": [
       "0.5238095238095238"
      ]
     },
     "execution_count": 75,
     "metadata": {},
     "output_type": "execute_result"
    }
   ],
   "source": [
    "# q.\tEmita la densidad. \n",
    "nx.density(G) "
   ]
  },
  {
   "cell_type": "code",
   "execution_count": 76,
   "id": "4e215b05",
   "metadata": {},
   "outputs": [
    {
     "data": {
      "image/png": "[encoded data removed]",
      "text/plain": [
       "<Figure size 432x288 with 1 Axes>"
      ]
     },
     "metadata": {},
     "output_type": "display_data"
    }
   ],
   "source": [
    "# r.\tDibujar el grafo y emitir con matplotlib\n",
    "#Gráfico:\n",
    "pos = nx.shell_layout(G)\n",
    "grafo1.emitoGraph(pos)"
   ]
  },
  {
   "cell_type": "code",
   "execution_count": 81,
   "id": "d3e982cc",
   "metadata": {},
   "outputs": [],
   "source": [
    "# s.\tConvertir en grafo dirigido \n",
    "H = G.to_directed()\n",
    "grafo2 = Grafo(H)\n",
    "H = grafo2.cargoGraph()"
   ]
  },
  {
   "cell_type": "code",
   "execution_count": 82,
   "id": "ce4e2aaa",
   "metadata": {},
   "outputs": [
    {
     "data": {
      "image/png": "[encoded data removed]",
      "text/plain": [
       "<Figure size 432x288 with 1 Axes>"
      ]
     },
     "metadata": {},
     "output_type": "display_data"
    }
   ],
   "source": [
    "# t.\tDibujar el nuevo grafo y emitir con matplotlib\n",
    "pos = nx.shell_layout(H)\n",
    "grafo2.emitoGraph(pos)"
   ]
  },
  {
   "cell_type": "markdown",
   "id": "b21d1b7c",
   "metadata": {},
   "source": [
    "3.\tDadas las siguientes líneas de texto:\n",
    "\n",
    "        1,Ciudad Autónoma de Buenos Aires (CABA),AR-C\n",
    "        \n",
    "        2,Buenos Aires,AR-B\n",
    "        \n",
    "        3,Catamarca,AR-K\n",
    "        \n",
    "        4,Córdoba,AR-X\n",
    "        \n",
    "        5,Corrientes,AR-W\n",
    "        \n",
    "        6,Entre Ríos,AR-E\n",
    "        \n",
    "        7,Jujuy,AR-Y\n",
    "\n",
    "Construir el programa y hallar la expresión regular para extraer en una lista las provincia o ciudad (CABA) y la última letra de la cadena, sin el guión: \n",
    "\n",
    "Ej: [Ciudad Autónoma de Buenos Aires (CABA),C, Buenos Aires,B, ….. ]\n"
   ]
  },
  {
   "cell_type": "code",
   "execution_count": 1,
   "id": "0679b25c",
   "metadata": {},
   "outputs": [
    {
     "name": "stdout",
     "output_type": "stream",
     "text": [
      "['Ciudad Autónoma de Buenos Aires (CABA)', 'C', 'Buenos Aires', 'B', 'Catamarca', 'K', 'Córdoba', 'X', 'Corrientes', 'W', 'Entre Ríos', 'E', 'Jujuy', 'Y']\n"
     ]
    }
   ],
   "source": [
    "import re \n",
    "\n",
    "texto = \"\"\"\n",
    "1,Ciudad Autónoma de Buenos Aires (CABA),AR-C\n",
    "2,Buenos Aires,AR-B\n",
    "3,Catamarca,AR-K\n",
    "4,Córdoba,AR-X\n",
    "5,Corrientes,AR-W\n",
    "6,Entre Ríos,AR-E\n",
    "7,Jujuy,AR-Y\n",
    "\"\"\"\n",
    "a_buscar = r'(?<=,)[^\\n]+(?=,)|(?<=-)[A-Z]+(?=\\n)'\n",
    "\n",
    "x = re.findall(a_buscar, texto) \n",
    "print(x)"
   ]
  },
  {
   "cell_type": "code",
   "execution_count": null,
   "id": "8e70349c",
   "metadata": {},
   "outputs": [],
   "source": []
  }
 ],
 "metadata": {
  "kernelspec": {
   "display_name": "Python 3",
   "language": "python",
   "name": "python3"
  },
  "language_info": {
   "codemirror_mode": {
    "name": "ipython",
    "version": 3
   },
   "file_extension": ".py",
   "mimetype": "text/x-python",
   "name": "python",
   "nbconvert_exporter": "python",
   "pygments_lexer": "ipython3",
   "version": "3.8.5"
  }
 },
 "nbformat": 4,
 "nbformat_minor": 5
}
