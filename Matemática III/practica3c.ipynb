{
 "cells": [
  {
   "cell_type": "markdown",
   "source": [
    "# Práctica 3 - Ciclos"
   ],
   "metadata": {}
  },
  {
   "cell_type": "markdown",
   "source": [
    "### 1. Escribe un programa que le permita realizar la escritura de los primeros 100 números naturales."
   ],
   "metadata": {}
  },
  {
   "cell_type": "code",
   "execution_count": null,
   "source": [
    "for i in range(100):\r\n",
    "    print(f'{i+1}')"
   ],
   "outputs": [],
   "metadata": {}
  },
  {
   "cell_type": "markdown",
   "source": [
    "### 2. Escribe un programa que le permita realizar la suma de los primeros N números impares."
   ],
   "metadata": {}
  },
  {
   "cell_type": "code",
   "execution_count": null,
   "source": [
    "n = int(input('Ingresar un número impar: '))\r\n",
    "if n%2!=0:\r\n",
    "    nums = []\r\n",
    "    for i in range(1,n+1):\r\n",
    "        if i%2!=0:\r\n",
    "            nums.append(i)\r\n",
    "    total = sum(nums)\r\n",
    "    print(total)\r\n",
    "else:\r\n",
    "    print('No ingresó un número impar.')"
   ],
   "outputs": [],
   "metadata": {}
  },
  {
   "cell_type": "markdown",
   "source": [
    "### 3. Escribe un programa que calcule el factorial de un número cualquiera que se ingresa por teclado."
   ],
   "metadata": {}
  },
  {
   "cell_type": "code",
   "execution_count": null,
   "source": [
    "n = int(input('Ingresar un valor: '))\r\n",
    "resultado = 1\r\n",
    "if n == 0 or n == 1:\r\n",
    "    resultado = 1\r\n",
    "else:\r\n",
    "    for i in range(1,n+1):\r\n",
    "        resultado *= i\r\n",
    "\r\n",
    "print(f'El factorial de {n} es: {resultado}')"
   ],
   "outputs": [],
   "metadata": {}
  },
  {
   "cell_type": "markdown",
   "source": [
    "### 4. Muestre los N primeros números de la secuencia de Fibonacci, siendo n un dato entero."
   ],
   "metadata": {}
  },
  {
   "cell_type": "code",
   "execution_count": null,
   "source": [],
   "outputs": [],
   "metadata": {}
  }
 ],
 "metadata": {
  "orig_nbformat": 4,
  "language_info": {
   "name": "python",
   "version": "3.8.5",
   "mimetype": "text/x-python",
   "codemirror_mode": {
    "name": "ipython",
    "version": 3
   },
   "pygments_lexer": "ipython3",
   "nbconvert_exporter": "python",
   "file_extension": ".py"
  },
  "kernelspec": {
   "name": "python3",
   "display_name": "Python 3.8.5 32-bit"
  },
  "interpreter": {
   "hash": "4dbc7d319552f751da30033d7b4995c635b04ff01c80dae115406c1f1bb6c9c9"
  }
 },
 "nbformat": 4,
 "nbformat_minor": 2
}