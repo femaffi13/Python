{
 "cells": [
  {
   "cell_type": "markdown",
   "source": [
    "# Práctica 3 - Ciclos"
   ],
   "metadata": {}
  },
  {
   "cell_type": "markdown",
   "source": [
    "### 1. Escribe un programa que le permita realizar la escritura de los primeros 100 números naturales."
   ],
   "metadata": {}
  },
  {
   "cell_type": "code",
   "execution_count": null,
   "source": [
    "for i in range(100):\r\n",
    "    print(f'{i+1}')"
   ],
   "outputs": [],
   "metadata": {}
  },
  {
   "cell_type": "markdown",
   "source": [
    "### 2. Escribe un programa que le permita realizar la suma de los primeros N números impares."
   ],
   "metadata": {}
  },
  {
   "cell_type": "code",
   "execution_count": null,
   "source": [
    "n = int(input('Ingresar un número impar: '))\r\n",
    "if n%2!=0:\r\n",
    "    nums = []\r\n",
    "    for i in range(1,n+1):\r\n",
    "        if i%2!=0:\r\n",
    "            nums.append(i)\r\n",
    "    total = sum(nums)\r\n",
    "    print(total)\r\n",
    "else:\r\n",
    "    print('No ingresó un número impar.')"
   ],
   "outputs": [],
   "metadata": {}
  },
  {
   "cell_type": "markdown",
   "source": [
    "### 3. Escribe un programa que calcule el factorial de un número cualquiera que se ingresa por teclado."
   ],
   "metadata": {}
  },
  {
   "cell_type": "code",
   "execution_count": null,
   "source": [
    "n = int(input('Ingresar un valor: '))\r\n",
    "resultado = 1\r\n",
    "if n == 0 or n == 1:\r\n",
    "    resultado = 1\r\n",
    "else:\r\n",
    "    for i in range(1,n+1):\r\n",
    "        resultado *= i\r\n",
    "\r\n",
    "print(f'El factorial de {n} es: {resultado}')"
   ],
   "outputs": [],
   "metadata": {}
  },
  {
   "cell_type": "markdown",
   "source": [
    "### 4. Muestre los N primeros números de la secuencia de Fibonacci, siendo n un dato entero."
   ],
   "metadata": {}
  },
  {
   "cell_type": "code",
   "execution_count": null,
   "source": [
    "#Empieza en 0, 1\r\n",
    "#la suma de los 2 valores da el siguiente valor: 0 + 1 = 1 \r\n",
    "fibo = [0,1]\r\n",
    "n = int(input('Ingresar un valor: '))\r\n",
    "if n == 0:\r\n",
    "    fibo = [0]\r\n",
    "if n == 1:\r\n",
    "    fibo = [0,1]\r\n",
    "for i in range(2,n):    \r\n",
    "    agregar = fibo[i-1] + fibo[i-2]\r\n",
    "    fibo.append(agregar)\r\n",
    "\r\n",
    "print(fibo)"
   ],
   "outputs": [],
   "metadata": {}
  },
  {
   "cell_type": "markdown",
   "source": [
    "### 5. Escribe un programa que pida la cantidad de números positivos que se tienen que escribir y a continuación pida números hasta que se hayan ingresado la cantidad de números indicada."
   ],
   "metadata": {}
  },
  {
   "cell_type": "code",
   "execution_count": null,
   "source": [
    "n = int(input('Cantidad de números positivos: '))\r\n",
    "i=0\r\n",
    "lista = []\r\n",
    "while i < n:\r\n",
    "    num = int(input('Valor: '))\r\n",
    "    lista.append(num)\r\n",
    "    i+=1\r\n",
    "print(lista)"
   ],
   "outputs": [],
   "metadata": {}
  },
  {
   "cell_type": "markdown",
   "source": [
    "### 6. Escribe un programa que pida dos números enteros. El programa pedirá de nuevo el segundo número mientras no sea mayor que el primero. El programa termina y emitirá los números."
   ],
   "metadata": {}
  },
  {
   "cell_type": "code",
   "execution_count": null,
   "source": [
    "n1 = int(input('Ingresar número entero: '))\r\n",
    "n2 = int(input('Ingresar número entero: '))\r\n",
    "while n1 > n2:\r\n",
    "    n2 = int(input('El segundo debe ser mayor que el primero. Ingresar un nuevo segundo valor: '))\r\n",
    "print(f'Primer valor: {n1}. Segundo valor: {n2}')"
   ],
   "outputs": [],
   "metadata": {}
  },
  {
   "cell_type": "markdown",
   "source": [
    "### 7. Escribe un programa que pida números decimales mientras el usuario escriba número mayores que el primero."
   ],
   "metadata": {}
  },
  {
   "cell_type": "code",
   "execution_count": 22,
   "source": [
    "n = float(input('Número decimal: '))\r\n",
    "i = 0\r\n",
    "while i<n:\r\n",
    "    i = n\r\n",
    "    n = float(input('Número decimal: '))"
   ],
   "outputs": [],
   "metadata": {}
  },
  {
   "cell_type": "markdown",
   "source": [
    "### 8. Escribe un programa que pida números enteros mientras el usuario ingresa números cada vez más grandes, el programa emite en cada iteración el número anterior ingresado y finaliza ingresando un número menor."
   ],
   "metadata": {}
  },
  {
   "cell_type": "code",
   "execution_count": null,
   "source": [
    "n = int(input('Número entero: '))\r\n",
    "i = 0\r\n",
    "while i<n:\r\n",
    "    i = n\r\n",
    "    print(f'Número anterior: {i}')\r\n",
    "    n = int(input('Número decimal: '))"
   ],
   "outputs": [],
   "metadata": {}
  },
  {
   "cell_type": "markdown",
   "source": [
    "### 9. Escribe un programa que pida números mientras no se escriba un número negativo. El programa terminará emitiendo la suma de los números ingresados."
   ],
   "metadata": {}
  },
  {
   "cell_type": "code",
   "execution_count": 27,
   "source": [
    "n = int(input('Escribir un número positivo: '))\r\n",
    "if n > 0:\r\n",
    "    sumatoria = 0\r\n",
    "    while n > 0:\r\n",
    "        n = int(input('Escribir un número positivo: '))\r\n",
    "        sumatoria += n\r\n",
    "else: \r\n",
    "    print(f'Programa finalizado.')\r\n",
    "print(f'Fin del programa. La sumatoria es de: {sumatoria}')"
   ],
   "outputs": [
    {
     "output_type": "stream",
     "name": "stdout",
     "text": [
      "Fin del programa. La sumatoria es de: {sumatoria}\n"
     ]
    }
   ],
   "metadata": {}
  },
  {
   "cell_type": "code",
   "execution_count": null,
   "source": [],
   "outputs": [],
   "metadata": {}
  }
 ],
 "metadata": {
  "orig_nbformat": 4,
  "language_info": {
   "name": "python",
   "version": "3.8.5",
   "mimetype": "text/x-python",
   "codemirror_mode": {
    "name": "ipython",
    "version": 3
   },
   "pygments_lexer": "ipython3",
   "nbconvert_exporter": "python",
   "file_extension": ".py"
  },
  "kernelspec": {
   "name": "python3",
   "display_name": "Python 3.8.5 32-bit"
  },
  "interpreter": {
   "hash": "4dbc7d319552f751da30033d7b4995c635b04ff01c80dae115406c1f1bb6c9c9"
  }
 },
 "nbformat": 4,
 "nbformat_minor": 2
}