{
 "cells": [
  {
   "cell_type": "markdown",
   "source": [
    "# Arbolado en espacios verdes - CABA"
   ],
   "metadata": {}
  },
  {
   "cell_type": "code",
   "execution_count": 17,
   "source": [
    "import pandas as pd\r\n",
    "df = pd.read_csv('arbolado.csv', index_col='id_arbol')\r\n",
    "df[df['espacio_ve'].str.contains('GENERAL PAZ')]"
   ],
   "outputs": [
    {
     "output_type": "execute_result",
     "data": {
      "text/plain": [
       "id_arbol\n",
       "1        AVELLANEDA, NICOLÁS, Pres.\n",
       "2        AVELLANEDA, NICOLÁS, Pres.\n",
       "3        AVELLANEDA, NICOLÁS, Pres.\n",
       "4        AVELLANEDA, NICOLÁS, Pres.\n",
       "5        AVELLANEDA, NICOLÁS, Pres.\n",
       "                    ...            \n",
       "51725                   GENERAL PAZ\n",
       "51726                   GENERAL PAZ\n",
       "51727    CAMPELO, LICENCIADO CARLOS\n",
       "51728                   GENERAL PAZ\n",
       "51729                   GENERAL PAZ\n",
       "Name: espacio_ve, Length: 51502, dtype: object"
      ]
     },
     "metadata": {},
     "execution_count": 17
    }
   ],
   "metadata": {}
  },
  {
   "cell_type": "code",
   "execution_count": null,
   "source": [],
   "outputs": [],
   "metadata": {}
  }
 ],
 "metadata": {
  "orig_nbformat": 4,
  "language_info": {
   "name": "python",
   "version": "3.8.5",
   "mimetype": "text/x-python",
   "codemirror_mode": {
    "name": "ipython",
    "version": 3
   },
   "pygments_lexer": "ipython3",
   "nbconvert_exporter": "python",
   "file_extension": ".py"
  },
  "kernelspec": {
   "name": "python3",
   "display_name": "Python 3.8.5 32-bit"
  },
  "interpreter": {
   "hash": "4dbc7d319552f751da30033d7b4995c635b04ff01c80dae115406c1f1bb6c9c9"
  }
 },
 "nbformat": 4,
 "nbformat_minor": 2
}