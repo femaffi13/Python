{
 "cells": [
  {
   "cell_type": "markdown",
   "source": [
    "Data Set extraída de [https://archive.ics.uci.edu/ml/datasets/Car+Evaluation](link)"
   ],
   "metadata": {}
  },
  {
   "cell_type": "code",
   "execution_count": 2,
   "source": [
    "import pandas as pd\r\n",
    "import numpy as np\r\n",
    "import matplotlib.pyplot as plt"
   ],
   "outputs": [],
   "metadata": {}
  },
  {
   "cell_type": "code",
   "execution_count": 3,
   "source": [
    "df = pd.read_csv('car.csv')\r\n",
    "df.columns = ['price', 'maint', 'doors', 'persons', 'lug_boot', 'safety', 'decision'] #Defino los nombres de las columnas\r\n",
    "df.head(3) #Muestro los primeros 3 registros"
   ],
   "outputs": [
    {
     "output_type": "execute_result",
     "data": {
      "text/html": [
       "<div>\n",
       "<style scoped>\n",
       "    .dataframe tbody tr th:only-of-type {\n",
       "        vertical-align: middle;\n",
       "    }\n",
       "\n",
       "    .dataframe tbody tr th {\n",
       "        vertical-align: top;\n",
       "    }\n",
       "\n",
       "    .dataframe thead th {\n",
       "        text-align: right;\n",
       "    }\n",
       "</style>\n",
       "<table border=\"1\" class=\"dataframe\">\n",
       "  <thead>\n",
       "    <tr style=\"text-align: right;\">\n",
       "      <th></th>\n",
       "      <th>price</th>\n",
       "      <th>maint</th>\n",
       "      <th>doors</th>\n",
       "      <th>persons</th>\n",
       "      <th>lug_boot</th>\n",
       "      <th>safety</th>\n",
       "      <th>decision</th>\n",
       "    </tr>\n",
       "  </thead>\n",
       "  <tbody>\n",
       "    <tr>\n",
       "      <th>0</th>\n",
       "      <td>vhigh</td>\n",
       "      <td>vhigh</td>\n",
       "      <td>2</td>\n",
       "      <td>2</td>\n",
       "      <td>small</td>\n",
       "      <td>med</td>\n",
       "      <td>unacc</td>\n",
       "    </tr>\n",
       "    <tr>\n",
       "      <th>1</th>\n",
       "      <td>vhigh</td>\n",
       "      <td>vhigh</td>\n",
       "      <td>2</td>\n",
       "      <td>2</td>\n",
       "      <td>small</td>\n",
       "      <td>high</td>\n",
       "      <td>unacc</td>\n",
       "    </tr>\n",
       "    <tr>\n",
       "      <th>2</th>\n",
       "      <td>vhigh</td>\n",
       "      <td>vhigh</td>\n",
       "      <td>2</td>\n",
       "      <td>2</td>\n",
       "      <td>med</td>\n",
       "      <td>low</td>\n",
       "      <td>unacc</td>\n",
       "    </tr>\n",
       "  </tbody>\n",
       "</table>\n",
       "</div>"
      ],
      "text/plain": [
       "   price  maint doors persons lug_boot safety decision\n",
       "0  vhigh  vhigh     2       2    small    med    unacc\n",
       "1  vhigh  vhigh     2       2    small   high    unacc\n",
       "2  vhigh  vhigh     2       2      med    low    unacc"
      ]
     },
     "metadata": {},
     "execution_count": 3
    }
   ],
   "metadata": {}
  },
  {
   "cell_type": "code",
   "execution_count": 5,
   "source": [
    "decision = df['decision'].value_counts().sort_index(ascending=True) #Cantidad de valores dentro de 'decision' ordenados alfabéticamente\r\n",
    "decision"
   ],
   "outputs": [
    {
     "output_type": "execute_result",
     "data": {
      "text/plain": [
       "acc       384\n",
       "good       69\n",
       "unacc    1209\n",
       "vgood      65\n",
       "Name: decision, dtype: int64"
      ]
     },
     "metadata": {},
     "execution_count": 5
    }
   ],
   "metadata": {}
  },
  {
   "cell_type": "code",
   "execution_count": 23,
   "source": [
    "decision.plot(kind='bar')"
   ],
   "outputs": [
    {
     "output_type": "execute_result",
     "data": {
      "text/plain": [
       "<AxesSubplot:>"
      ]
     },
     "metadata": {},
     "execution_count": 23
    },
    {
     "output_type": "display_data",
     "data": {
      "image/png": "[encoded data removed]",
      "text/plain": [
       "<Figure size 432x288 with 1 Axes>"
      ]
     },
     "metadata": {
      "needs_background": "light"
     }
    }
   ],
   "metadata": {}
  },
  {
   "cell_type": "code",
   "execution_count": 6,
   "source": [
    "df['price'].unique() #Array de los valores que se encuentran en 'price'"
   ],
   "outputs": [
    {
     "output_type": "execute_result",
     "data": {
      "text/plain": [
       "array(['vhigh', 'high', 'med', 'low'], dtype=object)"
      ]
     },
     "metadata": {},
     "execution_count": 6
    }
   ],
   "metadata": {}
  },
  {
   "cell_type": "code",
   "execution_count": 7,
   "source": [
    "df['price'].replace(('vhigh', 'high', 'med', 'low'), (4,3,2,1), inplace=True) #A los valores los reemplazo por una serie de números"
   ],
   "outputs": [],
   "metadata": {}
  },
  {
   "cell_type": "code",
   "execution_count": 8,
   "source": [
    "df.price.unique()"
   ],
   "outputs": [
    {
     "output_type": "execute_result",
     "data": {
      "text/plain": [
       "array([4, 3, 2, 1], dtype=int64)"
      ]
     },
     "metadata": {},
     "execution_count": 8
    }
   ],
   "metadata": {}
  },
  {
   "cell_type": "code",
   "execution_count": 9,
   "source": [
    "price = df['price'].value_counts()"
   ],
   "outputs": [],
   "metadata": {}
  },
  {
   "cell_type": "code",
   "execution_count": 10,
   "source": [
    "colors = ['#EE1379', '#EE7896', '#EE1998', '#EE7894']\r\n",
    "price.plot(kind='bar', color=colors)\r\n",
    "plt.xlabel('Precio')\r\n",
    "plt.ylabel('Cantidad de autos')\r\n",
    "plt.title('Precio por cantidad de autos')"
   ],
   "outputs": [
    {
     "output_type": "execute_result",
     "data": {
      "text/plain": [
       "Text(0.5, 1.0, 'Precio por cantidad de autos')"
      ]
     },
     "metadata": {},
     "execution_count": 10
    },
    {
     "output_type": "display_data",
     "data": {
      "image/png": "[encoded data removed]",
      "text/plain": [
       "<Figure size 432x288 with 1 Axes>"
      ]
     },
     "metadata": {
      "needs_background": "light"
     }
    }
   ],
   "metadata": {}
  },
  {
   "cell_type": "markdown",
   "source": [
    "# Modelo de Machine Learning - Tipo supervisado : Árbol de decisión"
   ],
   "metadata": {}
  },
  {
   "cell_type": "markdown",
   "source": [
    "Para saber o no si conviene comprar un auto. Se deben reeemplazar los valores de tipo texto a tipo numérico"
   ],
   "metadata": {}
  },
  {
   "cell_type": "code",
   "execution_count": 11,
   "source": [
    "df.info()"
   ],
   "outputs": [
    {
     "output_type": "stream",
     "name": "stdout",
     "text": [
      "<class 'pandas.core.frame.DataFrame'>\n",
      "RangeIndex: 1727 entries, 0 to 1726\n",
      "Data columns (total 7 columns):\n",
      " #   Column    Non-Null Count  Dtype \n",
      "---  ------    --------------  ----- \n",
      " 0   price     1727 non-null   int64 \n",
      " 1   maint     1727 non-null   object\n",
      " 2   doors     1727 non-null   object\n",
      " 3   persons   1727 non-null   object\n",
      " 4   lug_boot  1727 non-null   object\n",
      " 5   safety    1727 non-null   object\n",
      " 6   decision  1727 non-null   object\n",
      "dtypes: int64(1), object(6)\n",
      "memory usage: 54.0+ KB\n"
     ]
    }
   ],
   "metadata": {}
  },
  {
   "cell_type": "markdown",
   "source": [
    "Sólo la columna de \"price\" es de formato numérico, por lo que el resto de columnas tenemos que pasarlas de formato.\r\n",
    "Primero observo todos los valores que posee cada columna:"
   ],
   "metadata": {}
  },
  {
   "cell_type": "code",
   "execution_count": 12,
   "source": [
    "for e in df.columns:\r\n",
    "    print(f'{e}: {df[e].unique()}')"
   ],
   "outputs": [
    {
     "output_type": "stream",
     "name": "stdout",
     "text": [
      "price: [4 3 2 1]\n",
      "maint: ['vhigh' 'high' 'med' 'low']\n",
      "doors: ['2' '3' '4' '5more']\n",
      "persons: ['2' '4' 'more']\n",
      "lug_boot: ['small' 'med' 'big']\n",
      "safety: ['med' 'high' 'low']\n",
      "decision: ['unacc' 'acc' 'vgood' 'good']\n"
     ]
    }
   ],
   "metadata": {}
  },
  {
   "cell_type": "code",
   "execution_count": 13,
   "source": [
    "df['maint'].replace(('low', 'med', 'high', 'vhigh'), (1,2,3,4), inplace=True)\r\n",
    "df['doors'].replace(('2', '3', '4', '5more'), (1,2,3,4), inplace=True)\r\n",
    "df['persons'].replace(('2', '4', 'more'), (1,2,3), inplace=True)\r\n",
    "df['lug_boot'].replace(('small', 'med', 'big'), (1,2,3), inplace=True)\r\n",
    "df['safety'].replace(('low', 'med', 'high'), (1,2,3), inplace=True)\r\n",
    "df['decision'].replace(('unacc', 'acc', 'good', 'vgood'), (1,2,3,4), inplace=True)"
   ],
   "outputs": [],
   "metadata": {}
  },
  {
   "cell_type": "markdown",
   "source": [
    "Al trabajar con un algoritmo de aprendizaje, se tienen que dividir los datos, recomendado:\r\n",
    "- 80% aprendizaje\r\n",
    "- 20% prueba"
   ],
   "metadata": {}
  },
  {
   "cell_type": "code",
   "execution_count": 14,
   "source": [
    "dataset = df.values\r\n",
    "X = dataset[:, 0:6] #Primeras 5 columnas\r\n",
    "Y = np.asarray(dataset[:, 6], dtype='S6') #Última columna"
   ],
   "outputs": [],
   "metadata": {}
  },
  {
   "cell_type": "markdown",
   "source": [
    "Importación del árbol:"
   ],
   "metadata": {}
  },
  {
   "cell_type": "code",
   "execution_count": 15,
   "source": [
    "from sklearn import tree, metrics #Árbol, metricas para ver el nivel de aprendizaje\r\n",
    "from sklearn.model_selection import train_test_split, cross_val_score #Para dividir los datos"
   ],
   "outputs": [],
   "metadata": {}
  },
  {
   "cell_type": "markdown",
   "source": [
    "Definición y división de los datos:"
   ],
   "metadata": {}
  },
  {
   "cell_type": "code",
   "execution_count": 16,
   "source": [
    "X_Train, X_Test, Y_Train, Y_Test = train_test_split(X, Y, test_size=0.2, random_state=0) #Se definen en ese órden"
   ],
   "outputs": [],
   "metadata": {}
  },
  {
   "cell_type": "markdown",
   "source": [
    "Definición del árbol:"
   ],
   "metadata": {}
  },
  {
   "cell_type": "code",
   "execution_count": 17,
   "source": [
    "tr = tree.DecisionTreeClassifier(max_depth=10)"
   ],
   "outputs": [],
   "metadata": {}
  },
  {
   "cell_type": "markdown",
   "source": [
    "Entrenamiento del árbol: Creación del primer modelo"
   ],
   "metadata": {}
  },
  {
   "cell_type": "code",
   "execution_count": 18,
   "source": [
    "tr.fit(X_Train, Y_Train)"
   ],
   "outputs": [
    {
     "output_type": "execute_result",
     "data": {
      "text/plain": [
       "DecisionTreeClassifier(max_depth=10)"
      ]
     },
     "metadata": {},
     "execution_count": 18
    }
   ],
   "metadata": {}
  },
  {
   "cell_type": "markdown",
   "source": [
    "Verificar el nivel de aprendizaje:"
   ],
   "metadata": {}
  },
  {
   "cell_type": "code",
   "execution_count": 19,
   "source": [
    "y_pred = tr.predict(X_Test)"
   ],
   "outputs": [],
   "metadata": {}
  },
  {
   "cell_type": "markdown",
   "source": [
    "Al conjunto del 20% de prueba le asignó etiquetas a la última columna:"
   ],
   "metadata": {}
  },
  {
   "cell_type": "code",
   "execution_count": 20,
   "source": [
    "y_pred"
   ],
   "outputs": [
    {
     "output_type": "execute_result",
     "data": {
      "text/plain": [
       "array([b'2', b'1', b'1', b'1', b'1', b'3', b'1', b'1', b'4', b'2', b'1',\n",
       "       b'1', b'2', b'1', b'2', b'2', b'1', b'1', b'2', b'1', b'1', b'1',\n",
       "       b'4', b'2', b'1', b'1', b'2', b'1', b'1', b'1', b'1', b'1', b'1',\n",
       "       b'1', b'3', b'2', b'1', b'1', b'1', b'1', b'2', b'1', b'2', b'1',\n",
       "       b'1', b'1', b'2', b'2', b'1', b'2', b'2', b'2', b'1', b'2', b'1',\n",
       "       b'1', b'1', b'1', b'1', b'2', b'1', b'1', b'1', b'1', b'2', b'1',\n",
       "       b'1', b'1', b'1', b'1', b'1', b'1', b'1', b'1', b'3', b'2', b'1',\n",
       "       b'2', b'1', b'1', b'2', b'2', b'2', b'1', b'2', b'2', b'1', b'4',\n",
       "       b'1', b'1', b'1', b'1', b'1', b'1', b'1', b'4', b'2', b'2', b'1',\n",
       "       b'1', b'1', b'1', b'1', b'1', b'4', b'2', b'1', b'1', b'2', b'1',\n",
       "       b'1', b'1', b'1', b'4', b'1', b'3', b'1', b'1', b'1', b'1', b'1',\n",
       "       b'2', b'1', b'1', b'1', b'1', b'1', b'1', b'3', b'1', b'1', b'1',\n",
       "       b'2', b'1', b'1', b'1', b'1', b'2', b'2', b'1', b'1', b'1', b'1',\n",
       "       b'1', b'1', b'1', b'1', b'1', b'1', b'2', b'2', b'2', b'2', b'1',\n",
       "       b'1', b'1', b'1', b'1', b'1', b'1', b'2', b'1', b'1', b'3', b'1',\n",
       "       b'1', b'2', b'1', b'1', b'2', b'1', b'1', b'1', b'1', b'4', b'1',\n",
       "       b'1', b'1', b'1', b'1', b'1', b'1', b'1', b'1', b'1', b'1', b'1',\n",
       "       b'1', b'1', b'1', b'1', b'1', b'1', b'1', b'1', b'1', b'1', b'4',\n",
       "       b'1', b'2', b'1', b'2', b'1', b'1', b'1', b'1', b'1', b'1', b'1',\n",
       "       b'1', b'1', b'1', b'1', b'2', b'1', b'1', b'1', b'1', b'1', b'1',\n",
       "       b'1', b'1', b'2', b'1', b'1', b'1', b'3', b'4', b'2', b'1', b'2',\n",
       "       b'1', b'2', b'1', b'2', b'2', b'2', b'2', b'1', b'1', b'1', b'2',\n",
       "       b'1', b'1', b'3', b'2', b'1', b'1', b'1', b'1', b'1', b'1', b'3',\n",
       "       b'1', b'1', b'1', b'2', b'2', b'1', b'1', b'3', b'1', b'1', b'1',\n",
       "       b'1', b'1', b'1', b'2', b'2', b'1', b'1', b'1', b'2', b'1', b'1',\n",
       "       b'1', b'3', b'2', b'2', b'1', b'1', b'2', b'2', b'1', b'1', b'1',\n",
       "       b'1', b'1', b'4', b'1', b'1', b'3', b'1', b'2', b'1', b'2', b'1',\n",
       "       b'1', b'1', b'4', b'1', b'1', b'1', b'3', b'4', b'1', b'4', b'1',\n",
       "       b'1', b'3', b'3', b'2', b'1', b'1', b'2', b'1', b'1', b'1', b'1',\n",
       "       b'1', b'1', b'1', b'2', b'1', b'1', b'2', b'2', b'1', b'2', b'2',\n",
       "       b'1', b'2', b'4', b'1', b'4', b'1', b'1', b'1', b'1', b'1', b'1',\n",
       "       b'1', b'1', b'1', b'1', b'2'], dtype='|S6')"
      ]
     },
     "metadata": {},
     "execution_count": 20
    }
   ],
   "metadata": {}
  },
  {
   "cell_type": "markdown",
   "source": [
    "Porcentaje de aprendizaje:"
   ],
   "metadata": {}
  },
  {
   "cell_type": "code",
   "execution_count": 23,
   "source": [
    "score = tr.score(X_Test, Y_Test)\r\n",
    "print('Score: %0.3f' % (score*100))"
   ],
   "outputs": [
    {
     "output_type": "stream",
     "name": "stdout",
     "text": [
      "Score: 96.821\n"
     ]
    }
   ],
   "metadata": {}
  },
  {
   "cell_type": "markdown",
   "source": [
    "El Score tiene que estar cercano a 100, en caso de dar 100, no sería correcto el modelo, hay una falla en los datos o faltante de los mismos"
   ],
   "metadata": {}
  }
 ],
 "metadata": {
  "orig_nbformat": 4,
  "language_info": {
   "name": "python",
   "version": "3.8.5",
   "mimetype": "text/x-python",
   "codemirror_mode": {
    "name": "ipython",
    "version": 3
   },
   "pygments_lexer": "ipython3",
   "nbconvert_exporter": "python",
   "file_extension": ".py"
  },
  "kernelspec": {
   "name": "python3",
   "display_name": "Python 3.8.5 32-bit"
  },
  "interpreter": {
   "hash": "4dbc7d319552f751da30033d7b4995c635b04ff01c80dae115406c1f1bb6c9c9"
  }
 },
 "nbformat": 4,
 "nbformat_minor": 2
}