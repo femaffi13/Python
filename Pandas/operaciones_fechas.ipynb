{
 "cells": [
  {
   "cell_type": "code",
   "execution_count": 57,
   "metadata": {},
   "outputs": [
    {
     "name": "stdout",
     "output_type": "stream",
     "text": [
      "       fechas  dias\n",
      "0  01/05/2019     2\n",
      "1  02/05/2019     1\n"
     ]
    }
   ],
   "source": [
    "import pandas as pd \n",
    "dicc = {\n",
    "    'fechas': ['01/05/2019', '02/05/2019'], 'dias': [2, 1] }\n",
    "\n",
    "df = pd.DataFrame(dicc)\n",
    "print(df)"
   ]
  },
  {
   "cell_type": "code",
   "execution_count": 58,
   "metadata": {},
   "outputs": [],
   "source": [
    "fechas = df['fechas']\n",
    "dias = df['dias']"
   ]
  },
  {
   "cell_type": "code",
   "execution_count": 44,
   "metadata": {},
   "outputs": [
    {
     "name": "stdout",
     "output_type": "stream",
     "text": [
      "[datetime.datetime(2019, 5, 1, 0, 0), datetime.datetime(2019, 5, 2, 0, 0)]\n",
      "[datetime.timedelta(days=2), datetime.timedelta(days=1)]\n"
     ]
    }
   ],
   "source": [
    "lista_fechas = []\n",
    "for fecha in fechas: \n",
    "    fecha_cadena = fecha\n",
    "    fecha = datetime.strptime(fecha_cadena, '%d/%m/%Y')\n",
    "    lista_fechas.append(fecha)\n",
    "\n",
    "lista_dias = []\n",
    "for dia in dias: \n",
    "    td = timedelta(dia)\n",
    "    lista_dias.append(td)\n",
    "\n",
    "print(lista_fechas)\n",
    "print(lista_dias)"
   ]
  },
  {
   "cell_type": "code",
   "execution_count": 59,
   "metadata": {},
   "outputs": [
    {
     "name": "stdout",
     "output_type": "stream",
     "text": [
      "[datetime.datetime(2019, 4, 29, 0, 0), datetime.datetime(2019, 5, 1, 0, 0)]\n"
     ]
    }
   ],
   "source": [
    "#Diferencia entre fecha y n días\n",
    "lista_3 = []\n",
    "for i in range(len(lista_fechas)):\n",
    "    lista_3.append(lista_fechas[i] - lista_dias[i])\n",
    "\n",
    "print(lista_3)"
   ]
  },
  {
   "cell_type": "code",
   "execution_count": 60,
   "metadata": {},
   "outputs": [
    {
     "name": "stdout",
     "output_type": "stream",
     "text": [
      "['29/04/2019', '01/05/2019']\n"
     ]
    }
   ],
   "source": [
    "#Formato a la fecha final\n",
    "fecha_final = []\n",
    "for i in lista_3:\n",
    "    i = str(i)\n",
    "    año = i[0:4]\n",
    "    mes = i[5:7]\n",
    "    dia = i[8:10]\n",
    "    formato = f'{dia}/{mes}/{año}'\n",
    "    fecha_final.append(formato)\n",
    "\n",
    "print(fecha_final)"
   ]
  },
  {
   "cell_type": "code",
   "execution_count": 61,
   "metadata": {},
   "outputs": [
    {
     "name": "stdout",
     "output_type": "stream",
     "text": [
      "  FECHA_FINAL\n",
      "0  29/04/2019\n",
      "1  01/05/2019\n"
     ]
    }
   ],
   "source": [
    "#Transformo a DataFrame\n",
    "dicc = {'FECHA_FINAL' : fecha_final}\n",
    "\n",
    "df_fecha_final = pd.DataFrame(dicc)\n",
    "print(df_fecha_final)"
   ]
  },
  {
   "cell_type": "markdown",
   "metadata": {},
   "source": [
    "# Prueba"
   ]
  },
  {
   "cell_type": "code",
   "execution_count": 14,
   "metadata": {},
   "outputs": [
    {
     "name": "stdout",
     "output_type": "stream",
     "text": [
      "2020-04-23 00:00:00\n"
     ]
    }
   ],
   "source": [
    "from datetime import datetime, timedelta\n",
    "\n",
    "fecha_cadena = \"23/04/2020\"\n",
    "fecha = datetime.strptime(fecha_cadena, '%d/%m/%Y')\n",
    "# Ahora ya tenemos a una fecha con la cual podemos operar, ver días, meses, años, etcétera.\n"
   ]
  },
  {
   "cell_type": "code",
   "execution_count": 16,
   "metadata": {},
   "outputs": [
    {
     "name": "stdout",
     "output_type": "stream",
     "text": [
      "En 5 Días será:  2020-04-18 00:00:00\n"
     ]
    }
   ],
   "source": [
    "td = timedelta(5)\n",
    "print(\"En 5 Días será: \", fecha - td)"
   ]
  }
 ],
 "metadata": {
  "interpreter": {
   "hash": "4dbc7d319552f751da30033d7b4995c635b04ff01c80dae115406c1f1bb6c9c9"
  },
  "kernelspec": {
   "display_name": "Python 3.8.5 32-bit",
   "language": "python",
   "name": "python3"
  },
  "language_info": {
   "codemirror_mode": {
    "name": "ipython",
    "version": 3
   },
   "file_extension": ".py",
   "mimetype": "text/x-python",
   "name": "python",
   "nbconvert_exporter": "python",
   "pygments_lexer": "ipython3",
   "version": "3.8.5"
  },
  "orig_nbformat": 4
 },
 "nbformat": 4,
 "nbformat_minor": 2
}
