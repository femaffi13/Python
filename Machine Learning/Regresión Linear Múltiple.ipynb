{
 "cells": [
  {
   "cell_type": "markdown",
   "metadata": {},
   "source": [
    "# Regresión Linear Múltiple  \n",
    "Se manejan múltiples variables independientes que contribuyen a la variable dependiente. Se manejan múltiples coeficientes y es más compleja debido a las variables añadidas  \n",
    "  \n",
    "<img src=\"img/rlm.jpg\" alt=\"imagen\" width=\"450\" />"
   ]
  },
  {
   "cell_type": "code",
   "execution_count": null,
   "metadata": {},
   "outputs": [],
   "source": []
  }
 ],
 "metadata": {
  "language_info": {
   "name": "python"
  },
  "orig_nbformat": 4
 },
 "nbformat": 4,
 "nbformat_minor": 2
}
